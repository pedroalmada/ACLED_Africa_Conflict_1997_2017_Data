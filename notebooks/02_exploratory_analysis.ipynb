{
 "cells": [
  {
   "cell_type": "code",
   "execution_count": null,
   "metadata": {},
   "outputs": [],
   "source": [
    "fig = px.scatter_geo(df,\n",
    "                     lat=\"LATITUDE\",\n",
    "                     lon=\"LONGITUDE\",\n",
    "                     locations=\"Country\",\n",
    "                     locationmode=\"country names\",\n",
    "                     color=\"Number of fatalities\",\n",
    "                     color_discrete_map={\n",
    "                        \"None\": \"gray\",\n",
    "                        \"Between 1 and 10\": \"yellow\",\n",
    "                        \"Between 11 and 100\": \"orangered\",\n",
    "                        \"Between 101 and 1000\": \"darkred\",\n",
    "                        \"More than 1000\": \"black\"},\n",
    "                     hover_name=\"hover_name\",\n",
    "                     hover_data=hover_data,\n",
    "                     animation_frame=\"Year\",\n",
    "                     projection=\"natural earth\",\n",
    "                     scope=\"africa\",\n",
    "                     width=1000,\n",
    "                     height=750)\n",
    "fig.show()"
   ]
  },
  {
   "cell_type": "code",
   "execution_count": null,
   "metadata": {},
   "outputs": [],
   "source": []
  }
 ],
 "metadata": {
  "language_info": {
   "name": "python"
  }
 },
 "nbformat": 4,
 "nbformat_minor": 2
}
