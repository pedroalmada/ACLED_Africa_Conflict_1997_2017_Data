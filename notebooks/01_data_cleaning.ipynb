{
 "cells": [
  {
   "cell_type": "code",
   "execution_count": 2,
   "metadata": {},
   "outputs": [],
   "source": [
    "import pandas as pd"
   ]
  },
  {
   "cell_type": "code",
   "execution_count": 3,
   "metadata": {},
   "outputs": [],
   "source": [
    "file_path = \"../data/raw/african_conflicts.csv\""
   ]
  },
  {
   "cell_type": "code",
   "execution_count": 4,
   "metadata": {},
   "outputs": [
    {
     "name": "stderr",
     "output_type": "stream",
     "text": [
      "/var/folders/gg/y7njvgln6bd7wj2ygfmd_r580000gn/T/ipykernel_86077/67583881.py:1: DtypeWarning: Columns (21,23) have mixed types. Specify dtype option on import or set low_memory=False.\n",
      "  df = pd.read_csv(\"../data/raw/african_conflicts.csv\", encoding=\"ISO-8859-1\")\n"
     ]
    }
   ],
   "source": [
    "df = pd.read_csv(\"../data/raw/african_conflicts.csv\", encoding=\"ISO-8859-1\")\n",
    "#To load the file, I had to modify the pd.read by setting an specific encoding, this is because if not, and 'UnicodeDecodeError' happens due to Pandas was trying to read the file with \n",
    "#utf-8  encodiung, but because the file contains special characters that are encoded differntely. "
   ]
  },
  {
   "cell_type": "code",
   "execution_count": 5,
   "metadata": {},
   "outputs": [
    {
     "name": "stdout",
     "output_type": "stream",
     "text": [
      "<class 'pandas.core.frame.DataFrame'>\n",
      "RangeIndex: 165808 entries, 0 to 165807\n",
      "Data columns (total 28 columns):\n",
      " #   Column            Non-Null Count   Dtype  \n",
      "---  ------            --------------   -----  \n",
      " 0   ACTOR1            165808 non-null  object \n",
      " 1   ACTOR1_ID         140747 non-null  float64\n",
      " 2   ACTOR2            122255 non-null  object \n",
      " 3   ACTOR2_ID         140747 non-null  float64\n",
      " 4   ACTOR_DYAD_ID     140747 non-null  object \n",
      " 5   ADMIN1            165808 non-null  object \n",
      " 6   ADMIN2            165676 non-null  object \n",
      " 7   ADMIN3            86933 non-null   object \n",
      " 8   ALLY_ACTOR_1      28144 non-null   object \n",
      " 9   ALLY_ACTOR_2      19651 non-null   object \n",
      " 10  COUNTRY           165808 non-null  object \n",
      " 11  EVENT_DATE        165808 non-null  object \n",
      " 12  EVENT_ID_CNTY     165808 non-null  object \n",
      " 13  EVENT_ID_NO_CNTY  140747 non-null  float64\n",
      " 14  EVENT_TYPE        165808 non-null  object \n",
      " 15  FATALITIES        165808 non-null  int64  \n",
      " 16  GEO_PRECISION     165808 non-null  int64  \n",
      " 17  GWNO              165808 non-null  int64  \n",
      " 18  INTER1            165808 non-null  int64  \n",
      " 19  INTER2            165808 non-null  int64  \n",
      " 20  INTERACTION       165808 non-null  int64  \n",
      " 21  LATITUDE          165808 non-null  object \n",
      " 22  LOCATION          165805 non-null  object \n",
      " 23  LONGITUDE         165808 non-null  object \n",
      " 24  NOTES             155581 non-null  object \n",
      " 25  SOURCE            165635 non-null  object \n",
      " 26  TIME_PRECISION    165808 non-null  int64  \n",
      " 27  YEAR              165808 non-null  int64  \n",
      "dtypes: float64(3), int64(8), object(17)\n",
      "memory usage: 35.4+ MB\n",
      "None\n"
     ]
    },
    {
     "data": {
      "text/html": [
       "<div>\n",
       "<style scoped>\n",
       "    .dataframe tbody tr th:only-of-type {\n",
       "        vertical-align: middle;\n",
       "    }\n",
       "\n",
       "    .dataframe tbody tr th {\n",
       "        vertical-align: top;\n",
       "    }\n",
       "\n",
       "    .dataframe thead th {\n",
       "        text-align: right;\n",
       "    }\n",
       "</style>\n",
       "<table border=\"1\" class=\"dataframe\">\n",
       "  <thead>\n",
       "    <tr style=\"text-align: right;\">\n",
       "      <th></th>\n",
       "      <th>ACTOR1</th>\n",
       "      <th>ACTOR1_ID</th>\n",
       "      <th>ACTOR2</th>\n",
       "      <th>ACTOR2_ID</th>\n",
       "      <th>ACTOR_DYAD_ID</th>\n",
       "      <th>ADMIN1</th>\n",
       "      <th>ADMIN2</th>\n",
       "      <th>ADMIN3</th>\n",
       "      <th>ALLY_ACTOR_1</th>\n",
       "      <th>ALLY_ACTOR_2</th>\n",
       "      <th>...</th>\n",
       "      <th>INTER1</th>\n",
       "      <th>INTER2</th>\n",
       "      <th>INTERACTION</th>\n",
       "      <th>LATITUDE</th>\n",
       "      <th>LOCATION</th>\n",
       "      <th>LONGITUDE</th>\n",
       "      <th>NOTES</th>\n",
       "      <th>SOURCE</th>\n",
       "      <th>TIME_PRECISION</th>\n",
       "      <th>YEAR</th>\n",
       "    </tr>\n",
       "  </thead>\n",
       "  <tbody>\n",
       "    <tr>\n",
       "      <th>0</th>\n",
       "      <td>Police Forces of Algeria (1999-)</td>\n",
       "      <td>NaN</td>\n",
       "      <td>Civilians (Algeria)</td>\n",
       "      <td>NaN</td>\n",
       "      <td>NaN</td>\n",
       "      <td>Tizi Ouzou</td>\n",
       "      <td>Beni-Douala</td>\n",
       "      <td>NaN</td>\n",
       "      <td>NaN</td>\n",
       "      <td>Berber Ethnic Group (Algeria)</td>\n",
       "      <td>...</td>\n",
       "      <td>1</td>\n",
       "      <td>7</td>\n",
       "      <td>17</td>\n",
       "      <td>36.61954</td>\n",
       "      <td>Beni Douala</td>\n",
       "      <td>4.08282</td>\n",
       "      <td>A Berber student was shot while in police cust...</td>\n",
       "      <td>Associated Press Online</td>\n",
       "      <td>1</td>\n",
       "      <td>2001</td>\n",
       "    </tr>\n",
       "    <tr>\n",
       "      <th>1</th>\n",
       "      <td>Rioters (Algeria)</td>\n",
       "      <td>NaN</td>\n",
       "      <td>Police Forces of Algeria (1999-)</td>\n",
       "      <td>NaN</td>\n",
       "      <td>NaN</td>\n",
       "      <td>Tizi Ouzou</td>\n",
       "      <td>Tizi Ouzou</td>\n",
       "      <td>NaN</td>\n",
       "      <td>Berber Ethnic Group (Algeria)</td>\n",
       "      <td>NaN</td>\n",
       "      <td>...</td>\n",
       "      <td>5</td>\n",
       "      <td>1</td>\n",
       "      <td>15</td>\n",
       "      <td>36.71183</td>\n",
       "      <td>Tizi Ouzou</td>\n",
       "      <td>4.04591</td>\n",
       "      <td>Riots were reported in numerous villages in Ka...</td>\n",
       "      <td>Kabylie report</td>\n",
       "      <td>1</td>\n",
       "      <td>2001</td>\n",
       "    </tr>\n",
       "    <tr>\n",
       "      <th>2</th>\n",
       "      <td>Protesters (Algeria)</td>\n",
       "      <td>NaN</td>\n",
       "      <td>NaN</td>\n",
       "      <td>NaN</td>\n",
       "      <td>NaN</td>\n",
       "      <td>Bejaia</td>\n",
       "      <td>Amizour</td>\n",
       "      <td>NaN</td>\n",
       "      <td>Students (Algeria)</td>\n",
       "      <td>NaN</td>\n",
       "      <td>...</td>\n",
       "      <td>6</td>\n",
       "      <td>0</td>\n",
       "      <td>60</td>\n",
       "      <td>36.64022</td>\n",
       "      <td>Amizour</td>\n",
       "      <td>4.90131</td>\n",
       "      <td>Students protested in the Amizour area. At lea...</td>\n",
       "      <td>Crisis Group</td>\n",
       "      <td>1</td>\n",
       "      <td>2001</td>\n",
       "    </tr>\n",
       "    <tr>\n",
       "      <th>3</th>\n",
       "      <td>Rioters (Algeria)</td>\n",
       "      <td>NaN</td>\n",
       "      <td>Police Forces of Algeria (1999-)</td>\n",
       "      <td>NaN</td>\n",
       "      <td>NaN</td>\n",
       "      <td>Bejaia</td>\n",
       "      <td>Amizour</td>\n",
       "      <td>NaN</td>\n",
       "      <td>Berber Ethnic Group (Algeria)</td>\n",
       "      <td>NaN</td>\n",
       "      <td>...</td>\n",
       "      <td>5</td>\n",
       "      <td>1</td>\n",
       "      <td>15</td>\n",
       "      <td>36.64022</td>\n",
       "      <td>Amizour</td>\n",
       "      <td>4.90131</td>\n",
       "      <td>Rioters threw molotov cocktails, rocks and bur...</td>\n",
       "      <td>Kabylie report</td>\n",
       "      <td>1</td>\n",
       "      <td>2001</td>\n",
       "    </tr>\n",
       "    <tr>\n",
       "      <th>4</th>\n",
       "      <td>Rioters (Algeria)</td>\n",
       "      <td>NaN</td>\n",
       "      <td>Police Forces of Algeria (1999-)</td>\n",
       "      <td>NaN</td>\n",
       "      <td>NaN</td>\n",
       "      <td>Tizi Ouzou</td>\n",
       "      <td>Beni-Douala</td>\n",
       "      <td>NaN</td>\n",
       "      <td>Berber Ethnic Group (Algeria)</td>\n",
       "      <td>NaN</td>\n",
       "      <td>...</td>\n",
       "      <td>5</td>\n",
       "      <td>1</td>\n",
       "      <td>15</td>\n",
       "      <td>36.61954</td>\n",
       "      <td>Beni Douala</td>\n",
       "      <td>4.08282</td>\n",
       "      <td>Rioters threw molotov cocktails, rocks and bur...</td>\n",
       "      <td>Kabylie report</td>\n",
       "      <td>1</td>\n",
       "      <td>2001</td>\n",
       "    </tr>\n",
       "  </tbody>\n",
       "</table>\n",
       "<p>5 rows × 28 columns</p>\n",
       "</div>"
      ],
      "text/plain": [
       "                             ACTOR1  ACTOR1_ID  \\\n",
       "0  Police Forces of Algeria (1999-)        NaN   \n",
       "1                 Rioters (Algeria)        NaN   \n",
       "2              Protesters (Algeria)        NaN   \n",
       "3                 Rioters (Algeria)        NaN   \n",
       "4                 Rioters (Algeria)        NaN   \n",
       "\n",
       "                             ACTOR2  ACTOR2_ID ACTOR_DYAD_ID      ADMIN1  \\\n",
       "0               Civilians (Algeria)        NaN           NaN  Tizi Ouzou   \n",
       "1  Police Forces of Algeria (1999-)        NaN           NaN  Tizi Ouzou   \n",
       "2                               NaN        NaN           NaN      Bejaia   \n",
       "3  Police Forces of Algeria (1999-)        NaN           NaN      Bejaia   \n",
       "4  Police Forces of Algeria (1999-)        NaN           NaN  Tizi Ouzou   \n",
       "\n",
       "        ADMIN2 ADMIN3                   ALLY_ACTOR_1  \\\n",
       "0  Beni-Douala    NaN                            NaN   \n",
       "1   Tizi Ouzou    NaN  Berber Ethnic Group (Algeria)   \n",
       "2      Amizour    NaN             Students (Algeria)   \n",
       "3      Amizour    NaN  Berber Ethnic Group (Algeria)   \n",
       "4  Beni-Douala    NaN  Berber Ethnic Group (Algeria)   \n",
       "\n",
       "                    ALLY_ACTOR_2  ... INTER1 INTER2 INTERACTION  LATITUDE  \\\n",
       "0  Berber Ethnic Group (Algeria)  ...      1      7          17  36.61954   \n",
       "1                            NaN  ...      5      1          15  36.71183   \n",
       "2                            NaN  ...      6      0          60  36.64022   \n",
       "3                            NaN  ...      5      1          15  36.64022   \n",
       "4                            NaN  ...      5      1          15  36.61954   \n",
       "\n",
       "      LOCATION  LONGITUDE                                              NOTES  \\\n",
       "0  Beni Douala    4.08282  A Berber student was shot while in police cust...   \n",
       "1   Tizi Ouzou    4.04591  Riots were reported in numerous villages in Ka...   \n",
       "2      Amizour    4.90131  Students protested in the Amizour area. At lea...   \n",
       "3      Amizour    4.90131  Rioters threw molotov cocktails, rocks and bur...   \n",
       "4  Beni Douala    4.08282  Rioters threw molotov cocktails, rocks and bur...   \n",
       "\n",
       "                    SOURCE  TIME_PRECISION  YEAR  \n",
       "0  Associated Press Online               1  2001  \n",
       "1           Kabylie report               1  2001  \n",
       "2             Crisis Group               1  2001  \n",
       "3           Kabylie report               1  2001  \n",
       "4           Kabylie report               1  2001  \n",
       "\n",
       "[5 rows x 28 columns]"
      ]
     },
     "execution_count": 5,
     "metadata": {},
     "output_type": "execute_result"
    }
   ],
   "source": [
    "print(df.info())\n",
    "df.head()"
   ]
  },
  {
   "cell_type": "code",
   "execution_count": 6,
   "metadata": {},
   "outputs": [
    {
     "name": "stdout",
     "output_type": "stream",
     "text": [
      "<class 'pandas.core.frame.DataFrame'>\n",
      "RangeIndex: 165808 entries, 0 to 165807\n",
      "Data columns (total 28 columns):\n",
      " #   Column            Non-Null Count   Dtype  \n",
      "---  ------            --------------   -----  \n",
      " 0   ACTOR1            165808 non-null  object \n",
      " 1   ACTOR1_ID         140747 non-null  float64\n",
      " 2   ACTOR2            122255 non-null  object \n",
      " 3   ACTOR2_ID         140747 non-null  float64\n",
      " 4   ACTOR_DYAD_ID     140747 non-null  object \n",
      " 5   ADMIN1            165808 non-null  object \n",
      " 6   ADMIN2            165676 non-null  object \n",
      " 7   ADMIN3            86933 non-null   object \n",
      " 8   ALLY_ACTOR_1      28144 non-null   object \n",
      " 9   ALLY_ACTOR_2      19651 non-null   object \n",
      " 10  COUNTRY           165808 non-null  object \n",
      " 11  EVENT_DATE        165808 non-null  object \n",
      " 12  EVENT_ID_CNTY     165808 non-null  object \n",
      " 13  EVENT_ID_NO_CNTY  140747 non-null  float64\n",
      " 14  EVENT_TYPE        165808 non-null  object \n",
      " 15  FATALITIES        165808 non-null  int64  \n",
      " 16  GEO_PRECISION     165808 non-null  int64  \n",
      " 17  GWNO              165808 non-null  int64  \n",
      " 18  INTER1            165808 non-null  int64  \n",
      " 19  INTER2            165808 non-null  int64  \n",
      " 20  INTERACTION       165808 non-null  int64  \n",
      " 21  LATITUDE          165808 non-null  object \n",
      " 22  LOCATION          165805 non-null  object \n",
      " 23  LONGITUDE         165808 non-null  object \n",
      " 24  NOTES             155581 non-null  object \n",
      " 25  SOURCE            165635 non-null  object \n",
      " 26  TIME_PRECISION    165808 non-null  int64  \n",
      " 27  YEAR              165808 non-null  int64  \n",
      "dtypes: float64(3), int64(8), object(17)\n",
      "memory usage: 35.4+ MB\n"
     ]
    },
    {
     "data": {
      "text/html": [
       "<div>\n",
       "<style scoped>\n",
       "    .dataframe tbody tr th:only-of-type {\n",
       "        vertical-align: middle;\n",
       "    }\n",
       "\n",
       "    .dataframe tbody tr th {\n",
       "        vertical-align: top;\n",
       "    }\n",
       "\n",
       "    .dataframe thead th {\n",
       "        text-align: right;\n",
       "    }\n",
       "</style>\n",
       "<table border=\"1\" class=\"dataframe\">\n",
       "  <thead>\n",
       "    <tr style=\"text-align: right;\">\n",
       "      <th></th>\n",
       "      <th>ACTOR1_ID</th>\n",
       "      <th>ACTOR2_ID</th>\n",
       "      <th>EVENT_ID_NO_CNTY</th>\n",
       "      <th>FATALITIES</th>\n",
       "      <th>GEO_PRECISION</th>\n",
       "      <th>GWNO</th>\n",
       "      <th>INTER1</th>\n",
       "      <th>INTER2</th>\n",
       "      <th>INTERACTION</th>\n",
       "      <th>TIME_PRECISION</th>\n",
       "      <th>YEAR</th>\n",
       "    </tr>\n",
       "  </thead>\n",
       "  <tbody>\n",
       "    <tr>\n",
       "      <th>count</th>\n",
       "      <td>140747.000000</td>\n",
       "      <td>140747.000000</td>\n",
       "      <td>140747.000000</td>\n",
       "      <td>165808.000000</td>\n",
       "      <td>165808.000000</td>\n",
       "      <td>165808.000000</td>\n",
       "      <td>165808.000000</td>\n",
       "      <td>165808.000000</td>\n",
       "      <td>165808.000000</td>\n",
       "      <td>165808.000000</td>\n",
       "      <td>165808.000000</td>\n",
       "    </tr>\n",
       "    <tr>\n",
       "      <th>mean</th>\n",
       "      <td>2587.796692</td>\n",
       "      <td>1211.638820</td>\n",
       "      <td>70374.000000</td>\n",
       "      <td>4.420257</td>\n",
       "      <td>1.261061</td>\n",
       "      <td>538.296964</td>\n",
       "      <td>3.385500</td>\n",
       "      <td>3.193603</td>\n",
       "      <td>32.001604</td>\n",
       "      <td>1.138751</td>\n",
       "      <td>2010.760898</td>\n",
       "    </tr>\n",
       "    <tr>\n",
       "      <th>std</th>\n",
       "      <td>1030.065824</td>\n",
       "      <td>1242.978894</td>\n",
       "      <td>40630.303506</td>\n",
       "      <td>76.071441</td>\n",
       "      <td>0.524248</td>\n",
       "      <td>61.974200</td>\n",
       "      <td>2.033114</td>\n",
       "      <td>2.920635</td>\n",
       "      <td>18.284381</td>\n",
       "      <td>0.441038</td>\n",
       "      <td>5.897476</td>\n",
       "    </tr>\n",
       "    <tr>\n",
       "      <th>min</th>\n",
       "      <td>1.000000</td>\n",
       "      <td>0.000000</td>\n",
       "      <td>1.000000</td>\n",
       "      <td>0.000000</td>\n",
       "      <td>1.000000</td>\n",
       "      <td>404.000000</td>\n",
       "      <td>1.000000</td>\n",
       "      <td>0.000000</td>\n",
       "      <td>10.000000</td>\n",
       "      <td>1.000000</td>\n",
       "      <td>1997.000000</td>\n",
       "    </tr>\n",
       "    <tr>\n",
       "      <th>25%</th>\n",
       "      <td>2081.000000</td>\n",
       "      <td>0.000000</td>\n",
       "      <td>35187.500000</td>\n",
       "      <td>0.000000</td>\n",
       "      <td>1.000000</td>\n",
       "      <td>490.000000</td>\n",
       "      <td>1.000000</td>\n",
       "      <td>0.000000</td>\n",
       "      <td>15.000000</td>\n",
       "      <td>1.000000</td>\n",
       "      <td>2007.000000</td>\n",
       "    </tr>\n",
       "    <tr>\n",
       "      <th>50%</th>\n",
       "      <td>3043.000000</td>\n",
       "      <td>675.000000</td>\n",
       "      <td>70374.000000</td>\n",
       "      <td>0.000000</td>\n",
       "      <td>1.000000</td>\n",
       "      <td>520.000000</td>\n",
       "      <td>3.000000</td>\n",
       "      <td>2.000000</td>\n",
       "      <td>28.000000</td>\n",
       "      <td>1.000000</td>\n",
       "      <td>2013.000000</td>\n",
       "    </tr>\n",
       "    <tr>\n",
       "      <th>75%</th>\n",
       "      <td>3288.000000</td>\n",
       "      <td>2229.000000</td>\n",
       "      <td>105560.500000</td>\n",
       "      <td>1.000000</td>\n",
       "      <td>1.000000</td>\n",
       "      <td>615.000000</td>\n",
       "      <td>5.000000</td>\n",
       "      <td>7.000000</td>\n",
       "      <td>47.000000</td>\n",
       "      <td>1.000000</td>\n",
       "      <td>2016.000000</td>\n",
       "    </tr>\n",
       "    <tr>\n",
       "      <th>max</th>\n",
       "      <td>3960.000000</td>\n",
       "      <td>3960.000000</td>\n",
       "      <td>140747.000000</td>\n",
       "      <td>25000.000000</td>\n",
       "      <td>3.000000</td>\n",
       "      <td>651.000000</td>\n",
       "      <td>8.000000</td>\n",
       "      <td>8.000000</td>\n",
       "      <td>88.000000</td>\n",
       "      <td>3.000000</td>\n",
       "      <td>2017.000000</td>\n",
       "    </tr>\n",
       "  </tbody>\n",
       "</table>\n",
       "</div>"
      ],
      "text/plain": [
       "           ACTOR1_ID      ACTOR2_ID  EVENT_ID_NO_CNTY     FATALITIES  \\\n",
       "count  140747.000000  140747.000000     140747.000000  165808.000000   \n",
       "mean     2587.796692    1211.638820      70374.000000       4.420257   \n",
       "std      1030.065824    1242.978894      40630.303506      76.071441   \n",
       "min         1.000000       0.000000          1.000000       0.000000   \n",
       "25%      2081.000000       0.000000      35187.500000       0.000000   \n",
       "50%      3043.000000     675.000000      70374.000000       0.000000   \n",
       "75%      3288.000000    2229.000000     105560.500000       1.000000   \n",
       "max      3960.000000    3960.000000     140747.000000   25000.000000   \n",
       "\n",
       "       GEO_PRECISION           GWNO         INTER1         INTER2  \\\n",
       "count  165808.000000  165808.000000  165808.000000  165808.000000   \n",
       "mean        1.261061     538.296964       3.385500       3.193603   \n",
       "std         0.524248      61.974200       2.033114       2.920635   \n",
       "min         1.000000     404.000000       1.000000       0.000000   \n",
       "25%         1.000000     490.000000       1.000000       0.000000   \n",
       "50%         1.000000     520.000000       3.000000       2.000000   \n",
       "75%         1.000000     615.000000       5.000000       7.000000   \n",
       "max         3.000000     651.000000       8.000000       8.000000   \n",
       "\n",
       "         INTERACTION  TIME_PRECISION           YEAR  \n",
       "count  165808.000000   165808.000000  165808.000000  \n",
       "mean       32.001604        1.138751    2010.760898  \n",
       "std        18.284381        0.441038       5.897476  \n",
       "min        10.000000        1.000000    1997.000000  \n",
       "25%        15.000000        1.000000    2007.000000  \n",
       "50%        28.000000        1.000000    2013.000000  \n",
       "75%        47.000000        1.000000    2016.000000  \n",
       "max        88.000000        3.000000    2017.000000  "
      ]
     },
     "execution_count": 6,
     "metadata": {},
     "output_type": "execute_result"
    }
   ],
   "source": [
    "df.info()  # Check column names, data types, and missing values\n",
    "df.head()  # Display the first few rows\n",
    "df.describe()  # Summary statistics for numerical columns"
   ]
  },
  {
   "cell_type": "code",
   "execution_count": 7,
   "metadata": {},
   "outputs": [
    {
     "name": "stdout",
     "output_type": "stream",
     "text": [
      "ACTOR1_ID            25061\n",
      "ACTOR2               43553\n",
      "ACTOR2_ID            25061\n",
      "ACTOR_DYAD_ID        25061\n",
      "ADMIN2                 132\n",
      "ADMIN3               78875\n",
      "ALLY_ACTOR_1        137664\n",
      "ALLY_ACTOR_2        146157\n",
      "EVENT_ID_NO_CNTY     25061\n",
      "LOCATION                 3\n",
      "NOTES                10227\n",
      "SOURCE                 173\n",
      "dtype: int64\n"
     ]
    }
   ],
   "source": [
    "missing_values = df.isnull().sum()\n",
    "print(missing_values[missing_values > 0])  # Show only columns with missing values\n"
   ]
  },
  {
   "cell_type": "code",
   "execution_count": 8,
   "metadata": {},
   "outputs": [
    {
     "name": "stdout",
     "output_type": "stream",
     "text": [
      "Index(['ACTOR1', 'ACTOR1_ID', 'ACTOR2', 'ACTOR2_ID', 'ACTOR_DYAD_ID', 'ADMIN1',\n",
      "       'ADMIN2', 'ADMIN3', 'ALLY_ACTOR_1', 'ALLY_ACTOR_2', 'COUNTRY',\n",
      "       'EVENT_DATE', 'EVENT_ID_CNTY', 'EVENT_ID_NO_CNTY', 'EVENT_TYPE',\n",
      "       'FATALITIES', 'GEO_PRECISION', 'GWNO', 'INTER1', 'INTER2',\n",
      "       'INTERACTION', 'LATITUDE', 'LOCATION', 'LONGITUDE', 'NOTES', 'SOURCE',\n",
      "       'TIME_PRECISION', 'YEAR'],\n",
      "      dtype='object')\n"
     ]
    }
   ],
   "source": [
    "#checking column names\n",
    "print(df.columns)\n",
    "#this is to check for spaces in the columns\n"
   ]
  },
  {
   "cell_type": "code",
   "execution_count": 9,
   "metadata": {},
   "outputs": [],
   "source": [
    "df.columns = df.columns.str.strip()  # Remove leading/trailing spaces\n"
   ]
  },
  {
   "cell_type": "code",
   "execution_count": 10,
   "metadata": {},
   "outputs": [],
   "source": [
    "#Drop existing values \n",
    "df.drop(columns=['ALLY_ACTOR_1', 'ALLY_ACTOR_2', 'ADMIN3'], inplace=True, errors='ignore')\n",
    "#Use errors='ignore' to prevent the KeyError:\n"
   ]
  },
  {
   "cell_type": "code",
   "execution_count": 11,
   "metadata": {},
   "outputs": [],
   "source": [
    "#Making sure column exists before dropping \n",
    "columns_to_drop = ['ALLY_ACTOR_1', 'ALLY_ACTOR_2', 'ADMIN3']\n",
    "existing_columns = [col for col in columns_to_drop if col in df.columns]\n",
    "df.drop(columns=existing_columns, inplace=True)\n"
   ]
  },
  {
   "cell_type": "code",
   "execution_count": 12,
   "metadata": {},
   "outputs": [
    {
     "name": "stdout",
     "output_type": "stream",
     "text": [
      "ACTOR1                  0\n",
      "ACTOR1_ID           25061\n",
      "ACTOR2              43553\n",
      "ACTOR2_ID           25061\n",
      "ACTOR_DYAD_ID       25061\n",
      "ADMIN1                  0\n",
      "ADMIN2                132\n",
      "COUNTRY                 0\n",
      "EVENT_DATE              0\n",
      "EVENT_ID_CNTY           0\n",
      "EVENT_ID_NO_CNTY    25061\n",
      "EVENT_TYPE              0\n",
      "FATALITIES              0\n",
      "GEO_PRECISION           0\n",
      "GWNO                    0\n",
      "INTER1                  0\n",
      "INTER2                  0\n",
      "INTERACTION             0\n",
      "LATITUDE                0\n",
      "LOCATION                3\n",
      "LONGITUDE               0\n",
      "NOTES               10227\n",
      "SOURCE                173\n",
      "TIME_PRECISION          0\n",
      "YEAR                    0\n",
      "dtype: int64\n"
     ]
    }
   ],
   "source": [
    "print(df.isnull().sum())  # Ensure missing data is handled properly\n"
   ]
  },
  {
   "cell_type": "code",
   "execution_count": 13,
   "metadata": {},
   "outputs": [],
   "source": [
    "#Drop EVENT_ID_NO_CNTY, ACTOR1_ID, ACTOR2_ID, and ACTOR_DYAD_ID\n",
    "df.drop(columns=['EVENT_ID_NO_CNTY', 'ACTOR1_ID', 'ACTOR2_ID', 'ACTOR_DYAD_ID'], inplace=True)\n"
   ]
  },
  {
   "cell_type": "code",
   "execution_count": 14,
   "metadata": {},
   "outputs": [
    {
     "name": "stderr",
     "output_type": "stream",
     "text": [
      "/var/folders/gg/y7njvgln6bd7wj2ygfmd_r580000gn/T/ipykernel_86077/3029073581.py:3: FutureWarning: A value is trying to be set on a copy of a DataFrame or Series through chained assignment using an inplace method.\n",
      "The behavior will change in pandas 3.0. This inplace method will never work because the intermediate object on which we are setting values always behaves as a copy.\n",
      "\n",
      "For example, when doing 'df[col].method(value, inplace=True)', try using 'df.method({col: value}, inplace=True)' or df[col] = df[col].method(value) instead, to perform the operation inplace on the original object.\n",
      "\n",
      "\n",
      "  df['ACTOR2'].fillna('Unknown', inplace=True)\n",
      "/var/folders/gg/y7njvgln6bd7wj2ygfmd_r580000gn/T/ipykernel_86077/3029073581.py:4: FutureWarning: A value is trying to be set on a copy of a DataFrame or Series through chained assignment using an inplace method.\n",
      "The behavior will change in pandas 3.0. This inplace method will never work because the intermediate object on which we are setting values always behaves as a copy.\n",
      "\n",
      "For example, when doing 'df[col].method(value, inplace=True)', try using 'df.method({col: value}, inplace=True)' or df[col] = df[col].method(value) instead, to perform the operation inplace on the original object.\n",
      "\n",
      "\n",
      "  df['ADMIN2'].fillna('Unknown', inplace=True)\n",
      "/var/folders/gg/y7njvgln6bd7wj2ygfmd_r580000gn/T/ipykernel_86077/3029073581.py:5: FutureWarning: A value is trying to be set on a copy of a DataFrame or Series through chained assignment using an inplace method.\n",
      "The behavior will change in pandas 3.0. This inplace method will never work because the intermediate object on which we are setting values always behaves as a copy.\n",
      "\n",
      "For example, when doing 'df[col].method(value, inplace=True)', try using 'df.method({col: value}, inplace=True)' or df[col] = df[col].method(value) instead, to perform the operation inplace on the original object.\n",
      "\n",
      "\n",
      "  df['LOCATION'].fillna('Unknown', inplace=True)\n",
      "/var/folders/gg/y7njvgln6bd7wj2ygfmd_r580000gn/T/ipykernel_86077/3029073581.py:6: FutureWarning: A value is trying to be set on a copy of a DataFrame or Series through chained assignment using an inplace method.\n",
      "The behavior will change in pandas 3.0. This inplace method will never work because the intermediate object on which we are setting values always behaves as a copy.\n",
      "\n",
      "For example, when doing 'df[col].method(value, inplace=True)', try using 'df.method({col: value}, inplace=True)' or df[col] = df[col].method(value) instead, to perform the operation inplace on the original object.\n",
      "\n",
      "\n",
      "  df['SOURCE'].fillna('Unknown', inplace=True)\n"
     ]
    }
   ],
   "source": [
    "#Fill Missing Values in Categorical Columns\n",
    "#filling missing values with 'unknowkn' for categorical features where missing values might just mean \"not reported.\"\n",
    "df['ACTOR2'].fillna('Unknown', inplace=True)\n",
    "df['ADMIN2'].fillna('Unknown', inplace=True)\n",
    "df['LOCATION'].fillna('Unknown', inplace=True)\n",
    "df['SOURCE'].fillna('Unknown', inplace=True)\n"
   ]
  },
  {
   "cell_type": "code",
   "execution_count": 15,
   "metadata": {},
   "outputs": [
    {
     "name": "stderr",
     "output_type": "stream",
     "text": [
      "/var/folders/gg/y7njvgln6bd7wj2ygfmd_r580000gn/T/ipykernel_86077/3772339072.py:3: FutureWarning: A value is trying to be set on a copy of a DataFrame or Series through chained assignment using an inplace method.\n",
      "The behavior will change in pandas 3.0. This inplace method will never work because the intermediate object on which we are setting values always behaves as a copy.\n",
      "\n",
      "For example, when doing 'df[col].method(value, inplace=True)', try using 'df.method({col: value}, inplace=True)' or df[col] = df[col].method(value) instead, to perform the operation inplace on the original object.\n",
      "\n",
      "\n",
      "  df['NOTES'].fillna('No information available', inplace=True)\n"
     ]
    }
   ],
   "source": [
    "#Fill Missing Values in NOTES Column\n",
    "#Since NOTES contains text descriptions of events, a reasonable approach is to replace missing values with \"No information available\" rather than dropping the column.\n",
    "df['NOTES'].fillna('No information available', inplace=True)\n"
   ]
  },
  {
   "cell_type": "code",
   "execution_count": 16,
   "metadata": {},
   "outputs": [
    {
     "name": "stdout",
     "output_type": "stream",
     "text": [
      "ACTOR1            0\n",
      "ACTOR2            0\n",
      "ADMIN1            0\n",
      "ADMIN2            0\n",
      "COUNTRY           0\n",
      "EVENT_DATE        0\n",
      "EVENT_ID_CNTY     0\n",
      "EVENT_TYPE        0\n",
      "FATALITIES        0\n",
      "GEO_PRECISION     0\n",
      "GWNO              0\n",
      "INTER1            0\n",
      "INTER2            0\n",
      "INTERACTION       0\n",
      "LATITUDE          0\n",
      "LOCATION          0\n",
      "LONGITUDE         0\n",
      "NOTES             0\n",
      "SOURCE            0\n",
      "TIME_PRECISION    0\n",
      "YEAR              0\n",
      "dtype: int64\n"
     ]
    }
   ],
   "source": [
    "#verifying that all missing values are handled \n",
    "print(df.isnull().sum())  # This should now show all zeros!\n"
   ]
  },
  {
   "cell_type": "code",
   "execution_count": 17,
   "metadata": {},
   "outputs": [],
   "source": [
    "df.columns = df.columns.str.lower().str.replace(\" \", \"_\")\n",
    "#Standarizing column names \n"
   ]
  },
  {
   "cell_type": "code",
   "execution_count": 18,
   "metadata": {},
   "outputs": [],
   "source": [
    "df.duplicated().sum()  # Count duplicates\n",
    "df.drop_duplicates(inplace=True)  # Remove duplicates\n"
   ]
  },
  {
   "cell_type": "code",
   "execution_count": 19,
   "metadata": {},
   "outputs": [
    {
     "name": "stderr",
     "output_type": "stream",
     "text": [
      "/var/folders/gg/y7njvgln6bd7wj2ygfmd_r580000gn/T/ipykernel_86077/2088706453.py:2: UserWarning: Parsing dates in %d/%m/%Y format when dayfirst=False (the default) was specified. Pass `dayfirst=True` or specify a format to silence this warning.\n",
      "  df[\"event_date\"] = pd.to_datetime(df[\"event_date\"], errors=\"coerce\")\n"
     ]
    }
   ],
   "source": [
    "#Convert Date Columns to Datetime Format\n",
    "df[\"event_date\"] = pd.to_datetime(df[\"event_date\"], errors=\"coerce\")\n"
   ]
  },
  {
   "cell_type": "code",
   "execution_count": 20,
   "metadata": {},
   "outputs": [
    {
     "name": "stdout",
     "output_type": "stream",
     "text": [
      "event_type\n",
      "Riots/Protests                                47224\n",
      "Violence against civilians                    45021\n",
      "Battle-No change of territory                 44005\n",
      "Strategic development                         10923\n",
      "Remote violence                               10456\n",
      "Battle-Government regains territory            2632\n",
      "Non-violent transfer of territory              2566\n",
      "Battle-Non-state actor overtakes territory     2135\n",
      "Headquarters or base established                771\n",
      "Remote Violence                                  30\n",
      "Violence Against Civilians                       21\n",
      "Battle-no change of territory                    16\n",
      "Strategic Development                             7\n",
      "Strategic development                             1\n",
      "Name: count, dtype: int64\n",
      "country\n",
      "Somalia                         25232\n",
      "Democratic Republic of Congo    12294\n",
      "Nigeria                         12253\n",
      "Sudan                           12018\n",
      "South Africa                    10887\n",
      "Egypt                            9290\n",
      "Burundi                          7396\n",
      "Libya                            6532\n",
      "Zimbabwe                         6001\n",
      "Kenya                            5812\n",
      "Algeria                          5309\n",
      "Uganda                           5185\n",
      "South Sudan                      5144\n",
      "Ethiopia                         5035\n",
      "Sierra Leone                     4669\n",
      "Tunisia                          4493\n",
      "Central African Republic         3973\n",
      "Angola                           3181\n",
      "Ivory Coast                      1804\n",
      "Mali                             1753\n",
      "Liberia                          1369\n",
      "Morocco                          1355\n",
      "Zambia                           1289\n",
      "Senegal                          1132\n",
      "Madagascar                       1064\n",
      "Burkina Faso                     1032\n",
      "Cameroon                          937\n",
      "Guinea                            894\n",
      "Mozambique                        886\n",
      "Namibia                           754\n",
      "Tanzania                          746\n",
      "Chad                              732\n",
      "Ghana                             671\n",
      "Niger                             660\n",
      "Rwanda                            633\n",
      "Republic of Congo                 473\n",
      "Mauritania                        467\n",
      "Malawi                            434\n",
      "Eritrea                           408\n",
      "Togo                              258\n",
      "Guinea-Bissau                     233\n",
      "Gabon                             215\n",
      "Swaziland                         198\n",
      "Gambia                            190\n",
      "Benin                             187\n",
      "Lesotho                           118\n",
      "Djibouti                          112\n",
      "Botswana                           53\n",
      "Equatorial Guinea                  46\n",
      "Mozambique                          1\n",
      "Name: count, dtype: int64\n"
     ]
    }
   ],
   "source": [
    "#Basic Exploratory Data Analysis (EDA)\n",
    "print(df[\"event_type\"].value_counts())  # Count unique event types\n",
    "print(df[\"country\"].value_counts())  # See event distribution per country\n"
   ]
  },
  {
   "cell_type": "code",
   "execution_count": 21,
   "metadata": {},
   "outputs": [
    {
     "data": {
      "text/html": [
       "<div>\n",
       "<style scoped>\n",
       "    .dataframe tbody tr th:only-of-type {\n",
       "        vertical-align: middle;\n",
       "    }\n",
       "\n",
       "    .dataframe tbody tr th {\n",
       "        vertical-align: top;\n",
       "    }\n",
       "\n",
       "    .dataframe thead th {\n",
       "        text-align: right;\n",
       "    }\n",
       "</style>\n",
       "<table border=\"1\" class=\"dataframe\">\n",
       "  <thead>\n",
       "    <tr style=\"text-align: right;\">\n",
       "      <th></th>\n",
       "      <th>event_date</th>\n",
       "      <th>fatalities</th>\n",
       "      <th>geo_precision</th>\n",
       "      <th>gwno</th>\n",
       "      <th>inter1</th>\n",
       "      <th>inter2</th>\n",
       "      <th>interaction</th>\n",
       "      <th>time_precision</th>\n",
       "      <th>year</th>\n",
       "    </tr>\n",
       "  </thead>\n",
       "  <tbody>\n",
       "    <tr>\n",
       "      <th>count</th>\n",
       "      <td>165808</td>\n",
       "      <td>165808.000000</td>\n",
       "      <td>165808.000000</td>\n",
       "      <td>165808.000000</td>\n",
       "      <td>165808.000000</td>\n",
       "      <td>165808.000000</td>\n",
       "      <td>165808.000000</td>\n",
       "      <td>165808.000000</td>\n",
       "      <td>165808.000000</td>\n",
       "    </tr>\n",
       "    <tr>\n",
       "      <th>mean</th>\n",
       "      <td>2011-03-26 18:33:14.711955968</td>\n",
       "      <td>4.420257</td>\n",
       "      <td>1.261061</td>\n",
       "      <td>538.296964</td>\n",
       "      <td>3.385500</td>\n",
       "      <td>3.193603</td>\n",
       "      <td>32.001604</td>\n",
       "      <td>1.138751</td>\n",
       "      <td>2010.760898</td>\n",
       "    </tr>\n",
       "    <tr>\n",
       "      <th>min</th>\n",
       "      <td>1997-01-01 00:00:00</td>\n",
       "      <td>0.000000</td>\n",
       "      <td>1.000000</td>\n",
       "      <td>404.000000</td>\n",
       "      <td>1.000000</td>\n",
       "      <td>0.000000</td>\n",
       "      <td>10.000000</td>\n",
       "      <td>1.000000</td>\n",
       "      <td>1997.000000</td>\n",
       "    </tr>\n",
       "    <tr>\n",
       "      <th>25%</th>\n",
       "      <td>2007-10-22 00:00:00</td>\n",
       "      <td>0.000000</td>\n",
       "      <td>1.000000</td>\n",
       "      <td>490.000000</td>\n",
       "      <td>1.000000</td>\n",
       "      <td>0.000000</td>\n",
       "      <td>15.000000</td>\n",
       "      <td>1.000000</td>\n",
       "      <td>2007.000000</td>\n",
       "    </tr>\n",
       "    <tr>\n",
       "      <th>50%</th>\n",
       "      <td>2013-08-03 00:00:00</td>\n",
       "      <td>0.000000</td>\n",
       "      <td>1.000000</td>\n",
       "      <td>520.000000</td>\n",
       "      <td>3.000000</td>\n",
       "      <td>2.000000</td>\n",
       "      <td>28.000000</td>\n",
       "      <td>1.000000</td>\n",
       "      <td>2013.000000</td>\n",
       "    </tr>\n",
       "    <tr>\n",
       "      <th>75%</th>\n",
       "      <td>2016-01-06 00:00:00</td>\n",
       "      <td>1.000000</td>\n",
       "      <td>1.000000</td>\n",
       "      <td>615.000000</td>\n",
       "      <td>5.000000</td>\n",
       "      <td>7.000000</td>\n",
       "      <td>47.000000</td>\n",
       "      <td>1.000000</td>\n",
       "      <td>2016.000000</td>\n",
       "    </tr>\n",
       "    <tr>\n",
       "      <th>max</th>\n",
       "      <td>2017-07-29 00:00:00</td>\n",
       "      <td>25000.000000</td>\n",
       "      <td>3.000000</td>\n",
       "      <td>651.000000</td>\n",
       "      <td>8.000000</td>\n",
       "      <td>8.000000</td>\n",
       "      <td>88.000000</td>\n",
       "      <td>3.000000</td>\n",
       "      <td>2017.000000</td>\n",
       "    </tr>\n",
       "    <tr>\n",
       "      <th>std</th>\n",
       "      <td>NaN</td>\n",
       "      <td>76.071441</td>\n",
       "      <td>0.524248</td>\n",
       "      <td>61.974200</td>\n",
       "      <td>2.033114</td>\n",
       "      <td>2.920635</td>\n",
       "      <td>18.284381</td>\n",
       "      <td>0.441038</td>\n",
       "      <td>5.897476</td>\n",
       "    </tr>\n",
       "  </tbody>\n",
       "</table>\n",
       "</div>"
      ],
      "text/plain": [
       "                          event_date     fatalities  geo_precision  \\\n",
       "count                         165808  165808.000000  165808.000000   \n",
       "mean   2011-03-26 18:33:14.711955968       4.420257       1.261061   \n",
       "min              1997-01-01 00:00:00       0.000000       1.000000   \n",
       "25%              2007-10-22 00:00:00       0.000000       1.000000   \n",
       "50%              2013-08-03 00:00:00       0.000000       1.000000   \n",
       "75%              2016-01-06 00:00:00       1.000000       1.000000   \n",
       "max              2017-07-29 00:00:00   25000.000000       3.000000   \n",
       "std                              NaN      76.071441       0.524248   \n",
       "\n",
       "                gwno         inter1         inter2    interaction  \\\n",
       "count  165808.000000  165808.000000  165808.000000  165808.000000   \n",
       "mean      538.296964       3.385500       3.193603      32.001604   \n",
       "min       404.000000       1.000000       0.000000      10.000000   \n",
       "25%       490.000000       1.000000       0.000000      15.000000   \n",
       "50%       520.000000       3.000000       2.000000      28.000000   \n",
       "75%       615.000000       5.000000       7.000000      47.000000   \n",
       "max       651.000000       8.000000       8.000000      88.000000   \n",
       "std        61.974200       2.033114       2.920635      18.284381   \n",
       "\n",
       "       time_precision           year  \n",
       "count   165808.000000  165808.000000  \n",
       "mean         1.138751    2010.760898  \n",
       "min          1.000000    1997.000000  \n",
       "25%          1.000000    2007.000000  \n",
       "50%          1.000000    2013.000000  \n",
       "75%          1.000000    2016.000000  \n",
       "max          3.000000    2017.000000  \n",
       "std          0.441038       5.897476  "
      ]
     },
     "execution_count": 21,
     "metadata": {},
     "output_type": "execute_result"
    }
   ],
   "source": [
    "# Summary statistics for numerical columns\n",
    "df.describe()\n"
   ]
  },
  {
   "cell_type": "code",
   "execution_count": 22,
   "metadata": {},
   "outputs": [
    {
     "name": "stdout",
     "output_type": "stream",
     "text": [
      "Index(['actor1', 'actor2', 'admin1', 'admin2', 'country', 'event_date',\n",
      "       'event_id_cnty', 'event_type', 'fatalities', 'geo_precision', 'gwno',\n",
      "       'inter1', 'inter2', 'interaction', 'latitude', 'location', 'longitude',\n",
      "       'notes', 'source', 'time_precision', 'year'],\n",
      "      dtype='object')\n"
     ]
    }
   ],
   "source": [
    "print(df.columns)\n"
   ]
  },
  {
   "cell_type": "code",
   "execution_count": 23,
   "metadata": {},
   "outputs": [],
   "source": [
    "df.columns = df.columns.str.upper()  # Convert all column names to uppercase\n",
    "#I had to convertr all column names to upper because the code bellow was showing an error, and that was because it is case sensitive. \n"
   ]
  },
  {
   "cell_type": "code",
   "execution_count": 24,
   "metadata": {},
   "outputs": [
    {
     "name": "stdout",
     "output_type": "stream",
     "text": [
      "EVENT_TYPE: 14 unique values\n",
      "COUNTRY: 50 unique values\n",
      "ADMIN1: 735 unique values\n",
      "ACTOR1: 3288 unique values\n",
      "ACTOR2: 2828 unique values\n"
     ]
    }
   ],
   "source": [
    "# Count unique values for categorical columns\n",
    "categorical_columns = ['EVENT_TYPE', 'COUNTRY', 'ADMIN1', 'ACTOR1', 'ACTOR2']\n",
    "for col in categorical_columns:\n",
    "    print(f\"{col}: {df[col].nunique()} unique values\")\n"
   ]
  },
  {
   "cell_type": "code",
   "execution_count": 25,
   "metadata": {},
   "outputs": [
    {
     "name": "stdout",
     "output_type": "stream",
     "text": [
      "EVENT_TYPE\n",
      "Riots/Protests                                47224\n",
      "Violence against civilians                    45021\n",
      "Battle-No change of territory                 44005\n",
      "Strategic development                         10923\n",
      "Remote violence                               10456\n",
      "Battle-Government regains territory            2632\n",
      "Non-violent transfer of territory              2566\n",
      "Battle-Non-state actor overtakes territory     2135\n",
      "Headquarters or base established                771\n",
      "Remote Violence                                  30\n",
      "Name: count, dtype: int64\n",
      "COUNTRY\n",
      "Somalia                         25232\n",
      "Democratic Republic of Congo    12294\n",
      "Nigeria                         12253\n",
      "Sudan                           12018\n",
      "South Africa                    10887\n",
      "Egypt                            9290\n",
      "Burundi                          7396\n",
      "Libya                            6532\n",
      "Zimbabwe                         6001\n",
      "Kenya                            5812\n",
      "Name: count, dtype: int64\n",
      "ACTOR1\n",
      "Unidentified Armed Group (Somalia)    5896\n",
      "Protesters (South Africa)             5215\n",
      "Military Forces of Somalia (2012-)    4484\n",
      "Rioters (South Africa)                3834\n",
      "Al Shabaab                            3347\n",
      "Protesters (Egypt)                    3161\n",
      "Military Forces of Sudan (1989-)      3073\n",
      "Protesters (Nigeria)                  2961\n",
      "LRA: Lords Resistance Army            2842\n",
      "Protesters (Tunisia)                  2693\n",
      "Name: count, dtype: int64\n"
     ]
    }
   ],
   "source": [
    "#Find the most frequent values in key columns \n",
    "# Most common event types\n",
    "print(df['EVENT_TYPE'].value_counts().head(10))\n",
    "\n",
    "# Most affected countries\n",
    "print(df['COUNTRY'].value_counts().head(10))\n",
    "\n",
    "# Most frequent actors in conflicts\n",
    "print(df['ACTOR1'].value_counts().head(10))\n"
   ]
  },
  {
   "cell_type": "code",
   "execution_count": 26,
   "metadata": {},
   "outputs": [
    {
     "data": {
      "text/plain": [
       "count    165808.000000\n",
       "mean          4.420257\n",
       "std          76.071441\n",
       "min           0.000000\n",
       "25%           0.000000\n",
       "50%           0.000000\n",
       "75%           1.000000\n",
       "max       25000.000000\n",
       "Name: FATALITIES, dtype: float64"
      ]
     },
     "execution_count": 26,
     "metadata": {},
     "output_type": "execute_result"
    }
   ],
   "source": [
    "#Checking the distribution of fatalities \n",
    "# Check the distribution of fatalities\n",
    "df['FATALITIES'].describe()\n"
   ]
  },
  {
   "cell_type": "code",
   "execution_count": 27,
   "metadata": {},
   "outputs": [],
   "source": [
    "#DATA VIZ "
   ]
  },
  {
   "cell_type": "code",
   "execution_count": 28,
   "metadata": {},
   "outputs": [],
   "source": [
    "import matplotlib.pyplot as plt\n",
    "import seaborn as sns"
   ]
  },
  {
   "cell_type": "code",
   "execution_count": 29,
   "metadata": {},
   "outputs": [
    {
     "name": "stderr",
     "output_type": "stream",
     "text": [
      "/var/folders/gg/y7njvgln6bd7wj2ygfmd_r580000gn/T/ipykernel_86077/3039830590.py:4: FutureWarning: \n",
      "\n",
      "Passing `palette` without assigning `hue` is deprecated and will be removed in v0.14.0. Assign the `y` variable to `hue` and set `legend=False` for the same effect.\n",
      "\n",
      "  sns.countplot(y=df['EVENT_TYPE'], order=df['EVENT_TYPE'].value_counts().index, palette='viridis')\n"
     ]
    },
    {
     "data": {
      "image/png": "[encoded data removed]",
      "text/plain": [
       "<Figure size 1200x600 with 1 Axes>"
      ]
     },
     "metadata": {},
     "output_type": "display_data"
    }
   ],
   "source": [
    "#EVENT TYPE DISTRIBUTION \n",
    "\n",
    "plt.figure(figsize=(12, 6))\n",
    "sns.countplot(y=df['EVENT_TYPE'], order=df['EVENT_TYPE'].value_counts().index, palette='viridis')\n",
    "plt.title('Distribution of Event Types')\n",
    "plt.xlabel('Count')\n",
    "plt.ylabel('Event Type')\n",
    "plt.show()\n"
   ]
  },
  {
   "cell_type": "code",
   "execution_count": 31,
   "metadata": {},
   "outputs": [
    {
     "name": "stderr",
     "output_type": "stream",
     "text": [
      "/var/folders/gg/y7njvgln6bd7wj2ygfmd_r580000gn/T/ipykernel_86077/418306813.py:5: FutureWarning: \n",
      "\n",
      "The `ci` parameter is deprecated. Use `errorbar=None` for the same effect.\n",
      "\n",
      "  sns.lineplot(data=df, x=\"YEAR\", y=\"FATALITIES\", estimator='sum', ci=None, marker=\"o\", color='red')\n"
     ]
    },
    {
     "data": {
      "image/png": "[encoded data removed]",
      "text/plain": [
       "<Figure size 1200x600 with 1 Axes>"
      ]
     },
     "metadata": {},
     "output_type": "display_data"
    }
   ],
   "source": [
    "#Fatalities over time \n",
    "plt.figure(figsize=(12, 6))\n",
    "\n",
    "# Line plot for Fatalities over the Years\n",
    "sns.lineplot(data=df, x=\"YEAR\", y=\"FATALITIES\", estimator='sum', ci=None, marker=\"o\", color='red')\n",
    "\n",
    "# Title and labels\n",
    "plt.title(\"Fatalities Over Time (1997-2017)\", fontsize=14)\n",
    "plt.xlabel(\"Year\", fontsize=12)\n",
    "plt.ylabel(\"Total Fatalities\", fontsize=12)\n",
    "\n",
    "# Show the plot\n",
    "plt.show()\n"
   ]
  },
  {
   "cell_type": "code",
   "execution_count": 36,
   "metadata": {},
   "outputs": [
    {
     "name": "stdout",
     "output_type": "stream",
     "text": [
      "Index(['ACTOR1', 'ACTOR2', 'ADMIN1', 'ADMIN2', 'COUNTRY', 'EVENT_DATE',\n",
      "       'EVENT_ID_CNTY', 'EVENT_TYPE', 'FATALITIES', 'GEO_PRECISION', 'GWNO',\n",
      "       'INTER1', 'INTER2', 'INTERACTION', 'LATITUDE', 'LOCATION', 'LONGITUDE',\n",
      "       'NOTES', 'SOURCE', 'TIME_PRECISION', 'YEAR'],\n",
      "      dtype='object')\n"
     ]
    }
   ],
   "source": [
    "print(df.columns)\n"
   ]
  },
  {
   "cell_type": "code",
   "execution_count": 37,
   "metadata": {},
   "outputs": [
    {
     "name": "stdout",
     "output_type": "stream",
     "text": [
      "['Violence against civilians', 'Riots/Protests', 'Battle-No change of territory', 'Strategic development', 'Remote violence', ..., 'Battle-Government regains territory', 'Remote Violence', 'Violence Against Civilians', 'Strategic Development', 'Strategic development ']\n",
      "Length: 14\n",
      "Categories (14, object): ['Battle-Government regains territory', 'Battle-No change of territory', 'Battle-Non-state actor overtakes territory', 'Battle-no change of territory', ..., 'Strategic development', 'Strategic development ', 'Violence Against Civilians', 'Violence against civilians']\n",
      "category\n"
     ]
    }
   ],
   "source": [
    "print(df['EVENT_TYPE'].unique())\n",
    "print(df['EVENT_TYPE'].dtype)\n"
   ]
  },
  {
   "cell_type": "code",
   "execution_count": 38,
   "metadata": {},
   "outputs": [],
   "source": [
    "df['EVENT_TYPE'] = df['EVENT_TYPE'].astype(str).fillna(\"Unknown\")\n",
    "df['EVENT_TYPE'] = df['EVENT_TYPE'].astype('category')\n"
   ]
  },
  {
   "cell_type": "code",
   "execution_count": 39,
   "metadata": {},
   "outputs": [
    {
     "ename": "TypeError",
     "evalue": "'value' must be an instance of str or bytes, not a float",
     "output_type": "error",
     "traceback": [
      "\u001b[0;31m---------------------------------------------------------------------------\u001b[0m",
      "\u001b[0;31mTypeError\u001b[0m                                 Traceback (most recent call last)",
      "Cell \u001b[0;32mIn[39], line 7\u001b[0m\n\u001b[1;32m      4\u001b[0m plt\u001b[38;5;241m.\u001b[39mfigure(figsize\u001b[38;5;241m=\u001b[39m(\u001b[38;5;241m12\u001b[39m, \u001b[38;5;241m8\u001b[39m))\n\u001b[1;32m      6\u001b[0m \u001b[38;5;66;03m# Scatter plot of conflicts based on latitude and longitude\u001b[39;00m\n\u001b[0;32m----> 7\u001b[0m \u001b[43msns\u001b[49m\u001b[38;5;241;43m.\u001b[39;49m\u001b[43mscatterplot\u001b[49m\u001b[43m(\u001b[49m\u001b[43mdata\u001b[49m\u001b[38;5;241;43m=\u001b[39;49m\u001b[43mdf\u001b[49m\u001b[43m,\u001b[49m\u001b[43m \u001b[49m\u001b[43mx\u001b[49m\u001b[38;5;241;43m=\u001b[39;49m\u001b[38;5;124;43m\"\u001b[39;49m\u001b[38;5;124;43mLONGITUDE\u001b[39;49m\u001b[38;5;124;43m\"\u001b[39;49m\u001b[43m,\u001b[49m\u001b[43m \u001b[49m\u001b[43my\u001b[49m\u001b[38;5;241;43m=\u001b[39;49m\u001b[38;5;124;43m\"\u001b[39;49m\u001b[38;5;124;43mLATITUDE\u001b[39;49m\u001b[38;5;124;43m\"\u001b[39;49m\u001b[43m,\u001b[49m\u001b[43m \u001b[49m\u001b[43mhue\u001b[49m\u001b[38;5;241;43m=\u001b[39;49m\u001b[38;5;124;43m\"\u001b[39;49m\u001b[38;5;124;43mEVENT_TYPE\u001b[39;49m\u001b[38;5;124;43m\"\u001b[39;49m\u001b[43m,\u001b[49m\u001b[43m \u001b[49m\u001b[43malpha\u001b[49m\u001b[38;5;241;43m=\u001b[39;49m\u001b[38;5;241;43m0.5\u001b[39;49m\u001b[43m,\u001b[49m\u001b[43m \u001b[49m\u001b[43mpalette\u001b[49m\u001b[38;5;241;43m=\u001b[39;49m\u001b[38;5;124;43m\"\u001b[39;49m\u001b[38;5;124;43mviridis\u001b[39;49m\u001b[38;5;124;43m\"\u001b[39;49m\u001b[43m)\u001b[49m\n\u001b[1;32m      9\u001b[0m \u001b[38;5;66;03m# Title and labels\u001b[39;00m\n\u001b[1;32m     10\u001b[0m plt\u001b[38;5;241m.\u001b[39mtitle(\u001b[38;5;124m\"\u001b[39m\u001b[38;5;124mGeographical Distribution of Events\u001b[39m\u001b[38;5;124m\"\u001b[39m, fontsize\u001b[38;5;241m=\u001b[39m\u001b[38;5;241m14\u001b[39m)\n",
      "File \u001b[0;32m~/anaconda3/envs/venv_p/lib/python3.12/site-packages/seaborn/relational.py:631\u001b[0m, in \u001b[0;36mscatterplot\u001b[0;34m(data, x, y, hue, size, style, palette, hue_order, hue_norm, sizes, size_order, size_norm, markers, style_order, legend, ax, **kwargs)\u001b[0m\n\u001b[1;32m    628\u001b[0m \u001b[38;5;28;01mif\u001b[39;00m \u001b[38;5;129;01mnot\u001b[39;00m p\u001b[38;5;241m.\u001b[39mhas_xy_data:\n\u001b[1;32m    629\u001b[0m     \u001b[38;5;28;01mreturn\u001b[39;00m ax\n\u001b[0;32m--> 631\u001b[0m \u001b[43mp\u001b[49m\u001b[38;5;241;43m.\u001b[39;49m\u001b[43m_attach\u001b[49m\u001b[43m(\u001b[49m\u001b[43max\u001b[49m\u001b[43m)\u001b[49m\n\u001b[1;32m    633\u001b[0m color \u001b[38;5;241m=\u001b[39m kwargs\u001b[38;5;241m.\u001b[39mpop(\u001b[38;5;124m\"\u001b[39m\u001b[38;5;124mcolor\u001b[39m\u001b[38;5;124m\"\u001b[39m, \u001b[38;5;28;01mNone\u001b[39;00m)\n\u001b[1;32m    634\u001b[0m kwargs[\u001b[38;5;124m\"\u001b[39m\u001b[38;5;124mcolor\u001b[39m\u001b[38;5;124m\"\u001b[39m] \u001b[38;5;241m=\u001b[39m _default_color(ax\u001b[38;5;241m.\u001b[39mscatter, hue, color, kwargs)\n",
      "File \u001b[0;32m~/anaconda3/envs/venv_p/lib/python3.12/site-packages/seaborn/_base.py:1135\u001b[0m, in \u001b[0;36mVectorPlotter._attach\u001b[0;34m(self, obj, allowed_types, log_scale)\u001b[0m\n\u001b[1;32m   1133\u001b[0m                 order \u001b[38;5;241m=\u001b[39m \u001b[38;5;28;01mNone\u001b[39;00m\n\u001b[1;32m   1134\u001b[0m             seed_data \u001b[38;5;241m=\u001b[39m categorical_order(seed_data, order)\n\u001b[0;32m-> 1135\u001b[0m         \u001b[43mconverter\u001b[49m\u001b[38;5;241;43m.\u001b[39;49m\u001b[43mupdate_units\u001b[49m\u001b[43m(\u001b[49m\u001b[43mseed_data\u001b[49m\u001b[43m)\u001b[49m\n\u001b[1;32m   1137\u001b[0m \u001b[38;5;66;03m# -- Set numerical axis scales\u001b[39;00m\n\u001b[1;32m   1138\u001b[0m \n\u001b[1;32m   1139\u001b[0m \u001b[38;5;66;03m# First unpack the log_scale argument\u001b[39;00m\n\u001b[1;32m   1140\u001b[0m \u001b[38;5;28;01mif\u001b[39;00m log_scale \u001b[38;5;129;01mis\u001b[39;00m \u001b[38;5;28;01mNone\u001b[39;00m:\n",
      "File \u001b[0;32m~/anaconda3/envs/venv_p/lib/python3.12/site-packages/matplotlib/axis.py:1756\u001b[0m, in \u001b[0;36mAxis.update_units\u001b[0;34m(self, data)\u001b[0m\n\u001b[1;32m   1754\u001b[0m neednew \u001b[38;5;241m=\u001b[39m \u001b[38;5;28mself\u001b[39m\u001b[38;5;241m.\u001b[39mconverter \u001b[38;5;241m!=\u001b[39m converter\n\u001b[1;32m   1755\u001b[0m \u001b[38;5;28mself\u001b[39m\u001b[38;5;241m.\u001b[39mconverter \u001b[38;5;241m=\u001b[39m converter\n\u001b[0;32m-> 1756\u001b[0m default \u001b[38;5;241m=\u001b[39m \u001b[38;5;28;43mself\u001b[39;49m\u001b[38;5;241;43m.\u001b[39;49m\u001b[43mconverter\u001b[49m\u001b[38;5;241;43m.\u001b[39;49m\u001b[43mdefault_units\u001b[49m\u001b[43m(\u001b[49m\u001b[43mdata\u001b[49m\u001b[43m,\u001b[49m\u001b[43m \u001b[49m\u001b[38;5;28;43mself\u001b[39;49m\u001b[43m)\u001b[49m\n\u001b[1;32m   1757\u001b[0m \u001b[38;5;28;01mif\u001b[39;00m default \u001b[38;5;129;01mis\u001b[39;00m \u001b[38;5;129;01mnot\u001b[39;00m \u001b[38;5;28;01mNone\u001b[39;00m \u001b[38;5;129;01mand\u001b[39;00m \u001b[38;5;28mself\u001b[39m\u001b[38;5;241m.\u001b[39munits \u001b[38;5;129;01mis\u001b[39;00m \u001b[38;5;28;01mNone\u001b[39;00m:\n\u001b[1;32m   1758\u001b[0m     \u001b[38;5;28mself\u001b[39m\u001b[38;5;241m.\u001b[39mset_units(default)\n",
      "File \u001b[0;32m~/anaconda3/envs/venv_p/lib/python3.12/site-packages/matplotlib/category.py:105\u001b[0m, in \u001b[0;36mStrCategoryConverter.default_units\u001b[0;34m(data, axis)\u001b[0m\n\u001b[1;32m    103\u001b[0m \u001b[38;5;66;03m# the conversion call stack is default_units -> axis_info -> convert\u001b[39;00m\n\u001b[1;32m    104\u001b[0m \u001b[38;5;28;01mif\u001b[39;00m axis\u001b[38;5;241m.\u001b[39munits \u001b[38;5;129;01mis\u001b[39;00m \u001b[38;5;28;01mNone\u001b[39;00m:\n\u001b[0;32m--> 105\u001b[0m     axis\u001b[38;5;241m.\u001b[39mset_units(\u001b[43mUnitData\u001b[49m\u001b[43m(\u001b[49m\u001b[43mdata\u001b[49m\u001b[43m)\u001b[49m)\n\u001b[1;32m    106\u001b[0m \u001b[38;5;28;01melse\u001b[39;00m:\n\u001b[1;32m    107\u001b[0m     axis\u001b[38;5;241m.\u001b[39munits\u001b[38;5;241m.\u001b[39mupdate(data)\n",
      "File \u001b[0;32m~/anaconda3/envs/venv_p/lib/python3.12/site-packages/matplotlib/category.py:181\u001b[0m, in \u001b[0;36mUnitData.__init__\u001b[0;34m(self, data)\u001b[0m\n\u001b[1;32m    179\u001b[0m \u001b[38;5;28mself\u001b[39m\u001b[38;5;241m.\u001b[39m_counter \u001b[38;5;241m=\u001b[39m itertools\u001b[38;5;241m.\u001b[39mcount()\n\u001b[1;32m    180\u001b[0m \u001b[38;5;28;01mif\u001b[39;00m data \u001b[38;5;129;01mis\u001b[39;00m \u001b[38;5;129;01mnot\u001b[39;00m \u001b[38;5;28;01mNone\u001b[39;00m:\n\u001b[0;32m--> 181\u001b[0m     \u001b[38;5;28;43mself\u001b[39;49m\u001b[38;5;241;43m.\u001b[39;49m\u001b[43mupdate\u001b[49m\u001b[43m(\u001b[49m\u001b[43mdata\u001b[49m\u001b[43m)\u001b[49m\n",
      "File \u001b[0;32m~/anaconda3/envs/venv_p/lib/python3.12/site-packages/matplotlib/category.py:216\u001b[0m, in \u001b[0;36mUnitData.update\u001b[0;34m(self, data)\u001b[0m\n\u001b[1;32m    213\u001b[0m convertible \u001b[38;5;241m=\u001b[39m \u001b[38;5;28;01mTrue\u001b[39;00m\n\u001b[1;32m    214\u001b[0m \u001b[38;5;28;01mfor\u001b[39;00m val \u001b[38;5;129;01min\u001b[39;00m OrderedDict\u001b[38;5;241m.\u001b[39mfromkeys(data):\n\u001b[1;32m    215\u001b[0m     \u001b[38;5;66;03m# OrderedDict just iterates over unique values in data.\u001b[39;00m\n\u001b[0;32m--> 216\u001b[0m     \u001b[43m_api\u001b[49m\u001b[38;5;241;43m.\u001b[39;49m\u001b[43mcheck_isinstance\u001b[49m\u001b[43m(\u001b[49m\u001b[43m(\u001b[49m\u001b[38;5;28;43mstr\u001b[39;49m\u001b[43m,\u001b[49m\u001b[43m \u001b[49m\u001b[38;5;28;43mbytes\u001b[39;49m\u001b[43m)\u001b[49m\u001b[43m,\u001b[49m\u001b[43m \u001b[49m\u001b[43mvalue\u001b[49m\u001b[38;5;241;43m=\u001b[39;49m\u001b[43mval\u001b[49m\u001b[43m)\u001b[49m\n\u001b[1;32m    217\u001b[0m     \u001b[38;5;28;01mif\u001b[39;00m convertible:\n\u001b[1;32m    218\u001b[0m         \u001b[38;5;66;03m# this will only be called so long as convertible is True.\u001b[39;00m\n\u001b[1;32m    219\u001b[0m         convertible \u001b[38;5;241m=\u001b[39m \u001b[38;5;28mself\u001b[39m\u001b[38;5;241m.\u001b[39m_str_is_convertible(val)\n",
      "File \u001b[0;32m~/anaconda3/envs/venv_p/lib/python3.12/site-packages/matplotlib/_api/__init__.py:91\u001b[0m, in \u001b[0;36mcheck_isinstance\u001b[0;34m(types, **kwargs)\u001b[0m\n\u001b[1;32m     89\u001b[0m     names\u001b[38;5;241m.\u001b[39mremove(\u001b[38;5;124m\"\u001b[39m\u001b[38;5;124mNone\u001b[39m\u001b[38;5;124m\"\u001b[39m)\n\u001b[1;32m     90\u001b[0m     names\u001b[38;5;241m.\u001b[39mappend(\u001b[38;5;124m\"\u001b[39m\u001b[38;5;124mNone\u001b[39m\u001b[38;5;124m\"\u001b[39m)\n\u001b[0;32m---> 91\u001b[0m \u001b[38;5;28;01mraise\u001b[39;00m \u001b[38;5;167;01mTypeError\u001b[39;00m(\n\u001b[1;32m     92\u001b[0m     \u001b[38;5;124m\"\u001b[39m\u001b[38;5;132;01m{!r}\u001b[39;00m\u001b[38;5;124m must be an instance of \u001b[39m\u001b[38;5;132;01m{}\u001b[39;00m\u001b[38;5;124m, not a \u001b[39m\u001b[38;5;132;01m{}\u001b[39;00m\u001b[38;5;124m\"\u001b[39m\u001b[38;5;241m.\u001b[39mformat(\n\u001b[1;32m     93\u001b[0m         k,\n\u001b[1;32m     94\u001b[0m         \u001b[38;5;124m\"\u001b[39m\u001b[38;5;124m, \u001b[39m\u001b[38;5;124m\"\u001b[39m\u001b[38;5;241m.\u001b[39mjoin(names[:\u001b[38;5;241m-\u001b[39m\u001b[38;5;241m1\u001b[39m]) \u001b[38;5;241m+\u001b[39m \u001b[38;5;124m\"\u001b[39m\u001b[38;5;124m or \u001b[39m\u001b[38;5;124m\"\u001b[39m \u001b[38;5;241m+\u001b[39m names[\u001b[38;5;241m-\u001b[39m\u001b[38;5;241m1\u001b[39m]\n\u001b[1;32m     95\u001b[0m         \u001b[38;5;28;01mif\u001b[39;00m \u001b[38;5;28mlen\u001b[39m(names) \u001b[38;5;241m>\u001b[39m \u001b[38;5;241m1\u001b[39m \u001b[38;5;28;01melse\u001b[39;00m names[\u001b[38;5;241m0\u001b[39m],\n\u001b[1;32m     96\u001b[0m         type_name(\u001b[38;5;28mtype\u001b[39m(v))))\n",
      "\u001b[0;31mTypeError\u001b[0m: 'value' must be an instance of str or bytes, not a float"
     ]
    },
    {
     "data": {
      "image/png": "[encoded data removed]",
      "text/plain": [
       "<Figure size 1200x800 with 1 Axes>"
      ]
     },
     "metadata": {},
     "output_type": "display_data"
    }
   ],
   "source": [
    "import matplotlib.pyplot as plt\n",
    "import seaborn as sns\n",
    "\n",
    "plt.figure(figsize=(12, 8))\n",
    "\n",
    "# Scatter plot of conflicts based on latitude and longitude\n",
    "sns.scatterplot(data=df, x=\"LONGITUDE\", y=\"LATITUDE\", hue=\"EVENT_TYPE\", alpha=0.5, palette=\"viridis\")\n",
    "\n",
    "# Title and labels\n",
    "plt.title(\"Geographical Distribution of Events\", fontsize=14)\n",
    "plt.xlabel(\"Longitude\", fontsize=12)\n",
    "plt.ylabel(\"Latitude\", fontsize=12)\n",
    "\n",
    "# Show the plot\n",
    "plt.show()\n",
    "\n"
   ]
  },
  {
   "cell_type": "code",
   "execution_count": null,
   "metadata": {},
   "outputs": [],
   "source": []
  }
 ],
 "metadata": {
  "kernelspec": {
   "display_name": "Python 3",
   "language": "python",
   "name": "python3"
  },
  "language_info": {
   "codemirror_mode": {
    "name": "ipython",
    "version": 3
   },
   "file_extension": ".py",
   "mimetype": "text/x-python",
   "name": "python",
   "nbconvert_exporter": "python",
   "pygments_lexer": "ipython3",
   "version": "3.12.7"
  }
 },
 "nbformat": 4,
 "nbformat_minor": 2
}
