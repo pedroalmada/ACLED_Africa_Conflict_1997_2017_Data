{
 "cells": [
  {
   "cell_type": "code",
   "execution_count": 1,
   "metadata": {},
   "outputs": [],
   "source": [
    "import pandas as pd"
   ]
  },
  {
   "cell_type": "code",
   "execution_count": 2,
   "metadata": {},
   "outputs": [],
   "source": [
    "file_path = \"../data/raw/african_conflicts.csv\""
   ]
  },
  {
   "cell_type": "code",
   "execution_count": 3,
   "metadata": {},
   "outputs": [
    {
     "name": "stderr",
     "output_type": "stream",
     "text": [
      "/var/folders/gg/y7njvgln6bd7wj2ygfmd_r580000gn/T/ipykernel_9237/67583881.py:1: DtypeWarning: Columns (21,23) have mixed types. Specify dtype option on import or set low_memory=False.\n",
      "  df = pd.read_csv(\"../data/raw/african_conflicts.csv\", encoding=\"ISO-8859-1\")\n"
     ]
    }
   ],
   "source": [
    "df = pd.read_csv(\"../data/raw/african_conflicts.csv\", encoding=\"ISO-8859-1\")\n",
    "#To load the file, I had to modify the pd.read by setting an specific encoding, this is because if not, and 'UnicodeDecodeError' happens due to Pandas was trying to read the file with \n",
    "#utf-8  encodiung, but because the file contains special characters that are encoded differntely. "
   ]
  },
  {
   "cell_type": "code",
   "execution_count": 4,
   "metadata": {},
   "outputs": [
    {
     "name": "stdout",
     "output_type": "stream",
     "text": [
      "<class 'pandas.core.frame.DataFrame'>\n",
      "RangeIndex: 165808 entries, 0 to 165807\n",
      "Data columns (total 28 columns):\n",
      " #   Column            Non-Null Count   Dtype  \n",
      "---  ------            --------------   -----  \n",
      " 0   ACTOR1            165808 non-null  object \n",
      " 1   ACTOR1_ID         140747 non-null  float64\n",
      " 2   ACTOR2            122255 non-null  object \n",
      " 3   ACTOR2_ID         140747 non-null  float64\n",
      " 4   ACTOR_DYAD_ID     140747 non-null  object \n",
      " 5   ADMIN1            165808 non-null  object \n",
      " 6   ADMIN2            165676 non-null  object \n",
      " 7   ADMIN3            86933 non-null   object \n",
      " 8   ALLY_ACTOR_1      28144 non-null   object \n",
      " 9   ALLY_ACTOR_2      19651 non-null   object \n",
      " 10  COUNTRY           165808 non-null  object \n",
      " 11  EVENT_DATE        165808 non-null  object \n",
      " 12  EVENT_ID_CNTY     165808 non-null  object \n",
      " 13  EVENT_ID_NO_CNTY  140747 non-null  float64\n",
      " 14  EVENT_TYPE        165808 non-null  object \n",
      " 15  FATALITIES        165808 non-null  int64  \n",
      " 16  GEO_PRECISION     165808 non-null  int64  \n",
      " 17  GWNO              165808 non-null  int64  \n",
      " 18  INTER1            165808 non-null  int64  \n",
      " 19  INTER2            165808 non-null  int64  \n",
      " 20  INTERACTION       165808 non-null  int64  \n",
      " 21  LATITUDE          165808 non-null  object \n",
      " 22  LOCATION          165805 non-null  object \n",
      " 23  LONGITUDE         165808 non-null  object \n",
      " 24  NOTES             155581 non-null  object \n",
      " 25  SOURCE            165635 non-null  object \n",
      " 26  TIME_PRECISION    165808 non-null  int64  \n",
      " 27  YEAR              165808 non-null  int64  \n",
      "dtypes: float64(3), int64(8), object(17)\n",
      "memory usage: 35.4+ MB\n",
      "None\n"
     ]
    },
    {
     "data": {
      "text/html": [
       "<div>\n",
       "<style scoped>\n",
       "    .dataframe tbody tr th:only-of-type {\n",
       "        vertical-align: middle;\n",
       "    }\n",
       "\n",
       "    .dataframe tbody tr th {\n",
       "        vertical-align: top;\n",
       "    }\n",
       "\n",
       "    .dataframe thead th {\n",
       "        text-align: right;\n",
       "    }\n",
       "</style>\n",
       "<table border=\"1\" class=\"dataframe\">\n",
       "  <thead>\n",
       "    <tr style=\"text-align: right;\">\n",
       "      <th></th>\n",
       "      <th>ACTOR1</th>\n",
       "      <th>ACTOR1_ID</th>\n",
       "      <th>ACTOR2</th>\n",
       "      <th>ACTOR2_ID</th>\n",
       "      <th>ACTOR_DYAD_ID</th>\n",
       "      <th>ADMIN1</th>\n",
       "      <th>ADMIN2</th>\n",
       "      <th>ADMIN3</th>\n",
       "      <th>ALLY_ACTOR_1</th>\n",
       "      <th>ALLY_ACTOR_2</th>\n",
       "      <th>...</th>\n",
       "      <th>INTER1</th>\n",
       "      <th>INTER2</th>\n",
       "      <th>INTERACTION</th>\n",
       "      <th>LATITUDE</th>\n",
       "      <th>LOCATION</th>\n",
       "      <th>LONGITUDE</th>\n",
       "      <th>NOTES</th>\n",
       "      <th>SOURCE</th>\n",
       "      <th>TIME_PRECISION</th>\n",
       "      <th>YEAR</th>\n",
       "    </tr>\n",
       "  </thead>\n",
       "  <tbody>\n",
       "    <tr>\n",
       "      <th>0</th>\n",
       "      <td>Police Forces of Algeria (1999-)</td>\n",
       "      <td>NaN</td>\n",
       "      <td>Civilians (Algeria)</td>\n",
       "      <td>NaN</td>\n",
       "      <td>NaN</td>\n",
       "      <td>Tizi Ouzou</td>\n",
       "      <td>Beni-Douala</td>\n",
       "      <td>NaN</td>\n",
       "      <td>NaN</td>\n",
       "      <td>Berber Ethnic Group (Algeria)</td>\n",
       "      <td>...</td>\n",
       "      <td>1</td>\n",
       "      <td>7</td>\n",
       "      <td>17</td>\n",
       "      <td>36.61954</td>\n",
       "      <td>Beni Douala</td>\n",
       "      <td>4.08282</td>\n",
       "      <td>A Berber student was shot while in police cust...</td>\n",
       "      <td>Associated Press Online</td>\n",
       "      <td>1</td>\n",
       "      <td>2001</td>\n",
       "    </tr>\n",
       "    <tr>\n",
       "      <th>1</th>\n",
       "      <td>Rioters (Algeria)</td>\n",
       "      <td>NaN</td>\n",
       "      <td>Police Forces of Algeria (1999-)</td>\n",
       "      <td>NaN</td>\n",
       "      <td>NaN</td>\n",
       "      <td>Tizi Ouzou</td>\n",
       "      <td>Tizi Ouzou</td>\n",
       "      <td>NaN</td>\n",
       "      <td>Berber Ethnic Group (Algeria)</td>\n",
       "      <td>NaN</td>\n",
       "      <td>...</td>\n",
       "      <td>5</td>\n",
       "      <td>1</td>\n",
       "      <td>15</td>\n",
       "      <td>36.71183</td>\n",
       "      <td>Tizi Ouzou</td>\n",
       "      <td>4.04591</td>\n",
       "      <td>Riots were reported in numerous villages in Ka...</td>\n",
       "      <td>Kabylie report</td>\n",
       "      <td>1</td>\n",
       "      <td>2001</td>\n",
       "    </tr>\n",
       "    <tr>\n",
       "      <th>2</th>\n",
       "      <td>Protesters (Algeria)</td>\n",
       "      <td>NaN</td>\n",
       "      <td>NaN</td>\n",
       "      <td>NaN</td>\n",
       "      <td>NaN</td>\n",
       "      <td>Bejaia</td>\n",
       "      <td>Amizour</td>\n",
       "      <td>NaN</td>\n",
       "      <td>Students (Algeria)</td>\n",
       "      <td>NaN</td>\n",
       "      <td>...</td>\n",
       "      <td>6</td>\n",
       "      <td>0</td>\n",
       "      <td>60</td>\n",
       "      <td>36.64022</td>\n",
       "      <td>Amizour</td>\n",
       "      <td>4.90131</td>\n",
       "      <td>Students protested in the Amizour area. At lea...</td>\n",
       "      <td>Crisis Group</td>\n",
       "      <td>1</td>\n",
       "      <td>2001</td>\n",
       "    </tr>\n",
       "    <tr>\n",
       "      <th>3</th>\n",
       "      <td>Rioters (Algeria)</td>\n",
       "      <td>NaN</td>\n",
       "      <td>Police Forces of Algeria (1999-)</td>\n",
       "      <td>NaN</td>\n",
       "      <td>NaN</td>\n",
       "      <td>Bejaia</td>\n",
       "      <td>Amizour</td>\n",
       "      <td>NaN</td>\n",
       "      <td>Berber Ethnic Group (Algeria)</td>\n",
       "      <td>NaN</td>\n",
       "      <td>...</td>\n",
       "      <td>5</td>\n",
       "      <td>1</td>\n",
       "      <td>15</td>\n",
       "      <td>36.64022</td>\n",
       "      <td>Amizour</td>\n",
       "      <td>4.90131</td>\n",
       "      <td>Rioters threw molotov cocktails, rocks and bur...</td>\n",
       "      <td>Kabylie report</td>\n",
       "      <td>1</td>\n",
       "      <td>2001</td>\n",
       "    </tr>\n",
       "    <tr>\n",
       "      <th>4</th>\n",
       "      <td>Rioters (Algeria)</td>\n",
       "      <td>NaN</td>\n",
       "      <td>Police Forces of Algeria (1999-)</td>\n",
       "      <td>NaN</td>\n",
       "      <td>NaN</td>\n",
       "      <td>Tizi Ouzou</td>\n",
       "      <td>Beni-Douala</td>\n",
       "      <td>NaN</td>\n",
       "      <td>Berber Ethnic Group (Algeria)</td>\n",
       "      <td>NaN</td>\n",
       "      <td>...</td>\n",
       "      <td>5</td>\n",
       "      <td>1</td>\n",
       "      <td>15</td>\n",
       "      <td>36.61954</td>\n",
       "      <td>Beni Douala</td>\n",
       "      <td>4.08282</td>\n",
       "      <td>Rioters threw molotov cocktails, rocks and bur...</td>\n",
       "      <td>Kabylie report</td>\n",
       "      <td>1</td>\n",
       "      <td>2001</td>\n",
       "    </tr>\n",
       "  </tbody>\n",
       "</table>\n",
       "<p>5 rows × 28 columns</p>\n",
       "</div>"
      ],
      "text/plain": [
       "                             ACTOR1  ACTOR1_ID  \\\n",
       "0  Police Forces of Algeria (1999-)        NaN   \n",
       "1                 Rioters (Algeria)        NaN   \n",
       "2              Protesters (Algeria)        NaN   \n",
       "3                 Rioters (Algeria)        NaN   \n",
       "4                 Rioters (Algeria)        NaN   \n",
       "\n",
       "                             ACTOR2  ACTOR2_ID ACTOR_DYAD_ID      ADMIN1  \\\n",
       "0               Civilians (Algeria)        NaN           NaN  Tizi Ouzou   \n",
       "1  Police Forces of Algeria (1999-)        NaN           NaN  Tizi Ouzou   \n",
       "2                               NaN        NaN           NaN      Bejaia   \n",
       "3  Police Forces of Algeria (1999-)        NaN           NaN      Bejaia   \n",
       "4  Police Forces of Algeria (1999-)        NaN           NaN  Tizi Ouzou   \n",
       "\n",
       "        ADMIN2 ADMIN3                   ALLY_ACTOR_1  \\\n",
       "0  Beni-Douala    NaN                            NaN   \n",
       "1   Tizi Ouzou    NaN  Berber Ethnic Group (Algeria)   \n",
       "2      Amizour    NaN             Students (Algeria)   \n",
       "3      Amizour    NaN  Berber Ethnic Group (Algeria)   \n",
       "4  Beni-Douala    NaN  Berber Ethnic Group (Algeria)   \n",
       "\n",
       "                    ALLY_ACTOR_2  ... INTER1 INTER2 INTERACTION  LATITUDE  \\\n",
       "0  Berber Ethnic Group (Algeria)  ...      1      7          17  36.61954   \n",
       "1                            NaN  ...      5      1          15  36.71183   \n",
       "2                            NaN  ...      6      0          60  36.64022   \n",
       "3                            NaN  ...      5      1          15  36.64022   \n",
       "4                            NaN  ...      5      1          15  36.61954   \n",
       "\n",
       "      LOCATION  LONGITUDE                                              NOTES  \\\n",
       "0  Beni Douala    4.08282  A Berber student was shot while in police cust...   \n",
       "1   Tizi Ouzou    4.04591  Riots were reported in numerous villages in Ka...   \n",
       "2      Amizour    4.90131  Students protested in the Amizour area. At lea...   \n",
       "3      Amizour    4.90131  Rioters threw molotov cocktails, rocks and bur...   \n",
       "4  Beni Douala    4.08282  Rioters threw molotov cocktails, rocks and bur...   \n",
       "\n",
       "                    SOURCE  TIME_PRECISION  YEAR  \n",
       "0  Associated Press Online               1  2001  \n",
       "1           Kabylie report               1  2001  \n",
       "2             Crisis Group               1  2001  \n",
       "3           Kabylie report               1  2001  \n",
       "4           Kabylie report               1  2001  \n",
       "\n",
       "[5 rows x 28 columns]"
      ]
     },
     "execution_count": 4,
     "metadata": {},
     "output_type": "execute_result"
    }
   ],
   "source": [
    "print(df.info())\n",
    "df.head()"
   ]
  },
  {
   "cell_type": "code",
   "execution_count": 5,
   "metadata": {},
   "outputs": [
    {
     "name": "stdout",
     "output_type": "stream",
     "text": [
      "<class 'pandas.core.frame.DataFrame'>\n",
      "RangeIndex: 165808 entries, 0 to 165807\n",
      "Data columns (total 28 columns):\n",
      " #   Column            Non-Null Count   Dtype  \n",
      "---  ------            --------------   -----  \n",
      " 0   ACTOR1            165808 non-null  object \n",
      " 1   ACTOR1_ID         140747 non-null  float64\n",
      " 2   ACTOR2            122255 non-null  object \n",
      " 3   ACTOR2_ID         140747 non-null  float64\n",
      " 4   ACTOR_DYAD_ID     140747 non-null  object \n",
      " 5   ADMIN1            165808 non-null  object \n",
      " 6   ADMIN2            165676 non-null  object \n",
      " 7   ADMIN3            86933 non-null   object \n",
      " 8   ALLY_ACTOR_1      28144 non-null   object \n",
      " 9   ALLY_ACTOR_2      19651 non-null   object \n",
      " 10  COUNTRY           165808 non-null  object \n",
      " 11  EVENT_DATE        165808 non-null  object \n",
      " 12  EVENT_ID_CNTY     165808 non-null  object \n",
      " 13  EVENT_ID_NO_CNTY  140747 non-null  float64\n",
      " 14  EVENT_TYPE        165808 non-null  object \n",
      " 15  FATALITIES        165808 non-null  int64  \n",
      " 16  GEO_PRECISION     165808 non-null  int64  \n",
      " 17  GWNO              165808 non-null  int64  \n",
      " 18  INTER1            165808 non-null  int64  \n",
      " 19  INTER2            165808 non-null  int64  \n",
      " 20  INTERACTION       165808 non-null  int64  \n",
      " 21  LATITUDE          165808 non-null  object \n",
      " 22  LOCATION          165805 non-null  object \n",
      " 23  LONGITUDE         165808 non-null  object \n",
      " 24  NOTES             155581 non-null  object \n",
      " 25  SOURCE            165635 non-null  object \n",
      " 26  TIME_PRECISION    165808 non-null  int64  \n",
      " 27  YEAR              165808 non-null  int64  \n",
      "dtypes: float64(3), int64(8), object(17)\n",
      "memory usage: 35.4+ MB\n"
     ]
    },
    {
     "data": {
      "text/html": [
       "<div>\n",
       "<style scoped>\n",
       "    .dataframe tbody tr th:only-of-type {\n",
       "        vertical-align: middle;\n",
       "    }\n",
       "\n",
       "    .dataframe tbody tr th {\n",
       "        vertical-align: top;\n",
       "    }\n",
       "\n",
       "    .dataframe thead th {\n",
       "        text-align: right;\n",
       "    }\n",
       "</style>\n",
       "<table border=\"1\" class=\"dataframe\">\n",
       "  <thead>\n",
       "    <tr style=\"text-align: right;\">\n",
       "      <th></th>\n",
       "      <th>ACTOR1_ID</th>\n",
       "      <th>ACTOR2_ID</th>\n",
       "      <th>EVENT_ID_NO_CNTY</th>\n",
       "      <th>FATALITIES</th>\n",
       "      <th>GEO_PRECISION</th>\n",
       "      <th>GWNO</th>\n",
       "      <th>INTER1</th>\n",
       "      <th>INTER2</th>\n",
       "      <th>INTERACTION</th>\n",
       "      <th>TIME_PRECISION</th>\n",
       "      <th>YEAR</th>\n",
       "    </tr>\n",
       "  </thead>\n",
       "  <tbody>\n",
       "    <tr>\n",
       "      <th>count</th>\n",
       "      <td>140747.000000</td>\n",
       "      <td>140747.000000</td>\n",
       "      <td>140747.000000</td>\n",
       "      <td>165808.000000</td>\n",
       "      <td>165808.000000</td>\n",
       "      <td>165808.000000</td>\n",
       "      <td>165808.000000</td>\n",
       "      <td>165808.000000</td>\n",
       "      <td>165808.000000</td>\n",
       "      <td>165808.000000</td>\n",
       "      <td>165808.000000</td>\n",
       "    </tr>\n",
       "    <tr>\n",
       "      <th>mean</th>\n",
       "      <td>2587.796692</td>\n",
       "      <td>1211.638820</td>\n",
       "      <td>70374.000000</td>\n",
       "      <td>4.420257</td>\n",
       "      <td>1.261061</td>\n",
       "      <td>538.296964</td>\n",
       "      <td>3.385500</td>\n",
       "      <td>3.193603</td>\n",
       "      <td>32.001604</td>\n",
       "      <td>1.138751</td>\n",
       "      <td>2010.760898</td>\n",
       "    </tr>\n",
       "    <tr>\n",
       "      <th>std</th>\n",
       "      <td>1030.065824</td>\n",
       "      <td>1242.978894</td>\n",
       "      <td>40630.303506</td>\n",
       "      <td>76.071441</td>\n",
       "      <td>0.524248</td>\n",
       "      <td>61.974200</td>\n",
       "      <td>2.033114</td>\n",
       "      <td>2.920635</td>\n",
       "      <td>18.284381</td>\n",
       "      <td>0.441038</td>\n",
       "      <td>5.897476</td>\n",
       "    </tr>\n",
       "    <tr>\n",
       "      <th>min</th>\n",
       "      <td>1.000000</td>\n",
       "      <td>0.000000</td>\n",
       "      <td>1.000000</td>\n",
       "      <td>0.000000</td>\n",
       "      <td>1.000000</td>\n",
       "      <td>404.000000</td>\n",
       "      <td>1.000000</td>\n",
       "      <td>0.000000</td>\n",
       "      <td>10.000000</td>\n",
       "      <td>1.000000</td>\n",
       "      <td>1997.000000</td>\n",
       "    </tr>\n",
       "    <tr>\n",
       "      <th>25%</th>\n",
       "      <td>2081.000000</td>\n",
       "      <td>0.000000</td>\n",
       "      <td>35187.500000</td>\n",
       "      <td>0.000000</td>\n",
       "      <td>1.000000</td>\n",
       "      <td>490.000000</td>\n",
       "      <td>1.000000</td>\n",
       "      <td>0.000000</td>\n",
       "      <td>15.000000</td>\n",
       "      <td>1.000000</td>\n",
       "      <td>2007.000000</td>\n",
       "    </tr>\n",
       "    <tr>\n",
       "      <th>50%</th>\n",
       "      <td>3043.000000</td>\n",
       "      <td>675.000000</td>\n",
       "      <td>70374.000000</td>\n",
       "      <td>0.000000</td>\n",
       "      <td>1.000000</td>\n",
       "      <td>520.000000</td>\n",
       "      <td>3.000000</td>\n",
       "      <td>2.000000</td>\n",
       "      <td>28.000000</td>\n",
       "      <td>1.000000</td>\n",
       "      <td>2013.000000</td>\n",
       "    </tr>\n",
       "    <tr>\n",
       "      <th>75%</th>\n",
       "      <td>3288.000000</td>\n",
       "      <td>2229.000000</td>\n",
       "      <td>105560.500000</td>\n",
       "      <td>1.000000</td>\n",
       "      <td>1.000000</td>\n",
       "      <td>615.000000</td>\n",
       "      <td>5.000000</td>\n",
       "      <td>7.000000</td>\n",
       "      <td>47.000000</td>\n",
       "      <td>1.000000</td>\n",
       "      <td>2016.000000</td>\n",
       "    </tr>\n",
       "    <tr>\n",
       "      <th>max</th>\n",
       "      <td>3960.000000</td>\n",
       "      <td>3960.000000</td>\n",
       "      <td>140747.000000</td>\n",
       "      <td>25000.000000</td>\n",
       "      <td>3.000000</td>\n",
       "      <td>651.000000</td>\n",
       "      <td>8.000000</td>\n",
       "      <td>8.000000</td>\n",
       "      <td>88.000000</td>\n",
       "      <td>3.000000</td>\n",
       "      <td>2017.000000</td>\n",
       "    </tr>\n",
       "  </tbody>\n",
       "</table>\n",
       "</div>"
      ],
      "text/plain": [
       "           ACTOR1_ID      ACTOR2_ID  EVENT_ID_NO_CNTY     FATALITIES  \\\n",
       "count  140747.000000  140747.000000     140747.000000  165808.000000   \n",
       "mean     2587.796692    1211.638820      70374.000000       4.420257   \n",
       "std      1030.065824    1242.978894      40630.303506      76.071441   \n",
       "min         1.000000       0.000000          1.000000       0.000000   \n",
       "25%      2081.000000       0.000000      35187.500000       0.000000   \n",
       "50%      3043.000000     675.000000      70374.000000       0.000000   \n",
       "75%      3288.000000    2229.000000     105560.500000       1.000000   \n",
       "max      3960.000000    3960.000000     140747.000000   25000.000000   \n",
       "\n",
       "       GEO_PRECISION           GWNO         INTER1         INTER2  \\\n",
       "count  165808.000000  165808.000000  165808.000000  165808.000000   \n",
       "mean        1.261061     538.296964       3.385500       3.193603   \n",
       "std         0.524248      61.974200       2.033114       2.920635   \n",
       "min         1.000000     404.000000       1.000000       0.000000   \n",
       "25%         1.000000     490.000000       1.000000       0.000000   \n",
       "50%         1.000000     520.000000       3.000000       2.000000   \n",
       "75%         1.000000     615.000000       5.000000       7.000000   \n",
       "max         3.000000     651.000000       8.000000       8.000000   \n",
       "\n",
       "         INTERACTION  TIME_PRECISION           YEAR  \n",
       "count  165808.000000   165808.000000  165808.000000  \n",
       "mean       32.001604        1.138751    2010.760898  \n",
       "std        18.284381        0.441038       5.897476  \n",
       "min        10.000000        1.000000    1997.000000  \n",
       "25%        15.000000        1.000000    2007.000000  \n",
       "50%        28.000000        1.000000    2013.000000  \n",
       "75%        47.000000        1.000000    2016.000000  \n",
       "max        88.000000        3.000000    2017.000000  "
      ]
     },
     "execution_count": 5,
     "metadata": {},
     "output_type": "execute_result"
    }
   ],
   "source": [
    "df.info()  # Check column names, data types, and missing values\n",
    "df.head()  # Display the first few rows\n",
    "df.describe()  # Summary statistics for numerical columns"
   ]
  },
  {
   "cell_type": "code",
   "execution_count": 6,
   "metadata": {},
   "outputs": [
    {
     "name": "stdout",
     "output_type": "stream",
     "text": [
      "ACTOR1_ID            25061\n",
      "ACTOR2               43553\n",
      "ACTOR2_ID            25061\n",
      "ACTOR_DYAD_ID        25061\n",
      "ADMIN2                 132\n",
      "ADMIN3               78875\n",
      "ALLY_ACTOR_1        137664\n",
      "ALLY_ACTOR_2        146157\n",
      "EVENT_ID_NO_CNTY     25061\n",
      "LOCATION                 3\n",
      "NOTES                10227\n",
      "SOURCE                 173\n",
      "dtype: int64\n"
     ]
    }
   ],
   "source": [
    "missing_values = df.isnull().sum()\n",
    "print(missing_values[missing_values > 0])  # Show only columns with missing values\n"
   ]
  },
  {
   "cell_type": "code",
   "execution_count": 7,
   "metadata": {},
   "outputs": [
    {
     "name": "stdout",
     "output_type": "stream",
     "text": [
      "Index(['ACTOR1', 'ACTOR1_ID', 'ACTOR2', 'ACTOR2_ID', 'ACTOR_DYAD_ID', 'ADMIN1',\n",
      "       'ADMIN2', 'ADMIN3', 'ALLY_ACTOR_1', 'ALLY_ACTOR_2', 'COUNTRY',\n",
      "       'EVENT_DATE', 'EVENT_ID_CNTY', 'EVENT_ID_NO_CNTY', 'EVENT_TYPE',\n",
      "       'FATALITIES', 'GEO_PRECISION', 'GWNO', 'INTER1', 'INTER2',\n",
      "       'INTERACTION', 'LATITUDE', 'LOCATION', 'LONGITUDE', 'NOTES', 'SOURCE',\n",
      "       'TIME_PRECISION', 'YEAR'],\n",
      "      dtype='object')\n"
     ]
    }
   ],
   "source": [
    "#checking column names\n",
    "print(df.columns)\n",
    "#this is to check for spaces in the columns\n"
   ]
  },
  {
   "cell_type": "code",
   "execution_count": 8,
   "metadata": {},
   "outputs": [],
   "source": [
    "df.columns = df.columns.str.strip()  # Remove leading/trailing spaces\n"
   ]
  },
  {
   "cell_type": "code",
   "execution_count": 9,
   "metadata": {},
   "outputs": [],
   "source": [
    "#Drop existing values \n",
    "df.drop(columns=['ALLY_ACTOR_1', 'ALLY_ACTOR_2', 'ADMIN3'], inplace=True, errors='ignore')\n",
    "#Use errors='ignore' to prevent the KeyError:\n"
   ]
  },
  {
   "cell_type": "code",
   "execution_count": 10,
   "metadata": {},
   "outputs": [],
   "source": [
    "#Making sure column exists before dropping \n",
    "columns_to_drop = ['ALLY_ACTOR_1', 'ALLY_ACTOR_2', 'ADMIN3']\n",
    "existing_columns = [col for col in columns_to_drop if col in df.columns]\n",
    "df.drop(columns=existing_columns, inplace=True)\n"
   ]
  },
  {
   "cell_type": "code",
   "execution_count": 11,
   "metadata": {},
   "outputs": [
    {
     "name": "stdout",
     "output_type": "stream",
     "text": [
      "ACTOR1                  0\n",
      "ACTOR1_ID           25061\n",
      "ACTOR2              43553\n",
      "ACTOR2_ID           25061\n",
      "ACTOR_DYAD_ID       25061\n",
      "ADMIN1                  0\n",
      "ADMIN2                132\n",
      "COUNTRY                 0\n",
      "EVENT_DATE              0\n",
      "EVENT_ID_CNTY           0\n",
      "EVENT_ID_NO_CNTY    25061\n",
      "EVENT_TYPE              0\n",
      "FATALITIES              0\n",
      "GEO_PRECISION           0\n",
      "GWNO                    0\n",
      "INTER1                  0\n",
      "INTER2                  0\n",
      "INTERACTION             0\n",
      "LATITUDE                0\n",
      "LOCATION                3\n",
      "LONGITUDE               0\n",
      "NOTES               10227\n",
      "SOURCE                173\n",
      "TIME_PRECISION          0\n",
      "YEAR                    0\n",
      "dtype: int64\n"
     ]
    }
   ],
   "source": [
    "print(df.isnull().sum())  # Ensure missing data is handled properly\n"
   ]
  },
  {
   "cell_type": "code",
   "execution_count": 12,
   "metadata": {},
   "outputs": [],
   "source": [
    "#Drop EVENT_ID_NO_CNTY, ACTOR1_ID, ACTOR2_ID, and ACTOR_DYAD_ID\n",
    "df.drop(columns=['EVENT_ID_NO_CNTY', 'ACTOR1_ID', 'ACTOR2_ID', 'ACTOR_DYAD_ID'], inplace=True)\n"
   ]
  },
  {
   "cell_type": "code",
   "execution_count": 13,
   "metadata": {},
   "outputs": [
    {
     "name": "stderr",
     "output_type": "stream",
     "text": [
      "/var/folders/gg/y7njvgln6bd7wj2ygfmd_r580000gn/T/ipykernel_9237/3029073581.py:3: FutureWarning: A value is trying to be set on a copy of a DataFrame or Series through chained assignment using an inplace method.\n",
      "The behavior will change in pandas 3.0. This inplace method will never work because the intermediate object on which we are setting values always behaves as a copy.\n",
      "\n",
      "For example, when doing 'df[col].method(value, inplace=True)', try using 'df.method({col: value}, inplace=True)' or df[col] = df[col].method(value) instead, to perform the operation inplace on the original object.\n",
      "\n",
      "\n",
      "  df['ACTOR2'].fillna('Unknown', inplace=True)\n",
      "/var/folders/gg/y7njvgln6bd7wj2ygfmd_r580000gn/T/ipykernel_9237/3029073581.py:4: FutureWarning: A value is trying to be set on a copy of a DataFrame or Series through chained assignment using an inplace method.\n",
      "The behavior will change in pandas 3.0. This inplace method will never work because the intermediate object on which we are setting values always behaves as a copy.\n",
      "\n",
      "For example, when doing 'df[col].method(value, inplace=True)', try using 'df.method({col: value}, inplace=True)' or df[col] = df[col].method(value) instead, to perform the operation inplace on the original object.\n",
      "\n",
      "\n",
      "  df['ADMIN2'].fillna('Unknown', inplace=True)\n",
      "/var/folders/gg/y7njvgln6bd7wj2ygfmd_r580000gn/T/ipykernel_9237/3029073581.py:5: FutureWarning: A value is trying to be set on a copy of a DataFrame or Series through chained assignment using an inplace method.\n",
      "The behavior will change in pandas 3.0. This inplace method will never work because the intermediate object on which we are setting values always behaves as a copy.\n",
      "\n",
      "For example, when doing 'df[col].method(value, inplace=True)', try using 'df.method({col: value}, inplace=True)' or df[col] = df[col].method(value) instead, to perform the operation inplace on the original object.\n",
      "\n",
      "\n",
      "  df['LOCATION'].fillna('Unknown', inplace=True)\n",
      "/var/folders/gg/y7njvgln6bd7wj2ygfmd_r580000gn/T/ipykernel_9237/3029073581.py:6: FutureWarning: A value is trying to be set on a copy of a DataFrame or Series through chained assignment using an inplace method.\n",
      "The behavior will change in pandas 3.0. This inplace method will never work because the intermediate object on which we are setting values always behaves as a copy.\n",
      "\n",
      "For example, when doing 'df[col].method(value, inplace=True)', try using 'df.method({col: value}, inplace=True)' or df[col] = df[col].method(value) instead, to perform the operation inplace on the original object.\n",
      "\n",
      "\n",
      "  df['SOURCE'].fillna('Unknown', inplace=True)\n"
     ]
    }
   ],
   "source": [
    "#Fill Missing Values in Categorical Columns\n",
    "#filling missing values with 'unknowkn' for categorical features where missing values might just mean \"not reported.\"\n",
    "df['ACTOR2'].fillna('Unknown', inplace=True)\n",
    "df['ADMIN2'].fillna('Unknown', inplace=True)\n",
    "df['LOCATION'].fillna('Unknown', inplace=True)\n",
    "df['SOURCE'].fillna('Unknown', inplace=True)\n"
   ]
  },
  {
   "cell_type": "code",
   "execution_count": 14,
   "metadata": {},
   "outputs": [
    {
     "name": "stderr",
     "output_type": "stream",
     "text": [
      "/var/folders/gg/y7njvgln6bd7wj2ygfmd_r580000gn/T/ipykernel_9237/3772339072.py:3: FutureWarning: A value is trying to be set on a copy of a DataFrame or Series through chained assignment using an inplace method.\n",
      "The behavior will change in pandas 3.0. This inplace method will never work because the intermediate object on which we are setting values always behaves as a copy.\n",
      "\n",
      "For example, when doing 'df[col].method(value, inplace=True)', try using 'df.method({col: value}, inplace=True)' or df[col] = df[col].method(value) instead, to perform the operation inplace on the original object.\n",
      "\n",
      "\n",
      "  df['NOTES'].fillna('No information available', inplace=True)\n"
     ]
    }
   ],
   "source": [
    "#Fill Missing Values in NOTES Column\n",
    "#Since NOTES contains text descriptions of events, a reasonable approach is to replace missing values with \"No information available\" rather than dropping the column.\n",
    "df['NOTES'].fillna('No information available', inplace=True)\n"
   ]
  },
  {
   "cell_type": "code",
   "execution_count": 15,
   "metadata": {},
   "outputs": [
    {
     "name": "stdout",
     "output_type": "stream",
     "text": [
      "ACTOR1            0\n",
      "ACTOR2            0\n",
      "ADMIN1            0\n",
      "ADMIN2            0\n",
      "COUNTRY           0\n",
      "EVENT_DATE        0\n",
      "EVENT_ID_CNTY     0\n",
      "EVENT_TYPE        0\n",
      "FATALITIES        0\n",
      "GEO_PRECISION     0\n",
      "GWNO              0\n",
      "INTER1            0\n",
      "INTER2            0\n",
      "INTERACTION       0\n",
      "LATITUDE          0\n",
      "LOCATION          0\n",
      "LONGITUDE         0\n",
      "NOTES             0\n",
      "SOURCE            0\n",
      "TIME_PRECISION    0\n",
      "YEAR              0\n",
      "dtype: int64\n"
     ]
    }
   ],
   "source": [
    "#verifying that all missing values are handled \n",
    "print(df.isnull().sum())  # This should now show all zeros!\n"
   ]
  },
  {
   "cell_type": "code",
   "execution_count": 16,
   "metadata": {},
   "outputs": [],
   "source": [
    "df.columns = df.columns.str.lower().str.replace(\" \", \"_\")\n",
    "#Standarizing column names \n"
   ]
  },
  {
   "cell_type": "code",
   "execution_count": 17,
   "metadata": {},
   "outputs": [],
   "source": [
    "df.duplicated().sum()  # Count duplicates\n",
    "df.drop_duplicates(inplace=True)  # Remove duplicates\n"
   ]
  },
  {
   "cell_type": "code",
   "execution_count": 18,
   "metadata": {},
   "outputs": [
    {
     "name": "stderr",
     "output_type": "stream",
     "text": [
      "/var/folders/gg/y7njvgln6bd7wj2ygfmd_r580000gn/T/ipykernel_9237/2088706453.py:2: UserWarning: Parsing dates in %d/%m/%Y format when dayfirst=False (the default) was specified. Pass `dayfirst=True` or specify a format to silence this warning.\n",
      "  df[\"event_date\"] = pd.to_datetime(df[\"event_date\"], errors=\"coerce\")\n"
     ]
    }
   ],
   "source": [
    "#Convert Date Columns to Datetime Format\n",
    "df[\"event_date\"] = pd.to_datetime(df[\"event_date\"], errors=\"coerce\")\n"
   ]
  },
  {
   "cell_type": "code",
   "execution_count": 19,
   "metadata": {},
   "outputs": [
    {
     "name": "stdout",
     "output_type": "stream",
     "text": [
      "event_type\n",
      "Riots/Protests                                47224\n",
      "Violence against civilians                    45021\n",
      "Battle-No change of territory                 44005\n",
      "Strategic development                         10923\n",
      "Remote violence                               10456\n",
      "Battle-Government regains territory            2632\n",
      "Non-violent transfer of territory              2566\n",
      "Battle-Non-state actor overtakes territory     2135\n",
      "Headquarters or base established                771\n",
      "Remote Violence                                  30\n",
      "Violence Against Civilians                       21\n",
      "Battle-no change of territory                    16\n",
      "Strategic Development                             7\n",
      "Strategic development                             1\n",
      "Name: count, dtype: int64\n",
      "country\n",
      "Somalia                         25232\n",
      "Democratic Republic of Congo    12294\n",
      "Nigeria                         12253\n",
      "Sudan                           12018\n",
      "South Africa                    10887\n",
      "Egypt                            9290\n",
      "Burundi                          7396\n",
      "Libya                            6532\n",
      "Zimbabwe                         6001\n",
      "Kenya                            5812\n",
      "Algeria                          5309\n",
      "Uganda                           5185\n",
      "South Sudan                      5144\n",
      "Ethiopia                         5035\n",
      "Sierra Leone                     4669\n",
      "Tunisia                          4493\n",
      "Central African Republic         3973\n",
      "Angola                           3181\n",
      "Ivory Coast                      1804\n",
      "Mali                             1753\n",
      "Liberia                          1369\n",
      "Morocco                          1355\n",
      "Zambia                           1289\n",
      "Senegal                          1132\n",
      "Madagascar                       1064\n",
      "Burkina Faso                     1032\n",
      "Cameroon                          937\n",
      "Guinea                            894\n",
      "Mozambique                        886\n",
      "Namibia                           754\n",
      "Tanzania                          746\n",
      "Chad                              732\n",
      "Ghana                             671\n",
      "Niger                             660\n",
      "Rwanda                            633\n",
      "Republic of Congo                 473\n",
      "Mauritania                        467\n",
      "Malawi                            434\n",
      "Eritrea                           408\n",
      "Togo                              258\n",
      "Guinea-Bissau                     233\n",
      "Gabon                             215\n",
      "Swaziland                         198\n",
      "Gambia                            190\n",
      "Benin                             187\n",
      "Lesotho                           118\n",
      "Djibouti                          112\n",
      "Botswana                           53\n",
      "Equatorial Guinea                  46\n",
      "Mozambique                          1\n",
      "Name: count, dtype: int64\n"
     ]
    }
   ],
   "source": [
    "#Basic Exploratory Data Analysis (EDA)\n",
    "print(df[\"event_type\"].value_counts())  # Count unique event types\n",
    "print(df[\"country\"].value_counts())  # See event distribution per country\n"
   ]
  },
  {
   "cell_type": "code",
   "execution_count": 20,
   "metadata": {},
   "outputs": [
    {
     "data": {
      "text/html": [
       "<div>\n",
       "<style scoped>\n",
       "    .dataframe tbody tr th:only-of-type {\n",
       "        vertical-align: middle;\n",
       "    }\n",
       "\n",
       "    .dataframe tbody tr th {\n",
       "        vertical-align: top;\n",
       "    }\n",
       "\n",
       "    .dataframe thead th {\n",
       "        text-align: right;\n",
       "    }\n",
       "</style>\n",
       "<table border=\"1\" class=\"dataframe\">\n",
       "  <thead>\n",
       "    <tr style=\"text-align: right;\">\n",
       "      <th></th>\n",
       "      <th>event_date</th>\n",
       "      <th>fatalities</th>\n",
       "      <th>geo_precision</th>\n",
       "      <th>gwno</th>\n",
       "      <th>inter1</th>\n",
       "      <th>inter2</th>\n",
       "      <th>interaction</th>\n",
       "      <th>time_precision</th>\n",
       "      <th>year</th>\n",
       "    </tr>\n",
       "  </thead>\n",
       "  <tbody>\n",
       "    <tr>\n",
       "      <th>count</th>\n",
       "      <td>165808</td>\n",
       "      <td>165808.000000</td>\n",
       "      <td>165808.000000</td>\n",
       "      <td>165808.000000</td>\n",
       "      <td>165808.000000</td>\n",
       "      <td>165808.000000</td>\n",
       "      <td>165808.000000</td>\n",
       "      <td>165808.000000</td>\n",
       "      <td>165808.000000</td>\n",
       "    </tr>\n",
       "    <tr>\n",
       "      <th>mean</th>\n",
       "      <td>2011-03-26 18:33:14.711955968</td>\n",
       "      <td>4.420257</td>\n",
       "      <td>1.261061</td>\n",
       "      <td>538.296964</td>\n",
       "      <td>3.385500</td>\n",
       "      <td>3.193603</td>\n",
       "      <td>32.001604</td>\n",
       "      <td>1.138751</td>\n",
       "      <td>2010.760898</td>\n",
       "    </tr>\n",
       "    <tr>\n",
       "      <th>min</th>\n",
       "      <td>1997-01-01 00:00:00</td>\n",
       "      <td>0.000000</td>\n",
       "      <td>1.000000</td>\n",
       "      <td>404.000000</td>\n",
       "      <td>1.000000</td>\n",
       "      <td>0.000000</td>\n",
       "      <td>10.000000</td>\n",
       "      <td>1.000000</td>\n",
       "      <td>1997.000000</td>\n",
       "    </tr>\n",
       "    <tr>\n",
       "      <th>25%</th>\n",
       "      <td>2007-10-22 00:00:00</td>\n",
       "      <td>0.000000</td>\n",
       "      <td>1.000000</td>\n",
       "      <td>490.000000</td>\n",
       "      <td>1.000000</td>\n",
       "      <td>0.000000</td>\n",
       "      <td>15.000000</td>\n",
       "      <td>1.000000</td>\n",
       "      <td>2007.000000</td>\n",
       "    </tr>\n",
       "    <tr>\n",
       "      <th>50%</th>\n",
       "      <td>2013-08-03 00:00:00</td>\n",
       "      <td>0.000000</td>\n",
       "      <td>1.000000</td>\n",
       "      <td>520.000000</td>\n",
       "      <td>3.000000</td>\n",
       "      <td>2.000000</td>\n",
       "      <td>28.000000</td>\n",
       "      <td>1.000000</td>\n",
       "      <td>2013.000000</td>\n",
       "    </tr>\n",
       "    <tr>\n",
       "      <th>75%</th>\n",
       "      <td>2016-01-06 00:00:00</td>\n",
       "      <td>1.000000</td>\n",
       "      <td>1.000000</td>\n",
       "      <td>615.000000</td>\n",
       "      <td>5.000000</td>\n",
       "      <td>7.000000</td>\n",
       "      <td>47.000000</td>\n",
       "      <td>1.000000</td>\n",
       "      <td>2016.000000</td>\n",
       "    </tr>\n",
       "    <tr>\n",
       "      <th>max</th>\n",
       "      <td>2017-07-29 00:00:00</td>\n",
       "      <td>25000.000000</td>\n",
       "      <td>3.000000</td>\n",
       "      <td>651.000000</td>\n",
       "      <td>8.000000</td>\n",
       "      <td>8.000000</td>\n",
       "      <td>88.000000</td>\n",
       "      <td>3.000000</td>\n",
       "      <td>2017.000000</td>\n",
       "    </tr>\n",
       "    <tr>\n",
       "      <th>std</th>\n",
       "      <td>NaN</td>\n",
       "      <td>76.071441</td>\n",
       "      <td>0.524248</td>\n",
       "      <td>61.974200</td>\n",
       "      <td>2.033114</td>\n",
       "      <td>2.920635</td>\n",
       "      <td>18.284381</td>\n",
       "      <td>0.441038</td>\n",
       "      <td>5.897476</td>\n",
       "    </tr>\n",
       "  </tbody>\n",
       "</table>\n",
       "</div>"
      ],
      "text/plain": [
       "                          event_date     fatalities  geo_precision  \\\n",
       "count                         165808  165808.000000  165808.000000   \n",
       "mean   2011-03-26 18:33:14.711955968       4.420257       1.261061   \n",
       "min              1997-01-01 00:00:00       0.000000       1.000000   \n",
       "25%              2007-10-22 00:00:00       0.000000       1.000000   \n",
       "50%              2013-08-03 00:00:00       0.000000       1.000000   \n",
       "75%              2016-01-06 00:00:00       1.000000       1.000000   \n",
       "max              2017-07-29 00:00:00   25000.000000       3.000000   \n",
       "std                              NaN      76.071441       0.524248   \n",
       "\n",
       "                gwno         inter1         inter2    interaction  \\\n",
       "count  165808.000000  165808.000000  165808.000000  165808.000000   \n",
       "mean      538.296964       3.385500       3.193603      32.001604   \n",
       "min       404.000000       1.000000       0.000000      10.000000   \n",
       "25%       490.000000       1.000000       0.000000      15.000000   \n",
       "50%       520.000000       3.000000       2.000000      28.000000   \n",
       "75%       615.000000       5.000000       7.000000      47.000000   \n",
       "max       651.000000       8.000000       8.000000      88.000000   \n",
       "std        61.974200       2.033114       2.920635      18.284381   \n",
       "\n",
       "       time_precision           year  \n",
       "count   165808.000000  165808.000000  \n",
       "mean         1.138751    2010.760898  \n",
       "min          1.000000    1997.000000  \n",
       "25%          1.000000    2007.000000  \n",
       "50%          1.000000    2013.000000  \n",
       "75%          1.000000    2016.000000  \n",
       "max          3.000000    2017.000000  \n",
       "std          0.441038       5.897476  "
      ]
     },
     "execution_count": 20,
     "metadata": {},
     "output_type": "execute_result"
    }
   ],
   "source": [
    "# Summary statistics for numerical columns\n",
    "df.describe()\n"
   ]
  },
  {
   "cell_type": "code",
   "execution_count": 21,
   "metadata": {},
   "outputs": [
    {
     "name": "stdout",
     "output_type": "stream",
     "text": [
      "Index(['actor1', 'actor2', 'admin1', 'admin2', 'country', 'event_date',\n",
      "       'event_id_cnty', 'event_type', 'fatalities', 'geo_precision', 'gwno',\n",
      "       'inter1', 'inter2', 'interaction', 'latitude', 'location', 'longitude',\n",
      "       'notes', 'source', 'time_precision', 'year'],\n",
      "      dtype='object')\n"
     ]
    }
   ],
   "source": [
    "print(df.columns)\n"
   ]
  },
  {
   "cell_type": "code",
   "execution_count": 22,
   "metadata": {},
   "outputs": [],
   "source": [
    "df.columns = df.columns.str.upper()  # Convert all column names to uppercase\n",
    "#I had to convertr all column names to upper because the code bellow was showing an error, and that was because it is case sensitive. \n"
   ]
  },
  {
   "cell_type": "code",
   "execution_count": 23,
   "metadata": {},
   "outputs": [
    {
     "name": "stdout",
     "output_type": "stream",
     "text": [
      "EVENT_TYPE: 14 unique values\n",
      "COUNTRY: 50 unique values\n",
      "ADMIN1: 735 unique values\n",
      "ACTOR1: 3288 unique values\n",
      "ACTOR2: 2828 unique values\n"
     ]
    }
   ],
   "source": [
    "# Count unique values for categorical columns\n",
    "categorical_columns = ['EVENT_TYPE', 'COUNTRY', 'ADMIN1', 'ACTOR1', 'ACTOR2']\n",
    "for col in categorical_columns:\n",
    "    print(f\"{col}: {df[col].nunique()} unique values\")\n"
   ]
  },
  {
   "cell_type": "code",
   "execution_count": 24,
   "metadata": {},
   "outputs": [
    {
     "name": "stdout",
     "output_type": "stream",
     "text": [
      "EVENT_TYPE\n",
      "Riots/Protests                                47224\n",
      "Violence against civilians                    45021\n",
      "Battle-No change of territory                 44005\n",
      "Strategic development                         10923\n",
      "Remote violence                               10456\n",
      "Battle-Government regains territory            2632\n",
      "Non-violent transfer of territory              2566\n",
      "Battle-Non-state actor overtakes territory     2135\n",
      "Headquarters or base established                771\n",
      "Remote Violence                                  30\n",
      "Name: count, dtype: int64\n",
      "COUNTRY\n",
      "Somalia                         25232\n",
      "Democratic Republic of Congo    12294\n",
      "Nigeria                         12253\n",
      "Sudan                           12018\n",
      "South Africa                    10887\n",
      "Egypt                            9290\n",
      "Burundi                          7396\n",
      "Libya                            6532\n",
      "Zimbabwe                         6001\n",
      "Kenya                            5812\n",
      "Name: count, dtype: int64\n",
      "ACTOR1\n",
      "Unidentified Armed Group (Somalia)    5896\n",
      "Protesters (South Africa)             5215\n",
      "Military Forces of Somalia (2012-)    4484\n",
      "Rioters (South Africa)                3834\n",
      "Al Shabaab                            3347\n",
      "Protesters (Egypt)                    3161\n",
      "Military Forces of Sudan (1989-)      3073\n",
      "Protesters (Nigeria)                  2961\n",
      "LRA: Lords Resistance Army            2842\n",
      "Protesters (Tunisia)                  2693\n",
      "Name: count, dtype: int64\n"
     ]
    }
   ],
   "source": [
    "#Find the most frequent values in key columns \n",
    "# Most common event types\n",
    "print(df['EVENT_TYPE'].value_counts().head(10))\n",
    "\n",
    "# Most affected countries\n",
    "print(df['COUNTRY'].value_counts().head(10))\n",
    "\n",
    "# Most frequent actors in conflicts\n",
    "print(df['ACTOR1'].value_counts().head(10))\n"
   ]
  },
  {
   "cell_type": "code",
   "execution_count": 25,
   "metadata": {},
   "outputs": [
    {
     "data": {
      "text/plain": [
       "count    165808.000000\n",
       "mean          4.420257\n",
       "std          76.071441\n",
       "min           0.000000\n",
       "25%           0.000000\n",
       "50%           0.000000\n",
       "75%           1.000000\n",
       "max       25000.000000\n",
       "Name: FATALITIES, dtype: float64"
      ]
     },
     "execution_count": 25,
     "metadata": {},
     "output_type": "execute_result"
    }
   ],
   "source": [
    "#Checking the distribution of fatalities \n",
    "# Check the distribution of fatalities\n",
    "df['FATALITIES'].describe()\n"
   ]
  },
  {
   "cell_type": "code",
   "execution_count": 26,
   "metadata": {},
   "outputs": [],
   "source": [
    "#DATA VIZ "
   ]
  },
  {
   "cell_type": "code",
   "execution_count": 27,
   "metadata": {},
   "outputs": [],
   "source": [
    "import matplotlib.pyplot as plt\n",
    "import seaborn as sns"
   ]
  },
  {
   "cell_type": "code",
   "execution_count": 28,
   "metadata": {},
   "outputs": [
    {
     "name": "stderr",
     "output_type": "stream",
     "text": [
      "/var/folders/gg/y7njvgln6bd7wj2ygfmd_r580000gn/T/ipykernel_9237/3039830590.py:4: FutureWarning: \n",
      "\n",
      "Passing `palette` without assigning `hue` is deprecated and will be removed in v0.14.0. Assign the `y` variable to `hue` and set `legend=False` for the same effect.\n",
      "\n",
      "  sns.countplot(y=df['EVENT_TYPE'], order=df['EVENT_TYPE'].value_counts().index, palette='viridis')\n"
     ]
    },
    {
     "data": {
      "image/png": "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",
      "text/plain": [
       "<Figure size 1200x600 with 1 Axes>"
      ]
     },
     "metadata": {},
     "output_type": "display_data"
    }
   ],
   "source": [
    "#EVENT TYPE DISTRIBUTION \n",
    "\n",
    "plt.figure(figsize=(12, 6))\n",
    "sns.countplot(y=df['EVENT_TYPE'], order=df['EVENT_TYPE'].value_counts().index, palette='viridis')\n",
    "plt.title('Distribution of Event Types')\n",
    "plt.xlabel('Count')\n",
    "plt.ylabel('Event Type')\n",
    "plt.show()\n"
   ]
  },
  {
   "cell_type": "code",
   "execution_count": 29,
   "metadata": {},
   "outputs": [
    {
     "name": "stderr",
     "output_type": "stream",
     "text": [
      "/var/folders/gg/y7njvgln6bd7wj2ygfmd_r580000gn/T/ipykernel_9237/418306813.py:5: FutureWarning: \n",
      "\n",
      "The `ci` parameter is deprecated. Use `errorbar=None` for the same effect.\n",
      "\n",
      "  sns.lineplot(data=df, x=\"YEAR\", y=\"FATALITIES\", estimator='sum', ci=None, marker=\"o\", color='red')\n"
     ]
    },
    {
     "data": {
      "image/png": "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",
      "text/plain": [
       "<Figure size 1200x600 with 1 Axes>"
      ]
     },
     "metadata": {},
     "output_type": "display_data"
    }
   ],
   "source": [
    "#Fatalities over time \n",
    "plt.figure(figsize=(12, 6))\n",
    "\n",
    "# Line plot for Fatalities over the Years\n",
    "sns.lineplot(data=df, x=\"YEAR\", y=\"FATALITIES\", estimator='sum', ci=None, marker=\"o\", color='red')\n",
    "\n",
    "# Title and labels\n",
    "plt.title(\"Fatalities Over Time (1997-2017)\", fontsize=14)\n",
    "plt.xlabel(\"Year\", fontsize=12)\n",
    "plt.ylabel(\"Total Fatalities\", fontsize=12)\n",
    "\n",
    "# Show the plot\n",
    "plt.show()\n"
   ]
  },
  {
   "cell_type": "code",
   "execution_count": 30,
   "metadata": {},
   "outputs": [
    {
     "name": "stdout",
     "output_type": "stream",
     "text": [
      "Index(['ACTOR1', 'ACTOR2', 'ADMIN1', 'ADMIN2', 'COUNTRY', 'EVENT_DATE',\n",
      "       'EVENT_ID_CNTY', 'EVENT_TYPE', 'FATALITIES', 'GEO_PRECISION', 'GWNO',\n",
      "       'INTER1', 'INTER2', 'INTERACTION', 'LATITUDE', 'LOCATION', 'LONGITUDE',\n",
      "       'NOTES', 'SOURCE', 'TIME_PRECISION', 'YEAR'],\n",
      "      dtype='object')\n"
     ]
    }
   ],
   "source": [
    "print(df.columns)\n"
   ]
  },
  {
   "cell_type": "code",
   "execution_count": 31,
   "metadata": {},
   "outputs": [
    {
     "name": "stdout",
     "output_type": "stream",
     "text": [
      "['Violence against civilians' 'Riots/Protests'\n",
      " 'Battle-No change of territory' 'Strategic development' 'Remote violence'\n",
      " 'Battle-no change of territory'\n",
      " 'Battle-Non-state actor overtakes territory'\n",
      " 'Headquarters or base established' 'Non-violent transfer of territory'\n",
      " 'Battle-Government regains territory' 'Remote Violence'\n",
      " 'Violence Against Civilians' 'Strategic Development'\n",
      " 'Strategic development ']\n",
      "object\n"
     ]
    }
   ],
   "source": [
    "print(df['EVENT_TYPE'].unique())\n",
    "print(df['EVENT_TYPE'].dtype)\n"
   ]
  },
  {
   "cell_type": "code",
   "execution_count": 32,
   "metadata": {},
   "outputs": [],
   "source": [
    "df['EVENT_TYPE'] = df['EVENT_TYPE'].astype(str).fillna(\"Unknown\")\n",
    "df['EVENT_TYPE'] = df['EVENT_TYPE'].astype('category')\n"
   ]
  },
  {
   "cell_type": "code",
   "execution_count": 33,
   "metadata": {},
   "outputs": [
    {
     "name": "stdout",
     "output_type": "stream",
     "text": [
      "0\n",
      "category\n",
      "['Violence against civilians', 'Riots/Protests', 'Battle-No change of territory', 'Strategic development', 'Remote violence', ..., 'Battle-Government regains territory', 'Remote Violence', 'Violence Against Civilians', 'Strategic Development', 'Strategic development ']\n",
      "Length: 14\n",
      "Categories (14, object): ['Battle-Government regains territory', 'Battle-No change of territory', 'Battle-Non-state actor overtakes territory', 'Battle-no change of territory', ..., 'Strategic development', 'Strategic development ', 'Violence Against Civilians', 'Violence against civilians']\n"
     ]
    }
   ],
   "source": [
    "print(df['EVENT_TYPE'].isnull().sum())  # Check missing values\n",
    "print(df['EVENT_TYPE'].dtype)  # Confirm datatype\n",
    "print(df['EVENT_TYPE'].unique())  # Inspect unique values\n"
   ]
  },
  {
   "cell_type": "code",
   "execution_count": 34,
   "metadata": {},
   "outputs": [],
   "source": [
    "df['EVENT_TYPE'] = df['EVENT_TYPE'].astype(str)  # Ensure all are strings\n",
    "df['EVENT_TYPE'] = df['EVENT_TYPE'].fillna(\"Unknown\")  # Fill missing values\n",
    "df['EVENT_TYPE'] = df['EVENT_TYPE'].str.strip()  # Remove any extra spaces\n",
    "df['EVENT_TYPE'] = df['EVENT_TYPE'].astype('category')  # Convert to category\n"
   ]
  },
  {
   "cell_type": "code",
   "execution_count": null,
   "metadata": {},
   "outputs": [
    {
     "name": "stdout",
     "output_type": "stream",
     "text": [
      "Missing values: 0\n",
      "Data type: category\n",
      "Unique values: ['Violence against civilians', 'Riots/Protests', 'Battle-No change of territory', 'Strategic development', 'Remote violence', ..., 'Non-violent transfer of territory', 'Battle-Government regains territory', 'Remote Violence', 'Violence Against Civilians', 'Strategic Development']\n",
      "Length: 13\n",
      "Categories (13, object): ['Battle-Government regains territory', 'Battle-No change of territory', 'Battle-Non-state actor overtakes territory', 'Battle-no change of territory', ..., 'Strategic Development', 'Strategic development', 'Violence Against Civilians', 'Violence against civilians']\n",
      "                           EVENT_TYPE\n",
      "83952           Strategic development\n",
      "3950       Violence against civilians\n",
      "145716     Violence against civilians\n",
      "147037     Violence against civilians\n",
      "105855  Battle-No change of territory\n",
      "156350     Violence against civilians\n",
      "159706          Strategic development\n",
      "90125      Violence against civilians\n",
      "32019   Battle-No change of territory\n",
      "134716     Violence against civilians\n"
     ]
    }
   ],
   "source": [
    "print(\"Missing values:\", df['EVENT_TYPE'].isnull().sum())\n",
    "print(\"Data type:\", df['EVENT_TYPE'].dtype)\n",
    "print(\"Unique values:\", df['EVENT_TYPE'].unique())  # Check if there are unexpected values\n",
    "print(df[['EVENT_TYPE']].sample(10))  # Inspect random samples\n"
   ]
  },
  {
   "cell_type": "code",
   "execution_count": null,
   "metadata": {},
   "outputs": [
    {
     "name": "stdout",
     "output_type": "stream",
     "text": [
      "['Violence against civilians', 'Riots/Protests', 'Battle-No change of territory', 'Strategic development', 'Remote violence', ..., 'Non-violent transfer of territory', 'Battle-Government regains territory', 'Remote Violence', 'Violence Against Civilians', 'Strategic Development']\n",
      "Length: 13\n",
      "Categories (13, object): ['Battle-Government regains territory', 'Battle-No change of territory', 'Battle-Non-state actor overtakes territory', 'Battle-no change of territory', ..., 'Strategic Development', 'Strategic development', 'Violence Against Civilians', 'Violence against civilians']\n",
      "category\n"
     ]
    }
   ],
   "source": [
    "# Ensure all event types are strings, strip spaces, and replace NaN values\n",
    "df['EVENT_TYPE'] = df['EVENT_TYPE'].astype(str).fillna(\"Unknown\").str.strip()\n",
    "\n",
    "# Convert to category type\n",
    "df['EVENT_TYPE'] = df['EVENT_TYPE'].astype('category')\n",
    "\n",
    "# Verify that all issues are resolved\n",
    "print(df['EVENT_TYPE'].unique())\n",
    "print(df['EVENT_TYPE'].dtype)\n"
   ]
  },
  {
   "cell_type": "code",
   "execution_count": 36,
   "metadata": {},
   "outputs": [],
   "source": [
    "import matplotlib.pyplot as plt\n",
    "import seaborn as sns"
   ]
  },
  {
   "cell_type": "code",
   "execution_count": 38,
   "metadata": {},
   "outputs": [
    {
     "name": "stdout",
     "output_type": "stream",
     "text": [
      "['Violence against civilians', 'Riots/Protests', 'Battle-No change of territory', 'Strategic development', 'Remote violence', ..., 'Non-violent transfer of territory', 'Battle-Government regains territory', 'Remote Violence', 'Violence Against Civilians', 'Strategic Development']\n",
      "Length: 13\n",
      "Categories (13, object): ['Battle-Government regains territory', 'Battle-No change of territory', 'Battle-Non-state actor overtakes territory', 'Battle-no change of territory', ..., 'Strategic Development', 'Strategic development', 'Violence Against Civilians', 'Violence against civilians']\n",
      "category\n",
      "0\n"
     ]
    }
   ],
   "source": [
    "print(df['EVENT_TYPE'].unique())\n",
    "print(df['EVENT_TYPE'].dtype)\n",
    "print(df['EVENT_TYPE'].isnull().sum())  # Check for missing values\n"
   ]
  },
  {
   "cell_type": "code",
   "execution_count": 39,
   "metadata": {},
   "outputs": [],
   "source": [
    "df['EVENT_TYPE'] = df['EVENT_TYPE'].astype(str).fillna(\"Unknown\").str.strip()\n",
    "df['EVENT_TYPE'] = df['EVENT_TYPE'].astype('category')\n"
   ]
  },
  {
   "cell_type": "code",
   "execution_count": 41,
   "metadata": {},
   "outputs": [
    {
     "name": "stdout",
     "output_type": "stream",
     "text": [
      "LATITUDE     object\n",
      "LONGITUDE    object\n",
      "dtype: object\n"
     ]
    }
   ],
   "source": [
    "#Checking the typo of LATITUDE AND LONGTUED \n",
    "print(df[['LATITUDE', 'LONGITUDE']].dtypes)\n"
   ]
  },
  {
   "cell_type": "code",
   "execution_count": 44,
   "metadata": {},
   "outputs": [],
   "source": [
    "#As LATITUED and LONGITUDe wer not float, and instead wer eobjects I needed to convert them into floats. \n",
    "# The error happened because some values were stored as strings or had invalid characters\n",
    "# 'errors=\"coerce\"' ensures that any non-numeric values (like missing or corrupted data) become NaN\n",
    "# Seaborn requires float values for scatter plots (coordinates cannot be strings)\n",
    "# Some CSV files store numbers as text, which must be converted\n",
    "df['LATITUDE'] = pd.to_numeric(df['LATITUDE'], errors='coerce')\n",
    "df['LONGITUDE'] = pd.to_numeric(df['LONGITUDE'], errors='coerce')\n"
   ]
  },
  {
   "cell_type": "code",
   "execution_count": 43,
   "metadata": {},
   "outputs": [
    {
     "data": {
      "image/png": "iVBORw0KGgoAAAANSUhEUgAAA/EAAAK/CAYAAAAh5E09AAAAOXRFWHRTb2Z0d2FyZQBNYXRwbG90bGliIHZlcnNpb24zLjkuMiwgaHR0cHM6Ly9tYXRwbG90bGliLm9yZy8hTgPZAAAACXBIWXMAAA9hAAAPYQGoP6dpAAEAAElEQVR4nOzdd5xdZZ348c855/Y+d3rvmdRJr5BGIAGR3hQLsujaWYVdfrisAjYsqyuuumtbsQGCoCAltEACpCekZybT+8ydO7f3e885vz8mGTIkoYamz1vnpfOc9j1t4HueJum6riMIgiAIgiAIgiAIwnue/G4HIAiCIAiCIAiCIAjC6yOSeEEQBEEQBEEQBEF4nxBJvCAIgiAIgiAIgiC8T4gkXhAEQRAEQRAEQRDeJ0QSLwiCIAiCIAiCIAjvEyKJFwRBEARBEARBEIT3CZHEC4IgCIIgCIIgCML7hEjiBUEQBEEQBEEQBOF9QiTxgiAIgiAIgiAIgvA+IZJ4QRAE4R/KXXfdhSRJ3HXXXa97G0mSWLVq1dsW0yvV1NRQU1Pzth/nzVyL0+lk1/UTn/gEkiTR3d39rsT03HPPIUkSt91227ty/NNhcHCQj370o5SXlyPLMpIkvdshCYIgCKeRSOIFQRDeR/bs2cNnPvMZpk+fjsvlwmQyUVpaytq1a/nRj37E2NjYux2i8A47lnQe/+NwOKisrOS8887jO9/5DoODg2/Lsd+pjw2n2zv9Uead9olPfIK7776b1atX89WvfpVbb731Vdc/9jHn1X6+9KUvvTPBvwm33XYbkiTx3HPPvduhCIIgvCMM73YAgiAIwmvTNI2bbrqJH/zgBxgMBlasWMHatWux2Wz4fD42b97Ml7/8Zb72ta/R2dlJQUHBux3y35XDhw9js9ne7TBe1fz58/ngBz8IQCKRYHh4mM2bN7N+/Xpuv/12vve97/HFL35x0jaXXHIJS5YsobS09N0I+T15XRctWsThw4fft+9QJpPhmWeeYe3atfzhD394Q9uuWbOGM88886TLlixZcjrCEwRBEE4DkcQLgiC8D9xyyy384Ac/YMGCBdx7773U19efsM6OHTu46aabSKVS70KEf9+mTp36bofwmhYsWHDSJuAPPfQQ1113Hddffz02m43rrrtuYpnb7cbtdr+DUU72XryuNpvtPRnX6zU8PIymaZSUlLzhbc8++2xuvvnmtyEqQRAE4XQSzekFQRDe49ra2vj+979PUVERjz/++EkTeICFCxeyYcOGk9aq7tu3jw996EOUlpZiMpmorq7mi1/84imb3z/yyCOsXr0at9uN1Wplzpw5/OhHP0JV1ZOu//Of/5wZM2ZgsViorKyc+JhwsmbLq1atQpIk0uk0X/va12hoaMBoNE4koEeOHOGmm25i3rx55OfnY7FYmDJlCjfffDOxWOyEYx/bXyqV4qabbqKyshKLxcKsWbP4v//7v1e5svDMM89w5plnYrfbyc/P55prrjnpNTlV8+tMJsOdd97JokWLcDqdOBwOpk+fzg033EAwGJxY79lnn+Wf/umfaGpqwuFw4HA4WLBgAb/4xS9eNb7T4aKLLuLBBx8E4OabbyYej08sO1Wf+N27d3P55ZdTVVWF2WymuLiYpUuX8p3vfAeA7u5uJEmip6eHnp6eSc2uj93H4/uWb9myhXXr1uHxeCb1z361Zu2qqnLHHXfQ0NCAxWKhsbGR73//+2iaNmm9V+vX/8r+7cd+B9i4ceOkuI9t/2p94g8ePMhVV11FUVERZrOZ2tpavvzlLxMIBE5Y91hXg3g8zg033EB5eTlms5nm5mb+/Oc/n/ScTyWRSHDbbbcxdepULBYLXq+X888/n82bN09ab9WqVVRXVwPw29/+9oR7cjps2rQJSZImfQw6Xn9/P4qisGbNmknl0WiUW2+9lRkzZmC1WvF4PJx77rm88MILJ+zj2Dudy+X4xje+QW1tLWazmSlTpvCzn/3shHVvv/12AFavXj1xzsd382hra+Paa6+ltrYWi8VCQUEB8+bN48Ybb3yLV0MQBOHdIWriBUEQ3uPuuusuVFXl05/+9Gs28ZUkCUVRJpU9/PDDXHnllSiKwoUXXkhlZSWHDh3iJz/5CU888QTbtm0jLy9vYv0777yTL33pS3i9Xq6++mrsdjt/+9vf+PKXv8zzzz/Pn//850mJ2Ne+9jW+8Y1vUFpayj//8z9jMBi4//77aWlpedVYL730Uvbu3cu6devwer3U1dUB8OCDD/LrX/+a1atXs2rVKjRNY+vWrXz3u99l48aNbNq0CaPReML+rrjiCvbt28cVV1xBNpvlvvvu47rrrmNkZISvfOUrJ6z/t7/9jUceeYQLLriAz372s2zatInf/e53dHR0nDSxeKVUKsW6devYtGkTjY2NXHvttZjNZtra2vjf//1fPv7xj09c1+9+97u0t7ezZMkSLrnkEkKhEOvXr+fTn/40ra2t/OAHP3jN470VK1asYMWKFWzatIkNGzZwwQUXnHLdPXv2sGzZMhRF4aKLLqK6uppQKMTBgwf55S9/yc0334zH4+HWW2/lRz/6EcCk/tKvTMo3b97Mt7/9bVavXs0///M/09vb+7pi/tKXvsTWrVu58sorsVgsPPjgg9x00020t7fz85///I1eAmA8sb711lu5/fbbqa6u5hOf+MTEsjlz5rzqtps3b2bt2rWk02kuv/xyampq2Lp1Kz/60Y949NFH2bJlC/n5+ZO2yWazrF27lkAgwKWXXkoikeDee+/lyiuvZP369axdu/Y1Y06n06xZs4atW7cyb948vvSlL+Hz+fjTn/7Ek08+yZ/+9CcuvfRSYLwv/Jw5c7jzzjuZPXs2F198MXDiPXkrli9fTk1NDQ888AA//elPsVgsk5b/8Y9/RNM0Pvaxj02UBQIBVqxYwcGDB1m+fDnr1q0jHA7z0EMPsXr1au6///6JWI/34Q9/mG3btnHeeeehKAr33Xcfn//85zEajXzqU5+aOGcY/yhzzTXXTCTvHo8HGB/kb9GiRcTjcc4//3yuuuoqYrEYbW1t/Pd///fb/u4JgiC8LXRBEAThPW316tU6oG/YsOENb+v3+3WXy6VXVFToPT09k5bdfffdOqB/4QtfmCjr6OjQDQaDXlRUpPf29k6Up9NpfeXKlTqg//73v58ob21t1RVF0auqqnS/3z9RHo1G9RkzZuiAvnLlyknHPbafOXPm6GNjYyfE3N/fr6fT6RPKb7/9dh3Q//CHP5x0f9OnT9cjkchE+dDQkF5aWqobDAa9o6Njovw3v/mNDugGg0F/4YUXJspzuZy+atUqHdC3bNky6RgnO49/+7d/0wH9Yx/7mJ7L5SYtC4VCejQanfi9s7PzhPPJZrP6OeecoyuKcsK9qa6u1qurq0/Y5mSeffZZHdA//elPv+p6X/3qV3VA/+pXvzpRduxa/OY3v5kou+GGG3RAf+ihh07Yx/H3+LXiPBYXoP/6178+6Tonu67XXHONDujFxcX6wMDARHk0GtVnzZqlA/qmTZte9RxeGcOtt976msd9tW1UVdUbGxt1QF+/fv2k9b/yla/ogH7ddddNKq+urtYB/aKLLpr0PD/99NM6oK9bt+6kx3+lr3/96zqgf+QjH9E1TZso37t3r242m/W8vLxJz31XV5cO6Ndcc83r2r+uv3wN16xZo996660n/Tl8+PDE+rfccosO6Pfdd98J+5o1a5ZutVonxXT11VfrgP5///d/k9YdHh7WKysr9cLCQj2ZTE6UH3unFy9erIfD4YnylpYW3WAw6E1NTZP2c+utt+qA/uyzz54Qz49//GMd0O+8884Tlo2Ojr72xREEQXgPEs3pBUEQ3uOGh4cBKCsrO2HZhg0buO222yb9HF+L/Lvf/Y5IJMIdd9xBVVXVpG0//OEPM2/ePO69996Jsj/+8Y/kcjluvPFGKisrJ8pNJtNEU+rjmy3fc889qKrKjTfeOKkW0uFw8B//8R+vel633347Xq/3hPLy8nJMJtMJ5V/4whcAePrpp0+6v1tuuQWn0znxe0lJCTfccAO5XI677777hPWvvvpqzjjjjInfFUXhmmuuAcbHF3g1qqry85//HLfbzZ133nlC6we3243D4Zj4vba29oR9GAwGPvOZz6CqKs8+++yrHu90OPb8+P3+17W+1Wo9oeyVNc2vx9y5c/mnf/qnN7zd9ddfP+mZdzgcfO1rXwPGm4q/k1588UXa2to477zzWLdu3aRlt9xyC/n5+dx9991kMpkTtv2v//qvSc/zmjVrqK6ufs1n7Ji77roLo9HId77znUktYJqbm/nEJz5BMBjkoYceepNnNtkzzzzD7bffftKf41vWHKtlf+XAeXv37mX//v1cdNFFE++i3+/nT3/6E2vWrOHaa6+dtH5xcTH/9m//xujo6Enf6zvuuAOXyzXxe1NTE2eccQatra1Eo9E3dG4ne57fr4MXCoIgiOb0giAI73G6rp9y2YYNG/jWt741qcxisUyMML1169aJ/21vbz9h+1Qqhd/vx+/3U1BQwEsvvQScvPntkiVLsFqt7NmzZ6Js7969ACxbtuyE9U9WdrxFixadtFzXdX7zm99w1113ceDAAcLh8KR+0KeaLm358uWnLDs+5mPmzZt3QllFRQUAoVDoVWNvaWkhEolw9tlnT+qKcCrRaJT//M//5K9//SsdHR2T+qXDqc/pdHq15+h4l19+OT/60Y+4+OKLufLKKznnnHM488wzT/gI9Hqd6j6/ljd6P99Or/Ze2O12FixYwBNPPMGRI0eYOXPmxDKPx3PSDzgVFRVs2bLlNY8biUTo7Oxk2rRpE8/m8VatWsXPf/5z9uzZw0c/+tE3cEYnd8cdd7yuge2amppYsGABjz/+OIFAYOJj3O9//3uASU3pd+zYgaqqpFKpk/bNb2trA8bfqWOzKxzzWu/o8R/tTuWDH/wgN998M5///Od56qmnOPfccznzzDOZMmXKa24rCILwXiWSeEEQhPe44uJiWlpaGBgYoKmpadKyb37zm3zzm98ExmvsXlnTdWzArZ/+9Keveox4PE5BQQGRSGTimCdTVFTEwMDAxO/H1i8sLDxp3K/mVMuvv/56fvKTn1BZWcmFF15IaWkpZrMZGK+9T6fTp4ztVMcIh8MnLDvZqOwGw/g/Fk81gN8xx5L88vLyV10Pxge/W7VqFbt372bu3Ll87GMfIz8/H4PBQHd3N7/97W9PeU6n09DQEHDye3W8pUuXsmHDBu644w7uueeeiZYX8+fP5/vf/z6rV69+Q8d9refgVE52P4uKipBl+aT38+30Wu/FsZHgXxnXqUb+NxgMJwzQdzqP+0742Mc+xs6dO7nvvvv4zGc+g6Zp3HPPPRQVFU3q63/sb9CLL77Iiy++eMr9vfLDFry1d/SY2tpatmzZwu23387jjz/O/fffD4x/iPjGN77BFVdc8br2IwiC8F4imtMLgiC8xx2r0X4zTa6PNUXdv38/uq6f8ufYiNbH1h8ZGTnp/nw+36Tmrcf+/+jo6AnrnmofxxzfNPj4/f/0pz+lubmZlpYW7rrrLu644w5uu+02PvOZz7zq/nw+3yljON3TqB0bNOv4Dxqn8tBDD7F7924++clPsnv3bv7nf/6Hb37zm9x2222ce+65pzWuV/Pcc88B47MYvJaVK1eyfv16gsEgzz77LDfccAMHDx7k/PPPp6Oj4w0d92T3+fU42f30+Xxomjbpfsry+L/K5HK5E9Y/Xcnta70Xx8qPfzfez8d9PT70oQ9hMBgmmtRv2LCBwcFBPvzhD08k2sfHduONN77q36Bbb731bYu1ubmZBx54gEAgwJYtW/ja177GyMgIV1111at+WBAEQXivEkm8IAjCe9w111yDLMv84he/eN39mY9ZvHgxwOtqugvj/Zfh5YTveNu3byeZTE4axXv27NkAJ0x1daqy19LZ2Ymu65x99tnYbLZJy55//vlX3fZky4+VvdbI429UU1MTLpeLHTt2TJpK7mSOJb0XXnjhKeN7u23cuJHnn3+eoqIizjrrrNe9ndVqZdWqVfzgBz/g3//930kmk5P6LiuK8rprRN+o13s/j3VnONkHlWPN4F9JluU3FPervReJRIKdO3ditVpPaCnzVrlcLurq6mhvbz/p+W3cuBE4/c/363Gsxn3z5s10dXVNJPOvbNa/cOFCJEl63X+D3oxjY1K81j01Go0sWbKE22+/nR//+Mfous4jjzzytsUlCILwdhFJvCAIwntcU1MTN9xwAz6fj/POO++UNaEn68d97bXX4nQ6ueWWWzh48OAJyxOJxES/eRgf7M1gMPDDH/5wUj/tbDY70Vf2+Gm5PvShDyHLMj/84Q8nza8ej8dP6Kv/ehxrEbB58+ZJzY37+/tfs6/ut771rUmDXY2MjPDDH/4Qg8HA1Vdf/YZjeTUGg4FPf/rThMNh/uVf/uWE5CEcDk/MaX/snF45bd3GjRv55S9/eVrjOpmHH36Yyy67DBif6u6VH0de6fnnn59oxn28Y7W+xw8Q5vV68fv9pFKp0xjxuB//+MeTnsFYLMbXv/51AD7+8Y9PlM+bNw9Jkrj33nsnxdHW1sadd9550n17vV76+/tfdyxnnHEG9fX1PP744ycMwHbHHXfg9/v58Ic/fNIBGd+qa665hmw2y1e+8pVJ4xocOHCA3/zmN7jd7pNOz/ZO+NjHPoau6/zqV7/iwQcfZOrUqSxYsGDSOiUlJVx55ZVs3ryZ73//+ycdm2Hbtm0kEok3HcexPvknu6c7dux41VY6JxvwThAE4b1O9IkXBEF4H/jOd75DNpvlzjvvpKmpiZUrV9Lc3IzNZsPn87Fnzx527tyJy+Wiubl5YrvCwkLuuecerrjiCmbPns25557L1KlTSaVS9PT0sHHjRpYtW8b69esBqK+v57vf/S433ngjzc3NXHnlldjtdh555BFaWlq46KKLJtW0NTU1cfPNN/Ptb3+bWbNmccUVV2AwGHjwwQeZNWsWBw4cmGju/HqUlpZy2WWX8cADD7BgwQLWrFnDyMgIjzzyCGeddRadnZ2n3Lauro6ZM2dy2WWXTcwT7/P5+Na3vjUxB/3p9PWvf52tW7fy+9//nq1bt3LeeedhNpvp7Oxk/fr1vPDCC8yZM4cLLriAmpoavve973HgwAFmzpxJa2srjzzyCBdffDEPPPDAaYln586dEwOHpVIphoaGePHFF+no6MBqtfLTn/500geYU/nBD37AU089xerVq6mrq8NisbB7926eeeYZGhoauOSSSybWPeuss9i5cycXXHABy5cvx2QyceaZZ04MrPhWLFy4kNmzZ3PVVVdhNpt58MEH6e7u5lOf+hQrVqyYWK+8vJyrrrqKe++9l/nz53Puuefi8/n4y1/+wrnnnnvS63vWWWdx3333cfnllzN37lwUReH8889n1qxZJ41FlmXuuusu1q1bxwc+8AGuuOIKqqur2bZtGxs2bKC+vn5i9obT7aabbuLRRx/l97//PYcPH2bNmjWMjo7ypz/9iWw2y+9+97vXNcDb6/H000+f8oNMTU3NCc/PRRddhMvl4vvf/z7ZbHbSgHbH+9nPfkZrays33XQTv//971m6dClut5u+vj527dpFW1sbQ0NDr/mB6VRWr16NJEnccssttLS04Ha7cbvdfPazn+WPf/wjP/vZz1i1ahUNDQ24XC4OHTrEY489RkFBwZuaOUEQBOFd907OZycIgiC8NTt37tQ/+clP6lOmTNHtdrtuNBr14uJi/eyzz9Z/+MMfnnLe45aWFv26667Tq6urdZPJpOfl5emzZs3Sr7/+en379u0nrP/QQw/pK1eu1J1Op242m/VZs2bpP/jBD/RsNnvS/f/sZz/Tp02bpptMJr2iokL/13/9V72vr29inuzjHZsD+lSi0ah+44036jU1NbrZbNYbGxv1b3zjG3omk3nVeecTiYT+r//6r3p5ebluMpn0GTNm6L/61a9O2P/pnFc8lUrp//mf/6nPmTNHt1qtusPh0KdPn67feOONejAYnFivs7NTv+yyy/TCwkLdZrPpCxcu1O+9995THu/NzBN//I/NZtMrKir0devW6d/5znf0wcHBk257smuxfv16/eMf/7je1NSkO53OiXP6j//4jxPmiY9Go/qnPvUpvbS0VJdledK5nOrcjney63psnvj29nb929/+tl5XV6ebTCa9vr5e/+53v6vncrkT9hOPx/UvfvGLenFxsW42m/Xm5mb9j3/84yljGBoa0q+88kq9oKBgIu5j1+DV4t63b59++eWX6wUFBbrRaNSrq6v166+//qTv3avdw9d6B14pFovpX/3qV/UpU6boJpNJ93g8+nnnnac///zzJ6z7VuaJf7Wfkz3/uq7r1157rQ7okiTp3d3dpzxGIpHQv/e97+nz58/X7Xa7brVa9draWv3iiy/Wf/e730362/Jq1+fY89HV1TWp/K677tJnzZqlm81mHZi49lu3btU//elP6zNnztQ9Ho9utVr1xsZG/frrr9d7e3tf9zUSBEF4L5F0/XXOOSMIgiAIb8DTTz/NOeecw0033cR3v/vdt+04q1atYuPGja97CjVBEARBEIT3M9EnXhAEQXhLRkdHT+gTHgqF+MpXvgLwrvXXFQRBEARB+Hsk+sQLgiAIb8kf//hH/vM//5OzzjqLsrIyhoaGWL9+PT6fj0984hMsXbr03Q5REARBEATh74ZI4gVBEIS3ZNmyZcyfP5+nn36aQCCAoihMmzaNr371q3zuc597t8MTBEEQBEH4uyL6xAuCIAiCIAiCIAjC+4ToEy8IgiAIgiAIgiAI7xMiiRcEQRAEQRAEQRCE9wnRJ/4kNE1jcHAQp9OJJEnvdjiCIAiCIAiCIAjC3zld14lGo5SVlSHLp65vF0n8SQwODlJZWfluhyEIgiAIgiAIgiD8g+nr66OiouKUy0USfxJOpxMYv3gul+tdjkYQBEEQBEEQBEH4exeJRKisrJzIR09FJPEncawJvcvlEkm8IAiCIAiCIAiC8I55rS7d7+uB7e644w4kSeJLX/rSRJmu69x2222UlZVhtVpZtWoVBw8efPeCFARBEARBEARBEITT5H2bxO/YsYNf/OIXNDc3Tyr/3ve+xw9/+EN+8pOfsGPHDkpKSjjnnHOIRqPvUqSCIAiCIAiCIAiCcHq8L5P4WCzGRz7yEX75y1+Sl5c3Ua7rOj/60Y+45ZZbuPTSS5k5cya//e1vSSQS3H333e9ixIIgCIIgCIIgCILw1r0vk/jPf/7znH/++Zx99tmTyru6uhgeHmbt2rUTZWazmZUrV7J58+ZT7i+dThOJRCb9CIIgCIIgCIIgCMJ7zftuYLt7772X3bt3s2PHjhOWDQ8PA1BcXDypvLi4mJ6enlPu84477uD2228/vYEKgiAIgiAIgiAIwmn2vqqJ7+vr41/+5V/4wx/+gMViOeV6rxzNT9f1Vx3h7ytf+QrhcHjip6+v77TFLAiCIAiCIAiCIAiny/uqJn7Xrl34fD7mz58/UaaqKps2beInP/kJra2twHiNfGlp6cQ6Pp/vhNr545nNZsxm89sXuCAIgiAIgiAIgiCcBu+rmvg1a9awf/9+9uzZM/GzYMECPvKRj7Bnzx7q6uooKSnhqaeemtgmk8mwceNGli1b9i5GLgiCIAiCIAiCIAhv3fuqJt7pdDJz5sxJZXa7nfz8/InyL33pS3z729+msbGRxsZGvv3tb2Oz2bj66qvfjZAFQRAEQRAEQRAE4bR5XyXxr8dNN91EMpnkc5/7HMFgkMWLF/Pkk0/idDrf7dAEQRAEQRAEQRAE4S2RdF3X3+0g3msikQhut5twOIzL5Xq3wxEEQRAEQRAEQRD+zr3ePPR91SdeEARBEARBEARBEP6RiSReEARBEARBEARBEN4nRBIvCIIgCIIgCIIgCO8TIokXBEEQBEEQBEEQhPcJkcQLgiAIgiAIgiAIwvuESOIFQRAEQRAEQRAE4X1CJPGCIAiCIAiCIAiC8D4hknhBEARBEARBEARBeJ8QSbwgCIIgCIIgCIIgvE8Y3u0ABEEQBOGdNBQdozsZJKup5JvsVDm8mBUjJsX4bocmCIIgCILwmkQSLwiCIPzD2Oxr577uHWzxtZNDo85RyCVV81jsqaU1PkyTp5QKWx5mkdALgiAIgvAeJZJ4QRAE4bSJRMcYS4RIqRkUyUilpxyr1XrCejk1QEYdRNNS6HoBWQ2MBgdOc8GbPnYql2UsHSMZThEfTaGldVxuG8VlbhxOK7t8Xdyx7xF64oGJbVojw3z/4OPcPPN8Vnka2RzopD0ywpnFU7AbzJP23x0dpScRIJ3LUmRxUe8sxGk68dwEQRAEQRDeTiKJFwRB+DvQNtyFYlCQcgqZlIpZMoI5DKY0ZtmEojkYGMigaTqFpS786SSqqpJntdFQXPKmjhkMxUgl00g6ZDIRjE6dA74jbO16AcUi47F5WJxbhlOrIhpNIRskvEVOkrIfjzxKMmsmpyfxRZ8llQngtTvwWOuQpVpyOTuF9jpcdvsJx41nU/gTUfpTQfYH++mNj1HlKKDBWUSqP83zzx8im8lRbHFTbHHhdtuZOa+CfUr/pAQeoNjsZFlBLUZkDCaFxfl1aLpKKpOZSOI1TWOT7wgP9b1EvaOAhfk1ZLU0BwJ91LiKKLV53tT1EwRBEARBeDNEEi8IgvAeNRDzM5qKUWy0kdYHQdIwyoXEMkayehaTniOVjpLVJKyKi/37OjjcfoTiykLKG6rIqTJezYqUy5JMBLEoFmxGE/uHhnmo8wCKYqDU6mRFdS0zSsvpiwXI6Spuo4WmwjIAItE4w2NjGI0WevpHGfIFKHa5yHe6CI3FyKRzJONpzBaZvAqFEreND0xZxeG+IaqdU+g9pPPYhofo6B+hrCCP1UtmMGtBDX0WDw2WUQ6330cgGKa+3EUotYcx5SkUcw2RZBV5tgpq8s7BbS7Cr0YIx5NkEyqRdALFYmD7kQ4i0SQul4322Ai+0RDmAzmuu2o1KZOKWTLQuWMQNaGRzqociA5MXNsyq5t53kpWuqrJ+SL0b9/PJkcvNXV15BcXMZBJ4MtEmOYp50hkmI1DB7i6Zj7tUR//1/4sCTXNTE8VuqThNFhwmCzv1mMiCIIgCMI/GEnXdf3dDuK9JhKJ4Ha7CYfDuFyudzscQRD+TiWTQRLJELJkJC+vAl+wD5PBgp6DsewIadWDzTZCR+ivdARfIt++Al/GQlR1ks45cactNFiKkLUUweQAdr0Q2W5jlzREe3SQhJrGZjBTYy9hZd40nvjDSwwOh1k8rZYFi+qwuEwksyphNY1kkHFbTNzTvQV/OsbljQuYlVfJtsOdhMwqLR0DOHMG6kwe8lQLW55tZXQ4RCKaYc7CWj5weR1p5Vn2H9iO3WGlsfEMfKNz+O/fPYmuQ2NFKWmDSk9sjOJ8N5/78DLGhu4mHBqlrNhOUjtIOptCkiTcHhtW+7k8d3gzK5suosrzQXb0dRHtSLDtcBsfvWAlR/qHKXS4SMQzmEwGbFYTtVWF9BqCPDlwkCORIZxmG+eUTGNxXh3De8d4Lq+TP/fspMTiosldyiWeRjY99SS9oz3IyLhNVqLZFB9c+gFmLphOSE9jll2MpgNYFSN/7X+JZ4f3ARLj/+DUyTM6uXnWxawomY4siQlfBEEQBEF4815vHipq4gVBEE6jRGqQUCBKMKASSWi4bW58gyEGesYoKHRSWOhA1UfIai0Ybf24vV7MebNoGXqa4fgRNFWl1jWPPNt0rFqALYM/ZDQxTKnrLJ73DxDKhJlqnkneoJtNuw+yTTtCfV4p5RVuymYX0mUIs723hWg2RUbPgQ7tkSEi2QTnXtLM+vv20D02hH2PkbzmAv7QtosjI340Tacq38O1i5bQFenjxcEOdo4O4zBZ2bm3k84BH1ajEfucZvq2jnLoQB8AhfkuEslh7vvjDj54xSxMJiPxWBKjqZLHN23E4zFjVeyM6XEGQiEABseCGJMR2oY7KbK5sFqSxKIZdEDXNZLxDA67H7vFxUu9G6hwLaPjuSH2dHXzxWvPg5zMSFeYHf3tLJlXgtmtoqbMxONW/nfoGVpjo0iAFJfYH+jj/IrZXFzezEJrDQ/27GJqXil1Ni9tL+2nd7QHkLAZTKTVLAVmEzt2/43KCisj1ueods3GJFWSUl1sHD4wkbxLRxP5YDbGX3p30OAopsJZ+G48coIgCIIg/IMRSbwgCMKboOkakWyQSC4E6FhlMyl/hHhsjP6hEfzRDHUl8/jNT56i9eAgxeUe6qsKKChNkFe6jWhskEQ8ybLzP81LI78jrY+i60Zy2Rz7tVaqtIvIN5kYTQxjVpwEMibCmQil5lIShw0c6NhJhbWB1qCPLQOduEbMDEYSDDckWZg3jRf9B8jm1Il4RxKjlNeGufDiMXo6O6irDzGYLKPAaqFN0pEkiV5/iO9teIY7zj+fh3v2snmklZX5TfQO+5ElicrifLYf6GRaQQE2m5l4LIXdZSKn9ZOIxeg8EqOioRqj0UYuUYwx3Uaxw0BONjMQD03EUuB2MjYaQ5ZlEnqWtJZGlmWsikIqmyWVyWCSTditZpK5KOlMhMaaQs45cxZej8ojz7Yh6Sk+eK5Mt//P9A+PYVZMRNWpfGP6pXzx0DP40nHKbB7sipFd/i7WFk+jIGPli9PWsGW0nWmKh4fbHgckzLKCSVYwyRK6FiCLRtuRNhqXltIf20KBpYtC2wXYZAtpMmS0HKADEgB7xjoYSoVEEi8IgiAIwjtCJPGCIAhvUDAV40jsIJ2xI5gUCTNZvLoTa7qTvr5O8jy1NFcWMNT7KItWNjBtrkZdg5tkWKe40ctIbCpu80xchjxG1HbC8WHMNg1ZNmIyG6kwn49leBYjoTDTTF/CUhrhiWArOjpluVqebz+MXXHhTyYIpZMoSKgGE229QzRUlbO+9whnltXxvO8gAF6zjXNLDYzEH2IwEsRg0ukMHyQQ28GaulV0BWwMR1Oouk4ileHQ2Cg6CuF0kkwuh6pqeJw2CtxO+sfSdETHKKvNp23/ADY7ZDIxdMA3FGXekhVs37ELu3mInnYfJQWFaEUmXtlvKxA04bAUEkuPIksmdHTSag6zwUBWUzEopYRpxWQyoeChqUHB7hojFDMRCMRZuCDB/r6HkWUJk0FB01Tah/Zhdqb47qyPcP9QJwPxAIlcmmXFDfQlg/gCLdR5Z/CB8mbyMgoGdLwmG6quk1QzWOQMWVQkJBLJJJJkpz06QmfUR5U7n+8s+CjX7/gVJtlARsuN1/Yjob3TD6AgCIIgCP/QRBIvCILwKtJqlmS2n2yuA0kbIZSVyVLOaDyHIVVBJqNR4XFjN27CYZmDPHstndFBBtQMDTObqZ7ZQvehPeQAa2MKn5QiZ5/OrsE9VFc24zFZsSoFqNoYGHLUZ7/Ixge76TzyJGhp4tkwCxc14z1jJkPSEGpcQtU0bGY3PdEEoCNJMhI6ki6Ri6nESYNuwCgrZDWVpQVF+BNPUWutIpFLk2eyE1PT6OiMxrexqu4s/rTv5UHf/Ik4RtmISTZgNhmYWlVGcCzGYF+AdCpHSWk+jVYPbfsHkCQZdAl0aJo+jWee2oov1EldZR71NeWM+CLIcQWrYiSTy4EkMRqOYnS7UHIL0HkSNecEJDR9vEVAqfcMOsMDJLIZaovmYNTNHOrYSdOiGkYzOqUVJkZiz2CzmMgdbW1gNBvIqDmC4VEq6GNPoAejrFDvKKInNkZnZJRlheUMJTtwWWuxOlwU5ZXSNdqNBnhNJlQtNXENysvL6YntxigrpNUsXeEd9Car+Jem8/nJkceRjv4HoDmvhjKr+517KAVBEARB+IcmknhBEISTUHWNXCZLZ2QbvbFH0EiTb3ASzRpJkGHbQIDOoQwGWePy5gamWWexO5Ll4Y7/QdVzuC2F7PAFqXAUs27aQvxD2/GlRsgxit2UotLTQEZLsi+4h7mexYwmnqXCeD6bHuhh394WZMWI21wM2TB79hxiXvUSvIXTUJTxxFGRzGTUNABWxYhRUlCQcVos6EmIZtOYZSM5XaXYkiOTAbNkxKIYycSzWC0G0qYsaS1JoTOBxaKQSmpkcxpZXaXE4aDU4SaTyhHyRRkNRLFbzOPHCusERiJMm1lBOJDCW5yP3ZVAzcFouBck6B3azaKFl/HEky0YVAMmScFoUFB1neWLptFmHyVwwMKcykvIpUco9DhIZEaxm6aTkyX2+7dQ4apjeclneWHTc0yZXcfjwzswxL00FNg4MDwy0V1AkiCZzmCzmHG7bQzFWjivbC5b/B3sDw2Q1XIUWdx0xmIUmsyUGkzsS/hZtuAMOh7vfsWdl3DZC6is8fBYsJsKWx4dqRHcZi87xzr4WN1KVF3DKCvkNA2HwcIl1QspdxS9g0+nIAiCIAj/yEQSLwj/4LJalsHkAP7kKElNw644KDMXUWDPR/kHGG27MzyEPxPHIMvUWovpSoxyIDxIW2SEKU4X0+wvUWG1E87K9CVCOC1LeKZtN2aji5oyibHQKGZTJUE1j7+2/xz9aONqm9FMMhumMxxmj62AaruVWG8Gd76FWLqXMvd8WkL92B1ehtOD5FkqkEbr2b9/PQC6piJhxGHyEs2MEW73UVJYScoxQIGzAKNuJZkbxSgr2Awm0HOYNBmH10550IPXZCOtZZGR8ZpteK3l+MMx7JhJJJIUFbtIGlX8yQh2c460msFgNmK1WWjyFpIgzty8SrbubsHjcOFVdULROKUlbuoNeTy35SXWXTiP557YR35hEYuXFTA61odODh2dnJqhd2A769auIJWGnkgQ1QmeKjstRh8Hx9pYOXUK5lwFu1tNOJ11zJ7ixWoPENADrKj5JN1xE8HwGO0dreTPLWWPbzvrKi7EErKh6TJIKuhwbI6VdDaH2W7EYHSyf3SAkWQEo2xAkxS6YqP0JwLcPPM8tvj2MN87C0dVPh9Z9yGe27qRsegoRWYHFWU1LFm6gL2pv1HjaCTPXITdWEFULaBjcIy0nqPeWUpSzdDkLmdd6WyWeBvercdXEARBEIR/QCKJF4R/IMMRH52pEC3hEaLZFA3OQuod+YyEe7jft5XO6CBG2cDiglmcV7aMZm/D300i3x3xM5AMMNdVyWg8jNlgxCBl+EP38zzafxCHwcStsy/ntx0vciA0QFLLcm1tDRuj22h0FjPHtYhiChnRUqypXExfvJ++WDflBTOZ4pnNEwMvoaMhSRK6riNJL/eUPhg4QkPVVFR1H5LuQJZTyHKWYGiASs9skroPk8FFMqahaeMZqSKZUDNJTCYvXouD/oOjXLF0DsaqYhpWGdi48RBTPaXEs2kUNMwGIwvm1dAdDTDPW838giLs5vGa4lp7PpHwQay6TDqaxu20UprvIp3R8SdixLNOIIzZqvCBaTOZ5i0gg5NSOUKfY5BOv5+y/ELm11Ux3VZI6HCIBUsbkGSJcy+eT/XUYmbOLmDD009iMRaApGBQ8ghmMrQd/jMem5clc86kfHYDL4x24k3buSxvPtUOL53hQUYNYSKync7kIDPMZTw+2M9IcpiwmuS3U0qY3jiNQ4E2zIZ83FIFg7EoTZVzONSzY/wCS2A2GCivzGcwGWJeyQwCmf14THbG0jF0dMptHlRdZyQVRdJkXvS34y6bSXlTI9fU1RKPRrGZAGsLByPPYbfM50BoCCWRZaanmka7k6/PKqfYauD7c68mmktRYvXgNDve+YdZEARBEIR/aCKJF4R/EB3hIV4c7eS/W54hrWcBCQWJud5Krp+6hs+5qkhpOpquM5oKsHHkAGbJyHRv7bsd+lu2a7QLoyzhSik80bebtsAQBtnAktopfLxyJYucLgKqk0cH9rEv2E+FzY5ZAY9RYSCVocSwlOHBPgaGHiXs1IhnknidldSUrmVTzw5MygcIp2NIEjAxzJl8tMc0JLNxDLKdaQ2lAKh4kXQvRqOJdNJPbfEiCgxm4jYzRsWCUbZi0E1EIyPoDCPLRjzuEuyqiyk2O+mmzdR4KxjqhbbBELo5S165hUESBLvCLMrW4TU7WJ03g3RKo3t/lIaq+fjCW9DtEgaXgdbMMJV2N5fNuox9/lo+ubSKujwndXYPfzzyNPsGDrHCs4iiqMzUkmmkYln6dwzhyw3hjBtwOA3UzJjCtKUVmFQFyajQOH0m2zsPATqJ1ACariFLEuFkkGw6RqnFQlbLckZhDc/2beexlg5qvRV4jEbCmTDLS88glk3RlwiQ1LLjV9FswmyxomphclIBaPB/z2zia9esoNmRIBz1ISkSqqLRlwyyqORCRtJOBhNh0moWHR0VjVA2SbHZhUFSqHZVcU/3dlaXTKUjOcLuQBcGZFa5p1NjmwlJC3/p3cCCgnqKjf0MxV6iLZSj2l6AQd1FxrKCEvMckcALgiAIgvCuEEm8IPwD2DvWy1gmxp0tT5HVj007pqOicyg0xCMDB6i0ermr43kcRjMriqcyy9NAW8xPk7sKRVHe1fjfrEg0RIvfz47gEc70NvHng1vY2HuYhfVNFObl8YveF3AOWVlSUs8UTz77wn18sLwMf7IbVVNxG6poKFxFZqyTru5NWBQrVsVFVAvjD7ehajqz8hcRTrVT5SzjoH/XxLET2TRGxYGupylzlGKik/7EPgyKjNtaj9NWRkX5SnyZQQqUJvY/l+Ds5bXMmjKTg3sPkMoFgfFJzHQti9GYpqjMxqG9HRSVqRitnUgVLSxqmoIuzyCScmEKqCybMY2DO3t4ZtdBTIqCFQPuEjvxmBd34XxcRZ2M6T5yWQt9sVr2+ozk4gcZi42yZX8fn1v+cXy9EUosFShmM5lwnF2H24lFkkiSxJSyUpLqEPOnLaGgzMP6R/dxuH0Qu83C8oVNfPT8a/nFQ3eiHW3jruk6tUVVzJs7j3t6trIkfwY21cA1jWt5Ke8QbaFhGq1uSuU0jW6F+wajzMuv5kVfOzpgtTtJ6hrTvNN4crCLIBFq84v45u9f5OMfOJOCgjCxbA8OxUGxs55koJhWh5+4mkJBPjoR3Pic7tM8pYwmwxRanFxSNY9dY908MbQdizI+R/zeUBcfr1vOc6NhDIapFBiD9Ma7CGeSKJJEr+4n32QklPgTXrORzlAhxcYq7Hb7O/5sC4IgCILwj0sk8YLwdy6WTZFVVV4K9B6XwI9TkLEaTDzav5cvT1/LWDbOWDbO77s2syS/jvPKZtER8TElr/RtjTGn5TDIb/3Pka6PT1OWSsQ4crCHHfv76AwGmFpUSkfZCD2hMebVNJC06NzTuW1iu2A2zmafwuXV08glNlDhOhf/YIrRfRGKZs4lpDyA1WolEYhTXFqMX5LRkYnEh5hXbOHA0C+ZWfoVXjDnk9QT6EBcT1BkrMUkjTErr4hw5BnsRiuSkocqzWBL/69oyL8Uj2U+5kSG7qE+7l6f4MJLFxGJBuk80jERX3FJCR+57nzi1sexVmaxmecxFn2Gcs9aDkTHeHHob5gVI3OKz0G1uXAvzacwWYBHsRDOpnDlW9k9MsgRtYAqtYxofICBWJSDfj+p7BAX1k6j3d+HzWjBY/GwumE2A5koSQkWLJ5C5pkWTIoBi81Eab4Fe9EUyqeX8YPfPMaAPzjRJ33TnlYuXT2fL3/kK+zYs4lMNkNDXQOV1VWk5RzzDTNYv+UQXb5RvE4H50yfwcVVU9C0Q4z1vcBTLzzJB1Z8k6cGjjDNUcwqUy0e3UZpYzU2k4kqZynrh3dxwZJl/PihJ/nZX7bjtllpKikjncmSSHRx/dVT0VN+zixqpCU0RCibotjiZHZeJV0xPzISc73VtESHOBTuBsZnIDArRmwGA8FMkpbwABeX1xDJbCelZrEoBmwGAxY5TjQzQjrbS55lIyOJHBHHYqqlVeTZbG/5+RUEQRAEQXg9RBIvCH/HsppKW2QYWZaIZlOYZQNpLTex3G4wE8mmxpP7V0zkvXWsk9Ul0zgcGXzdSfyesR76EgHi2QxFFhfVjgLqXYUnXVfTNLqig3TGAvTGx3AYLTQ4C2mwFuO2O1/3Oeq6Tk71EUgNMJZOQi6ffVtH2bT/EEOJMLIsUyY7eXrPHhpnllIxq5RfHNmILI3Xzuq6zkA8iMNcyAsjRzhfWc2Df7ubZCKC3VaM21VHMNZJdW0dA1o3cd8YdWVV9ETG0HQdgxxEVZM4lFE+MvVKHup5ip5IJwApk8bqijU0WWN0Dc/Bbc9DMur4Um1UOEpxKxEaLGdyyLeR1RfM5vBYhns69vDxL3wQf1+IYCCC02mjrNJFKPVXJGmI0ZxCR3gWklqGb+huir1VrC4ux2OyYdGO0D6qk8yY6ejx0T0WIKepLJ5aw4MdL1FsdxAJecmYcxwaGRi/55JEIJPBYjDzgVmrUZUcA5YkO2NDDEejFBtdLDq7BmlQR0nlSKl9rF5xAX96avukBP6YB5/dxbyZNSxfvhajUyeRChFRc3T1Rvn+I4+SzeU49rBtb23j6uVncsncWbSEH8brtpNLv8AlFeuI9Qa566d/YcQ3ytd/diNJNcNZFXNpDfsZ1GN89vyz2bBtP75YCKtJZkF9EzObKhmWh1hRWMdzI600ukpwGMwEMjE2jrRiVozMcJeRzGVoCQ/gS423dtDRSamZiXOJZJOYFY3hxBgZNYdBVjDLKlk1jo4TVdcJp4fJs1TT4n8Im6GQPNvC1/3MCoIgCIIgvBUiiReEv2MvjfWwfmA/WTVHqT0PRZLxmuyEMgk0dIyyQiSXotTsIntccn/M4cggTc4ysmoWo2J81WM9PrCfn7Y8QzSbQtM1VF1ncWEd19QtY05+9aR107kEreERftb6DLsD7RPlbpOdz009lxVMIaAmGUiEUSSJclse5TYP5qMxtAYGGUiEsBskSs3dpHMHOBLtwyobscWWsfNgJ6MpCX86ioRExqmSUXN0to5QNqOEo2PHIUkgSxJZVUWSJPJyLjY+v5dkIorH5UVRxudhV7UU/b3dlJVXMtAfITiUosjtwmQx4bEU0pjfSHskxIsDj3Bu5QUoFatRtRwek41w4k8MxNN0hyPkQp0kU3EkJLKaRqyok0heD38aPIRizJBVHcwqLOBgfztWtRtLQSvBWA+pQS/VNU1YTbMw6rP46UtHGAqGOKN+NbIOdW4PDslFImOjwZvPr/bvYSQSJhyPYzUa0PUMsqKSZzKQUobJt5Uzr2ImfaEB4ukUxa48zq29khJ3Gb/rfIGdoz3kWfNoKihD1TW6DCGaKopY4akhEy8gk9PYvK/t1M/doR4qvB72tvYzYAizqmoqv39x/dEEfrL7N29hSW0Ns5vOIWsoIKGWEA+F6eoexGbzQipFR9TPhu5DLC+aQn9wDIOkUFHRxL9NvYCRoTC7D3ZyoK2XobEgi5obCOoBbpy6hv9pf4G+yAg3zPoABSY7oWyKfcF+qhz5BNNh0kf73R8TSCcxSTL5ZgdJVcYgWcgQw2EwoGphJEnCqsiE9QxIHg6HujHIEEztB0QSLwiCIAjCO0Mk8YLwd+olfw+/bn+e3WPdzPFWMSe/GqfBwmg6ittkI5iJT6x7fuVsNgwfPmEfRtmAzWCclMDHc1GSahxZklE0O7FshqF0kB8eWE9WVwlmxxNfgGeGD2NAwSQZKbI5cRjMWAwmYukk9/fumJTAA4Qzce489Bhl8928FOjHZbBS6yxkJBkmnk5Ravbw/Fgb93RtZSgR4hN1Hnakn2dGXjkOxYzbaOPw0ChogzQ6GvCloriMVnKyToHdTSAZRYtrE/GN17xKuC02smoISzKfUDJOntuLLvnJ5GIMDbrJLysjlQxgthgoqYJoSmfEl0bTsijl5XisFp7s3MJYcpgHjvwCCQlZkqhx11LjHAMtSYHLS0v/EOhgMBjIy/OgGQ34UgHK3floFOJPpImQZDSbo29rD9On1TFr5iJM1jaQ++ke7GF07AgX1SzisKWWZCiNqbAS1ARPvfhrdF1nRuM6rp22ggOlPnr9QTLRNNVuD6tqGwmkewnrfcRiPTgNHqYVzUTCwFk18+jYM8xQ6TCHxoKYFAdJNctIeARJhpiaJqImybOZ6B3rZqW9iKyuIskSks7EiPrHZLI5QuEExR4vFXlORiIRBvxjx60hATqSJKFqOl1jAZxKJQ8cegmLfQyvy86Lmw9SX5BP4/wa7Jip6nGza0cbU5eXcU/7Vj4zYwUv7enmfx99ityxKvQOnfUv7eP6S9ZRPtXGp+qXYTNm2Dm6jbF0iDJbCWcUzaTc7GaKu4zO+PCkuIOZGAfC/XyoZgkbhw9whnc23ZEXMcoyuqZRZiskmfNjkKwoShH+dAehbIJqR4hMJoPJZHojr6ggCIIgCMKbIpJ4Qfg79fzoEcLZBCo6vlSU7aOdfK7pLB7s20VnxIdJMuBQzFxUPw+zbGBHoPuEfUxzleIwmoHx+eR74230JttxSGUMJDQ2jbZRasyjxOEmo6uEjkvgx+lsGGlhZckUbAYDTw0dYkl+KWPpNM8NHThp3IlckgPBAS4qmsuG4GH+r/154rk0MzzlrChq4qGenbSFRri0ejpe5SXiZhtDiRAzXRXoWQkPDiwpAw5rig8UzCSstxPL7Ke+sJHIUAyP2YZ0dNx4HTAoMiV2D7FkD0YMmEmjEwRyKIqV0REfFRVnoZkfJqP6SeXaUDWJ8rIKyos+xQZ/gtXltUTSjwEvD6Km6jrDiTCNnumEMy9QYjORX+BBVbMga2TkNLXO2WwZ6SWTzmc4EMaumBhNRzEWerj0yg9hV8KoxqeRDBr7Do8xOOJDkhUC0SMUms9hICKhWfwU2OLUVhbRPzJGe+9zGHvdHN4XIr/QxdLptZxRb6AoMso9R4YxqTqaliOaGSaaGea82uWUWo14l0xh40grGHTGElFyqorbbCOmpllZPIVFBXUokszM4macZgvzp9Sws7UbifEWDcc3q29uquS5Fw6ieM2sXFyPTgaz0YTZaJzowpDKpMnlVDRdx+Gw8lRrC8GYgktRsRlzZLNZWoaG8TTWYwsZeOLx3WRyKv88fx0XlM4mHsry26eeezmBP/rcpXIZfv/EJu6ov4pYbohftD6IdnTGgIOhFp4f3sInpnyID1UvY+toK+Fs4ujWOjldpTUyxIeql1FocRFMj9LgzqGr3ZRYbWhqgIQK5a4L8CX6iGRTqLqOKnkYy8QpFUm8IAiCIAjvAJHEC8LfoaF4iJ3+blRNxyQp9MTH+28jwQdKZ2GtNOMwmvGa7Uga/MfeB7EpRhLqy82LL66YS6nFQ1rNEs+lGUl10h4/iNdQyYahIf7StwMd+HDNMnzJKDr60TRKmhRLVs8Sy6XojgcIZuL4UkOkNSdpLXPK+P3pKGazgf9pfY6UmkUH+hNBnhtu4Q9nfJJAJkpO0ygyruRPLf+Bw5whE8+x41AXLoObQCxBLDnIWBBqyyuQrG2MJg6woGoa7jwz9ckiumN+nGYLla4CRpNRbLqJ+pJSxqQAmpRB19PouoZJKeel3c9Q1zCXQk81HqkaVXWSk10MpDo54LdyRkkdHksdGa0TXU8DMmDFH9U44s+xoHQx4cQAoUwOu0lHIku1ewHJXBH9fQH6e+KEg3GyORWHw0osnmTYVktD4TBuhwMJiWlTavHkuyl0uFCMKg6LjXBuLjZzNyY5QFN9OVaLidFgikTMwJplM5hWn4fJoBANSdRbR7lu+hJ2+oYYjIVwm20sLKpkZl4tha5ywpkEBklGyoDbaMVqM2ExGlnlbWKKo4S727YylooTi6SoduVxzVnLGRwLMegPIcsSujp+9+dPraGi1Mvu/d34h/wEAsUUVeST53HR6x8b/3AiyzhMZhQphyxJqAY4NBBBz0GhrKBpOjPm1GN2WkhlJYb7grhlG4V1HjbvbsVRb2bQECSaznDCYA7AUCRMTAvx157HJhL4Y1Jamod6HucL0z7Jv8+6lMcG9rBrrB1ZkllS0Mh55XPQdYlYKsni/Jn0J8rR9GE8hn7S6giWnEYgPYwi55iZV4aMAbd5OvtD/ZTYPUiSdEI8giAIgiAIp5NI4gXh75AsSRhlhb5EgEq7l86Yn75EgP5EgG3+TipsXq5tOAOrYqLKlc8tzR9ki6+T9ugINoOZM4rqmeospSPuZywdY45aRm9ivOl7MGPm4f5dE6nTgWAva0pnT0wp9kpW2YRJMpBQx5P2nC7jNlrwmByEMrGTblPtKKA9PExay2KUFTKaSqXVzf9r/gD39m5n43ALyVyG5rwqzqu8kemKwsNbv0EolkC1H2TOvJm07Bshlkyzp7WHxbMb8Ge3Mm22mUJnjC/PXMfecB+7R3vpCozRlF/MhWWLKDMmKCmtoH+wByQNSTICOtlshHgsQVrfRVoPMpwxMJzUyeka9fmreWKohTn5C7h7qBODYkXTdbK5DLqus2eki3X1n6HQGsdlbkFHp8w1jWDawTfuf4hIJIVBUpAVBUXTSSYyZOJZSopdOFwBjn0UcZislBXKhNMHiCfHsOQOUeoqxCxPBzqwW8xMq6+gMdeEmqqhZ2AT23fvQdVyVJfPpKF6BdM9w9TZrSRVOxaDBbe1Hpt5NgAGScFsNrK8vImtYx30p4Jk0yqXVy/kpweeJphJ4FIsaJpOVyjAY7Z9XHf1KjZtOsz+jj4cVisr50/ljAWNPPrYdvYNDrN0Zj0xSefF1oNcvGAeP33yaXKaTk7TCKeSeCxWLl+0gEQmiy5LmIwy6DpGq5FQJMqRPb24TUbOm16F3WjGbDewo6uLM+1TybnUo43yT2QxGvFnx0jkkshIjP/3aOsLXWckOYovPcpPWrfzybrlXFG1GA2NQCrB3sAQOV3lguJZPOs7wkM9L9HgLmKKs4BycwCHPIhF1tk61oMiWSm2r8IXSLHQW8r+0ACzPOUikRcEQRAE4W0lknhB+DtUbHOPT7EVGWYwEabeWUAylyGpZrAoRpYX1xPL9KLbbNgMJuK5HJeXzUE2KlgVI7uGe3hu9AgA9c4iIENaS+E0eNjiGySnv1y7uT/cz6emnE2J1U0kmjouivH0ak3pNHoiYywqrgNgMKmzOi+PCyoX8PuO506IvdSaz3RXCTfuvo+MpmI2GAGVf591Pt878AT7Qj0cS2yHh/azZfQIt865FCNVaOoBEqkxTJ42Vqz5IImnu4jHUhSXFDF/1hIC+k7aj0Q4PLyYWFphfmMVc4tqqTC6sHaPMpbXybKVM9m+OUtf/0vomgJSjpq6ZpoXmkjrzyEpUxjNZBhJJ3CaJGymJH/tf4azmj/LuQ1rebpjA5lcGgC3xclFTedTZC7lR0d+zwcrL2RBYR1GWeHhF3aQiOcAiZyuYbYYKKosQLEqNOYXU2RzoRgMqEdnBYzm+ugJbianjw8Ol9VkgqNPYjPtYKr3o0g8jCJ7SKdr2LjtJwz7hyauqT+0kY6ePZyz4kuUl8xBl1QMkhtFcQMwlAjREuqnyGLAVVxMSEsw0B9kSXEdXdFRkmoWt9FGNJqY2Of2wS4CyRi3fvRispEcBkkh4o/zwOM72d83QCiWZNGsOv7WcYjNQ91csXQ+/+/C83m2pZWeUT95Djtrpk1jWW01z/XtJ79UxypbcBmt+CNxzqpt4J8WLKTS6SIby+GtcZLQs0zJL2Wgf4y1Z86msbiYuXX5WEwyA/40W470EM+mKbDb0GQNSZLQdO1oU38d6Wgqr6GT03JcXDGPOw6tZ2XRFJxGK2OZGEVmJzM8ZbQl/fzowNNoaHRG/TyjSKwoqmdefjkOJUm1u5mWiMo+X45Aeif7AgN8cerZDCXDlNk8b+KtFQRBEARBeH1EEi8If6eWFdaz3d/B7kAP3bERzLKCUTaQb3bT5PKyf+w55nut6JQz3VPK+oH9k6afAzDJBma4y1FkHRkZGYmseuII43/t2c4XmtbwP60bOBwdHyzMICmsKp7KgvxaDoT6qbZ52RvqYzQdI5wLsK5sGkk1y2P9u0jkxpP/WXm1XNuwArfiZCSVQGY8Xb+u9gz2hQbYF+oFJHT95eHlo7k0D/Xu5iurv8ivH/hn0GSslir+tquVjEvHVmihoM5JUfEu9h/uQ8KKUdFoHRqhZWCE5vIyIjErpqzMOR+sIZw7yLwzc8xKXkImpWO1m8mZ7yaW3YlNmYKkFBPL9pHVsiiSg6SqYpENbPK/yMWV5zCrYCr+VAAZmWJrAV7Zy0/b/psiSxll9jyMsgJAoivBB6bP59GDu7E5zDjLHQzGg9hUMwtMtawfbOGc2koMBIinI4zGD08k8AA20xQ6QwPEQ3updC3HY6nEosyg07eLYf8gr+zWEIqF6ep9jtKiz2ExmyfK49k0R6JH2BbYSiDjR9UlyqwVfGn2CootRTzVexCrbiQcTZB7xQB27cFRepMBjLrCr375LKF4kmg8RWWRly9fvY7R3gDBTAKb2cz9ffuwGYxcMaOZ1fJUNAV2B1pJdPWhqipp4uTkJB+asRin3cCOsXZ2q2F6EjbKTG4qphZQ7M1DKTCgoVFeKnPtB00c6l1PSk1RW13MgqmLeHx7lPlTGimyF4I++Roc6/LhMjpxGd3kWzT+ZerZbBntIKur+JIR+uNBlubV8behfRNN8XV0NA0sRiv/1XIAl9HC4oI6uuN+UmqWoVSE4VSUiyvnYjOaRRIvCIIgCMLbSiTxgvB3YjC6l3hmN8HkSxhkOwX25dw4bQVb/H28ONqOqusszK+hzuHm+cHHWFE6FU3dRzZXQ7mthnVlM9kb7GMoGUIHSixu5nirqLDnoeka+aYixjJ+prvLeGTAQE7LjddsSrA/NMDywia+2nwBHbFRItkUdsVEMB3jYGiAc8tmsSfQNxHr9oif1YXVfLh6HquKmwik41gMJiqsThRdZ0d4fMA0q2KixpHPpTUL+N6hx8br9o9vtq+PJ2XbRjsYTJ9Bcd5ZJJIennwhxIDfjyRJyLKE1TyX0b52mux5GOxT6PbbmVaiMMNViiMC65/dwoK5TQQCNvYP72NWQzUZ9ecUFBiQrfPJpnowGkqRlUaOBP2UWfPJM9kosU+nO13CGUUGeqIH2eiDWU4DJkOKjO7h+bE95PQcc7yNNHtnU+0omAjd63aR9uX49MI1DNujHA4OMdVbjlU3crCrnxl51bwUsFBhNmAjSiQ9OrGtRSkipxeTyLQhITEa30e5/TNEEgP0Du4+dnF4ZSLf3X+Auuo+3NYSPF47kiRxJNrO3d33Ec8lKLUWMJAMMJgM0hbt5J/qPopHsRFLpDFKBlSy43nx0VvgtdpwGsyE2oN88aqziSbTIIHVYODZ9XvJmnSKpjrxGdJk5DTRXIb/adtOPJuhucCFWU7R4CzGrw6ztn4qRslO0hDnO3seo9xaSkbN0RsaY0FhNZeduZi/dOxk5+EuvrJwFS+NPYLdHqGsxMaIL0M64yPMU3zm0itQbI2E1RgrSpfy7NALJ7wr68pXczgYYH90hFKzm6eHD+EwmJnqKsWiSNjNJkaS4UnbaLqOqmqomkYim8YgyXRF/aSPfljR0fClIxRIrjf03gqCIAiCILxRIokXhPe5RDLJSDaCRDmyrJDOPk9ncjNHQk8xPf8i1hZfyRKvRCCTZTAZZTDexZKiCpLpnXTlcrgsQczGGirsXkptHsKZJOg6brONsUQLI7EejFIh9Y4ZxMNb8dgMLPDWsmOsg6ym4TU4+dSUFTzQtxVfMkiNvZASexHFRz8CNOWy/KF9CyvKmgAwSgqLCmoZzWbY6etgaVE9FkVGkRSeG+7i/t6d/HPjSs4smkIgHaMzNkJO1zBI8uQE/jhGSQFd4ncPx8hkw9jtBnQdNDRmVlXjdccYHIkTGZOwGwsp7UlSlFXp39JBUs+iaRqVFYX0tmnYC+wc7OyhsfJsTEaZgViMUsdnGIltIJeRyCJDTsJhrMZpXky/fxN2o43zK8+n2u5kv/+3FJkdNDjKaHJ40FAwyzoee9lEvMFkNzVLfJhHu3BaCshX8xkddtDWM0ginWF6cyVxsvyld4SLK+eyMK8Gh6kTHQ2zoY5kzkKbfzsgjdcSo3MkEsCpmZElmVcm8BIcbb0gkUxm2frkbqrqCpk5r4K9wb3Ec+PN5HN6DrNsIJpLM5IO8+TwJs4sXMVfj+wmlk1hVYyouoaqa0hInFfXjKTCo3e9yPKz5iAbZba/2AqqgbSiolQZWFrRyEg0RSSWwa5YKDAb8Jgt6HKAPLMV2RVnaCTMoH8v1877OF/d+yfcRidJNUs2myOnaZxdNYtv7f8biiTj9lqocWc4ONbPntgoDsVMQaUDIwqapDGqbKHc0sC3dt3NN2d/lCJLAS+ObCeQDlFqK2Jl6TKchmJ+emQTkiRTYc1D13VC2SRdcT8KEv50kmpHAdtHuzm+17189Bl0mWzouj6RwB9jVcx4Tfa3/lILgiAIgiC8CpHEC8L7VEbNsXOsk40jRzgU6sdltLG8aApN7luZb3+CXf5fcGjsITyWBYRjv0fTM9RbphA3FeFP7QMgT24ko5bQEerAqdgpcpbgNdsZjR+gY+xphmJPkVXjeC1TKXVexDTHAuJamI/VLaDOWcSLvnYurpzLX3t3MJoKktOiHA77ORw+BJJEb6yZiyvPwGu1Y1WMTHOXMcVVTLktj7/07iaJygbfEWLZFEPJMIOJEE6jhedHWvlM40q2+jv4W3+Cnx98iiXF9Tw5uP+k12JpUSOF2Dh3cTNP7zhIMpnFabexoKmKK9bNJJn4BUa5mKa6c/jjr/YwFgqjKDIN1bPYfbiTpsYqErEM+/b1ceUnzqU9eC+9o/uIObxEs7DL7+PM8qtBlSg0ZdBxgVxMDhMXVV9ORoODkTEGUknq7edQZOpFJ41MAIuxAod5CUYlH4Dh+B72jfwvsewIGdVCIGZlIJlg8cwLiGScVOdbKSp10xL2o+oaL4yOssS7CEnZy2ish2i6nawaR0WfyC8Lbc186pn7WVXRyIUVi+nsbZ9oSS4Buqaj6zr1VfOJDkM2q9LROowxX6efgYnrGMrEKbR6iEbHa/0Hkv0oXp3Pzj2LX+/bSCCVQAIUSWZ51RSWFTeiDWU478KlpBI5jIqBtecuQtM0SivysJZYSNqyGCImCkeHSOdUJElH01NkJSNLS4vpTXQgmSUiapLBVJBAJsYURw0jqShO2cj1zWcznAxTYHago1NpyyOV66EzNoqm68RyaRJqhpyuIQF+NU6VJ4aGxg9b/8Y0ZwNX1V2BIkFahT907mZmXpoZ7nzMig2bYuQ/Zl6ADDw1dJB9kQHubH2KL009h7/17CV13CwKoXSCAouTJncJ+0L9HP+xpMTkptLqocruPU1vuCAIgiAIwsmJJF4Q3mfi2SjBRJQjiRBf3/cQwUx8YtkLo0e4tHIBF5Wvw2taTyDTy1j8RarzPkNH4NtE0nuxmNeiSDLNBZ/nYMTPD1seYDTlp8hSyOrSecx2F9Ab+hHDiW0cS1AG4psZiu9gdvFXsRlX4Uv1MhCPcF5ZM4UWG77kIGktMTFCvSxJ6LrGVt8+zi2fz2XVC5jmLsVwtD84gHbc4HgOo4VGo4VaRyG6rmNSDJTa8khl/awsrMAoO5jmKGZl8TQ2jhyedD2KzS4urJzL9sNdXHXhQs4+YwaRaBKb1UxtuZuR+KNYmY2Wzae/J8SatfPp7vIRS4Uw2yUuaTqTVCLLQw/tonm6g5c27ad5yVVUTFEZUo9Q7S5Dk2rYMwIpScFpMtFcUEaj28uh8CDbAgMTYwm4jVYKbIupcqxGVcNIkgGDUoAkjZ93POOndexuotnxcQOM5hR2gw2zpDOcfpx1yz5Gb9pINJOmzprHRXVNQIi4HqA+fwU9wR+SUWPoSBMJ/LSiFaTVEkYT27j/yB4+fPYl1JQ30DXYPnGNdHSKC8soL13GlieGJ8ojwSSWPCNG2UBWy5HVsqhaljKrh6FkCItsZluokymWUr5xxmX0x4LEsynK7Xm4dAuPPrGTVCTLZWctIc9sJx5N4XJbKS714HBZJ44z05tjmruEQ8Fh4tksFQ4nWWmQPcHd9MYimGSFBk81mgZF5gISapZGRxGNnmL6k0H2BfvpjI1Sac+nwu4lpw0efX4kNHSUo+PU60Aok0TTYXnxfDqjPvoSYT6//QEyusrakmoWe9OUmDvpyfhYUnINhyMZnhk5jIbO0qIGPly3hB8eeIJkKslXZn+AX7duxCAbuLx2Lh6zDbdxMYPxEP811j3xfrgMFq6ffg4N1gJcFucbfaUFQRAEQRDeEJHEC8L7QFt4mL54EFmW8Jh03IqXe7u3TUrgj3mwbyfz8quZ5f0CW4dvQtUTyHIesVwWt8mBrmvMzvsEz4y08+fuRya2G0366I4Oc03jcuR0H5P7U+toZOgN30utdzp2g5k9wV4ymSwWpZSUOj5VnPSKPtgaOrFsikWFkxN4gBp7ASOpyKQygywDkG924DRaUMlxKNxKICMz4h/luqYVLC6sY+NwK0k1w1xvNUsL6ul+dpg+V5Indj5LscOO22QikI6xLNnAVGM9Ww/8jkwug9XmxmyyMe+sUorz5qJK1QyMpcj4U1x12WJUtYuCIjdFBVGkpJ8acylSNoHduY/qhjVIciU2owm70QTA4sJ6ylQzYz4/2UwGl8dNucmFIltQZMcJ9yac7sKfPDLpuqa0CIVWO4OJAEZ5BJlKFrorKHUEeMn3E9oiLQAsyF/G2Y3/Qk9oB/3hg5gNdmo8q7AaZ3Hxw3+d2OP/tB/mS3M+RW31Pnr6t6FpOhWlsyn0zuPA1sSkeCL9GaZWTKUvPUgkmyKr5RhNhfAYHUxzl7EofxGqmo/ZYMJhNhPblaCtp5+/+raSSKXRGf9gM/i3ELd84hLmTqs74ZwBzAYDzYWlNBeWAjAYC3M4HCeazVJgdrGocAmtkVHMihl/Mk61w0qDu4jfdmxmtqcSu9GMis5IMszG4VaWF8yaeD6PjZ1QJTtQMjJ5lnIyERcrCmayL/gsOS1OnbOQMouZRlsbiu6jO5pmTvE1/M+RF2iLDGIxFNCfTLJ5tJ353mpumHkum0ZaObtoKj9YeCWHo4P8rX8ng8kxTLLOrLxGvjv/MvYHB7EZzEx3lzLTVYbDYjvp+QuCIAiCIJxOIokXhPegvsgwnYkQRyLDaLpOo7uYGpuHX3e8iEmROaesmb2B3lNuvz80wBzPQgDyLPM4MLqJrFSH0zKbtFqGXzfzt96nT9iu2jWVXb5tLMlfAOrfjpa+3Cd4LHWIOkZ5etjHutIZPD90kHWmhuP2cLQmHgldGq8ddRgtJyTwAHXOQloiQ4SzyUnliiQz11uFWTGwIL+JlvAAkYyffYYuHHus6IPwhRUrwSAx1hvjycdf4qJVC5jhMHKhRUEzg27WcZqtVNq9xNNJlsyxM+zfRTTWh9nkxuOZi8Mzg1J3AVOrxo+byQ0RTvSRVaOkknEkScJsHkU++mHBIB3Ga5s2Kda9+/bwxPonaO8Zr/V2OVwsX7qCeYvmU1lWccI557TECWVZLYvLJOM22VG1OLIkU+GM83DXj0lpL1+bnWObORjcw1WNX8Vj/iA53ciD7V3cd+Svk/aXVnOM9Iwyc/Y66mvWkkgk6djvZ8tO/wnHjkVTLLRM4Yitle54LzoWdHRkoMiSxxz3NKxGN7oOwyMhHtmxg1h6fPo8pJdrv0ejEVq6hphWeeI567pOLBchnAmQ0dM4DE7yrfnMVppwmhQiWZX/OvQU5bZ8FCwsLW4g3+Rgk68NDZ2D4QEur17AodAgGS1HfyJEIOdmqmc5LaHn8Rpt5Cft9A+NYZAsGN1TeeCZXeQKZT555pn0ZgOMpqKsLjISSx0iq7pwOUvZHQzTGulHQiKnRXAbHIRyaXYFejijsIEraxbw7EALZS47P2t9ABUVVddJqRLb/XvpjvZz86zLmJl38g8XgiAIgiAIbxeRxAvCe0xneIA/9+3lj13b0I9OcSUhc2nVXD5as4TtwS40fXwO7FPJaTmMskKhpR6LaRYjmZ+R1ZykE024c+WkcyHSWuqE7TRNJaeoxFXb0XrOVw4kJwMyW30dfGHqGp4YOkiJxUO5rZiBxMjRWKWjces0502l2lbAyeSZ7awtm8n+YD/d8fH+3/kmB7O9ldQ5CgGY4a5mcUEzRyLPEM+l2Go8zJz6eh4//BIlkhej08SqS5qZXX/qRMputtJYPp8C7zSS2RSKYsRjsWJWXvHnT9dQtTCypGOzmU+yJ3nSb61tLfzxnrsJRYITZZFYhEefegSzxXzSJN6s5GGQzeS09KTySCZAgdlNrXsq06RGWkK/m5TAH5PUEuwfe4Jq24f52FP3k83kkCQFXR+/3iCxrLgac8aFwzk+BzxZA0P97SfsC8BsMVJqLeZK9+V0xDo4FB7vqjDDPZ16Rx3l9vKJddtig8TS47Xvqq6Nz7/OeE24LMkMjgYm7TudytDeMkRrdxcrl8/DYy5mINzHVjZQaauj0T6LAnMFzwxtJacbKLcVcU/3Dq5pWEa9o5CH+/cA41MVptQcq0um8sTQQZBgh3+APON05hVVYU/10DPSS4V7CWq2lt17VA77e8mOaJTmu0mV52h0FRNNb+NwaBCLYmSG9Qy2jXYA458hsloau9FNNCcBEpt8RzirZCrnVk7le4ceQkVH1TSMsglJMpLRVHoTY2z3dxHP6NRbCylwiVHpBUEQBEF4Z4gkXhDeY/aEBvlD15ZJZToaD/TuosFZxEx3OXaDiSZnCXtCJ6+Nb86rQsq0Mb3o/9Eb2kO5cx3DKTcHw0mWWE8+wjtAT/Qw8wpqQRo96fJS+0IyWiEJNYNRVlAkiUf6DvPPU87nF0ceZSDhG6+gRafJXcvH6s+i3Fl6yuMVWpycVTqNcCaBqus4jWaM8st/lvKsXs4rn4tZsXAg1ENKzVDgzKOwyk0yp5PQMszwnths/WTyrDbyrCc2d85qOSKZFEbZgUEpJKf6Trq9xdgw6feujq5JCfzxXtj8Ao1Tp1BbVYYsW16OwdJIhWMp3ZHnTtjGKHspsU4hmEkxFO845XkMx9uY5s2RZ7PhV2PkVJCRkSSYX1RBg7mIuqqSl4+Z72Du4jp2bm5HVV8eh0AxyMxbXI87z44bOxX2clYWrzjlcW1WMyaDgUQ2g3rceAbHknqv20Eql8ViMJJJZ9n01EFq5hTjNhTw6x2bSOQyzCgpZ1rRSgLBFtqlg8TS+TzvayeRy6EjoQO/aX+R/1t6LfWOIpDGB3B8cnA/8/Nr+af6M+lPBDErJhYUNNIV9dO518HgaAmRWBqLmsCkKOR0jUQuzdY9baysmMVAMoTBkmQsHaPU6kLTZLKaetw56KDrqEejyDc5GEyESWkpDodGkGUHFqNCVksTz738ceVAqJdYWqXTOsqHXUtOee0EQRAEQRBOJ5HEC8J7iC8Z4KmhQ6dc/sTQQRZ7aklmM1xSNZ+u2Cjh3OQa2+VFU2hyFhHUdLaP9CFLjcRz44nXOaXTqLUVMpySsRlsJHIvN++WJBlVj6PjodrupDc0+dhWJZ9y14f52p6NGCQZm2Lii1PPpj3mYzie4v/NvJKBZIBwJk6h2U2lPZ96d9XrOm+36dR9iUvsBczy1pJDQZYgkcsQyIyPGJ5nslH9JkcD13WdztgoewN9jKVjGCSZxfkNWPQRbMrkVg4mQzVmQ82ksoH+AU7FNzZCMpkgmnoRl3UlkmQ4uh8r9XmXISHTF9tMTkshoVBin0Vj3pW4LOXEc4NYlVNPU2ZR7FgNFr615Fye7mtj7+ggBmRWldextLCKRncBDqd10jaN08pwuW309fiJhBK482xUVBdSUuZ53ddrSlkZS5saeXL/+AwBCjI1zgJMsoGknqamqpDhVJgaRwHdnT5q55bwt8N7eHz/PqLZNJlcjkf37WV6eTn/snIt7dGnqbGsQEMnoWZIqhkcBjORXBKTMr7vRwf2Thx/o6+Fjb4WamwFXDhjNo917uWfGs/kvsAwmYiGosqMZKKk1AzBzPhz7Y9GkXLQnxxjnmcqsBGDDGi9zMirYGhovIuBUTaTUMc/blXYvNQ5C3lq6ABLC+twGh0EMxGSuRw2gxmJ8VYUdoONfLOHhQV1bB49wr7RXozxBOiQ5/FSklf0uq+tIAiCIAjCGyGSeEF4Dwllk/hT44PV2RQTbtN4s/ZoNkU0l2IsGSWhZdkZ7mJFYSP/3nwBTwweoDU8hMNo4aySaSwvaqTdP0KfFp60b6/JTqOrlDyzDT2b4qKqtdzb+fBEk31ZUgCVeqeLcvsUvKbb8MefIavFcFlmkmc9k0cGMvSkgqwsmYqKRlfcj9dkx2gwgmTl7LL5R+cpP72OjWy/L9CHTgazbKDWUUhzXsWrfgB4NR1RH88MH56oVc7qKpvHdGa5FlFtCqLoPpCM2IwzsBibThiozu12n3LfdqsNk9FIMrMfq2kKJkPlxDKPpZJZRZ+mwnUWGTWEQbbjNjdgNY6Pal7qKKPBcwYdsSMn3Xdj3hkU20rRCHGuoY4lZWXYjWYq7R6qnSfvuiBJEiXleZSU572hazT5nMxcsGoBwViCZCCNx2RlJBFBN+hctHoRSp6BWGa8i8aQb5RMTubx/XsJpBIcnbQATdc50N/PXw/u5tPLLiauBJnnreaJwQMcCPazuLCWJ4YO8tkX/o/vLf4oh8MDdMYm9+VfWtRANqfSmh4hQZaMWWWHvwsAgyRTZc/HRxSAAqcTTdawGcyEs15m5M0jkj7MS2MPcWbR19jhbyeSjWOUXfiO9vU/s6ABp8HCtngX4UyK6Z4Knhs+jN1oJZlL4TQ6kTASyaaocRRxx95HWVJSR0ZXaT14kOd3b6SmpI6VS5dTXFiBwWqlRDS1FwRBEAThNBJJvCC8hxSabDS6isjqOdJqjkAmjq7reEw2iq1uqu1e3CYLzw0dpsaeT7lk5/rGs4lpSYyykUqrG6vJSKHFgSvsoyfuR5IkGhxFTHWPJ/AAJquD5QXTKLHmsXFkD/5UgCJrISuKp1Jt7CQY/RVW4yVU5d1GWk3QHovy+RfvQZHdzM+v5SO1i3GbbJRaPSiyTKHZNbHvt4NBVpjmLqXWXkAsl8Igy3hMp66tfi0ZNcueYN+kZuEAGS3HrhCYlGZme0uQJAVJMk4sD6YTpNQMFsXElKlT2PDCBnK53An7nz9nIflFMllNI5MbnpTEAxgVM0X2maeMr9g2j+a8w+wLbp1UfmbReVhN83m49yUASi1uKkxObth3PyUWF99ovpgqd+EbvRyvmznPxHWXraalfYC9HT1UKQVkrSp/9e1CS8l8asYqAObPm8Kdzz9JJJOeSOCPt6n1MOdNa6ai2MSZRY3s9vcwnIpQkHRwQflsdox18mz/Qb4660L2h/rZG+zDbrCwrLCBKquHqzf/EpNs4O6upzh77mKePniAnK6R0zWymorTaCGaTbFoTiNDIT+mPCu/OLKd7y28mkRqB+2hpyD7PP8643yeGxlg40gnXqPCqtKpLCis5f7uHaRzWfpyQS4vmkdndJT2qA+PyYpBMjOYHOOSyoV0hEfpjo8x2B1iOBHhM0tWEUwE2XlgB11/6eK6y/8J1evlUGSYrJal2OKk2OKk1PXaH1OGYgOkcn6QZNzGUtLZCBbFS57Dc3pvqnBaRBIJfLE4Bml8bJFoIonVbGZKWRmapk0MkCkIgiAIp4Ok6yf7V6x/bJFIBLfbTTgcxiVqUIR32MbhFm556UEir2gmb5GNfHPupeipNAO5OA32Uh7rP0hPNIiuSywsqmRtRSUlxi0g6eO1x0odsuTFYjBO2te+YD8v+I5QobhZWlxFUo9jk+wE0o8zEvs9+SYHJtmAopSSkC6iL2kmpSkUWQuY4iyhwPrOzIWdUdOMZUbwZ4bRdJV8UzH55hKsylv7YNAeGuHenm0okoz7JB8f8k0OrqxZODF4YDST5KVgH22RYdJaDrNs4CxPA537DvGXR/5KJvPyQHXTGqdz4cUXYPc8DIDDciYOy6I3HGNftJtIpoPB+D5Aotq5hAMRiTsPbSCYTQI6eUYr1zYsZ423CV+3j/bWPnI5lbqGcsprC6kqnTy43nCgh0i6H01XsZuKKPU0YDC8/m+54Uycba1t/MeT92OQZXKadnR8esjPczFnZj03zDwHt2zj6+sfYv3B/SfdjyzJfOfyq5hT5SWlGjkUGmLzaDt7gr14TXbOLZ9FnaMAk2xkqrMYo/Hl5/eezi3ccfAxAOZ5S/hy/QdpPTTAb5/eSDCVREZiiqeIRbMaMdaZGEn6UKx2ShweZrjLmGIzMJrcgapLDKccNLrnM5gKIUsyBklhi7+De3u2k8xlMMkGquz5nFM6jbSWpTs+Rr7JTonVzZHQMI/2H8BmMJNWcxgkhS9OO4u8pJEXnnyAgdAIS6cuYeGaNXx1x9NM9RRSaXHiDweo9eQzo7AcxadQ31DCWGCETErDbLdgcSmE1BYOjD1KZ6QVg2Rgat58puV/AHu6lIxpBEuunEAygdtmp6Tg5K0vhLdfKpWiJeIjraq4zGYyKZWRziAdeweJjMax2o1Mn11FZVUBnkIjGWUY0DDJbopdYlYDQRAE4USvNw8VNfGC8DbJaSqyJL3h5uU5VeWqmkU8NrCXgWQIgGKzi/Mqmklm0jS4SzAkY9y842HSRwfnMsrQ1dnLvrFSbmqeR75hI3F1CwalDY/tg8DkfuP+9Hhz4341zP2DLydaS71TsJumourjA+ap6hBmfs50WyMO60WEMj2kcmOE09W4zacesO50SKspDkV24UsPTpQNp/pxG/KY6V6Ew/jGP7CNJIJs9nfRGfWxYfgwkiTT6Cyiyp6P57hk3iDLEwl8Vsvx4mjbpGbdaS3H44EW1s6cwmfLP8tA7wCpVIqS0hKKy4sw29YfXVPGaCh+U+df6awBapiRvwaAR3r3cPvev0wkzQDBbJJHu/fiGDHyyM8fJJN7+WPCgjlzueRDq6itriGdydA5uomdXQ8yFh0fuM9hcTC39jwaCtbidry+ZvZyHLZ1th0d0V2dtCwYitLjG6Uz7qfJUMz00nKeOHSAk30nnl5RjtFgQJJkyu1eiiwumj0VBLMJzLJCrevU/clLbXlIyOho+FJJ/qfrr3ym4QN8o+ZDDPuCaJpOUYEbcxbiWoDlU+axI+gjkkuj6joOSznhXBe94fUo6gzu3P1D6jxTWVS+nC1jHbww2o4/HQMgrmYIhuJEs0m8RjtVDi/l1jy+tecxTIqCxWBiLBXHrBhJqFl2+ruZbqumetZ8/NueoXOwi+WqiqLqPNa+F4Mkc37NdB5v28PW1kN8eeF5PPLnZ9ix5QCZLBRVFnHOBTPpsT1GMDeARbYhI9EVPsBwopOzKv+FaLoHt0nltoefodSbz9kzZjO/vJbignz8oSESyT40LYPJVEhJQePb0r3l75mmawQyPkbTQ2TUFC5jHgXmUpzGyd1n9o328WhPC+t7D5HVVModeZznbqJr+wA7dncwvbAEBlRKS71MWajTGThI/1CIcDiJ11VIY6WPUm8NPakchRY7FU4P8qvMOCIIgiAIxxNJvCCcZqOpKO2REbrjfmRJZoqzmHpnES6T9TW39SeD3NvzArW2Mi6vWkBO19DQMUsKwXSCe3qe57bmK/hj+66JBF5CAj2LrmscDg1wIDSdlQUOIEZO9ZPKtuJQlk46jk0xnfT42wIJFuR9lGLrMNnsLnQdLKZ5hLNhtgz9Ee1o/3m70cM07xWUOprf2sV6FSOpvkkJ/DHhXJD+ZAdTjXPf0P6y2SyPDhzgp60bqLR5KbPlcSA0wFg6RjibZL63GptxfGq5RufLifdwMkJXbOyk+3wq1MH5Fc0sqVZR037S7AZeHizQapqGSSl7Q3GezGA0wOOD+46OXzA+PzuAIsl4Uzae7N5PY81shvr9SHqOQLqPnXteoqq6lNrqGgaC+9hw8Ndk1ezEPmOpGM8fvh9Lsxu349zXFUckGCeWSaNIErrOxBRzR+cjJBlLoeqQl+dkZlE59UVFtI+MTNqHQZY5d2YzFksWq2G8S4RRMVBsd1PMqccZOKbGnse5ZTN4fHA/g4koTqOX+0Y3UarYqaAYYyyNPz1CfrlOaUEl3ek04VwKCSixupBlmTLHMjTdw1i8jbPLzqAlFKQ/FeRgcAAdHYtsIKXlJq5zd9xPYb6TlJrlcGgYk6LgNFoIZlJYDCZyqoqmaRhlA1lNZdtIN3XlteTCCRRFoT04DICq67w0OkCt1c3l1XN54A/P0HawnVxWR7HbyaZ1Hl3/GNMXNpAqGiKaHf/YJiPj0cGX2EeD9TwGMxv44przuf3B+2jtGeGLHziP6dk2jnTdR/fwHnRdw+sqY/GsG3C5pqMAJosZo6y8rvv8jyarBlHVIJquEk1ayCohnJKBpO7iSGw/PYkjNLuX4DWPf1xqCw7y0wObea7/CB6rjXAmTV48w0/2buSDdTOYHazgwO5ezjpzOovPc9HSv41NL7QxFj42m8URnjfu4spzPkxDaSM373iKleUNnF/dRL71zXcTEgRBEP5xiCReEE6j4WSYZwcOE1RfTuS2pGN0xkY5p3TGCYm8qiVJ5zpJZVvQtRQaM7ApRh4b3DqRMB+v1OolkcuyL9A/UaZIOjov98veNdrP2pIKsmofmm4inRvEpmeRj+vbXWH3sifYi/aKWlIN6EooNOd/AJNyEelsjL2jv2YkOXme8Xg2xOGxP2E1FOKxnP4aeVVXGUh1n3L5UKqfavuUVx3F/ZUORga5p2sbAP2JAOvKZjKQCBLMJGgND1Ftz6fKaKbU4qbW8XIT5WAmMan2+3g6OqFskgr7VFJyC2pmAFXTkWUrNuNMLKYZk/rUv1mhbJL++PHT2Y1nzVMcxcQ6Y+SSSVSrhj/Vh81gJ89SQyoXZNvWvSxePoOU1MnUsmbGYiFGwr2o2svJfMvgBkqd8/G6Xrsvvabr1FkLeO5o9j5Rb3j08pQ43BSbx7tazK6t5oY15/Lgvp0833KEdC7L9Ipyzp05m+I8NwVOw5vqFlHjLOaa+jMotDh5bGAvreEAZsnMoqpaprscaNoYRsmGTSplm2+YQcZbUJRb8hhIhLinaxsjqQjz86tx6bUM7hrl0rXreCbYwq6xHs4um85wIoxFyxHJjndpsShGTLKBhfk17Bntx4wBCRlJh3Q2O9HaYFZeBc8fOkLvmI8Z1VOoL28kHIUzihp4wdcGwFAswtLqSrSxLPv2HcZqMGOymInlklgdRoaSQXbtiLP4gzNp4YXx645GMB1nNN5Kk+dCzGqMwrJR7rzmcn782AtMLdLYtu+HhGJHW1nYq2io+wYbd/ez88CDlBfkMbuuEqPRQM6iM7OylLgUIaunMUlW6gpf3ywSf08ymRx+X5CBvl56ew7gdOcx+4wSgpmnGEmMT/FZZFvMHMdaOmNRWqN7WWBchVE20h4O8Vz/ERRZRtN1VE3DkJPJZHNs7GvnstrpHNzTS2V1AbHMEDt29h2XwI9LZVM8umk9n7iwhJSa47ctO/EnY1zW0Ey10/MuXBFBEATh/UQk8YJwGoRSYQLpLoKpbmrsaWYYy/CnbbTExkeIH0lFaI/6mJdfPbGNqiWJJp8llW0BJDKam5jWy7LCGoaSY/QngvCK5HFJYRNW2YxBVk5oznyMyWDEl3ayxZ+hLz5CvsXLbO9hprqryLd6ACizulmUX8d2fyfaccewK2bOKKrHpIwnnsF0FyPJk89ZHs9FiGS63pYkXtc1ssclmq+k6TlULQdvoGJxKBkmkBkf+V8HnhtuYVlRIyk1Q088gN1gZllhA3WOQpzHfWwxvMaAVAZZRpZM2MzNWExNaFoSWbJMmh/+rcoz2iixuuiKTx6pvcbmoC01QJ7ZQmI4QU7XiGSjJHNJ8i3l5NIpkolOfLm7iKYCeOyVlOXN51B/G4nM+LM5FhkhkQnh5bWTeG+Ri+KDThrzS2gbG560TJZkzmuYTYP75VYMi2vrKfO4+eCMuSRzWYwGBbsNCp0mqhxvPnGc7imnzpLPmpKpJNUcdoOR2d4aALKaSkfUx+bQABElSZ5io85WiC8T4Yvb/0hWH39vnhk+zLWly0j64/S0D+MqsTHVU4RZlqh1eumNj5Fn8pJSc8RzafItdqqyLgorZrB9tJOYmiGrvvwOnl/VjJaT8Y8Nouk6Xmc+05qmc91X7+X8tXMIe8s5EBhEQWZKXik924cAZbw1g6yg5TR0VQJJIhKLIifrJj3fOjq6ZMKoG0jnWgmkOtjePsi/X3o9wcAhwonRiXWnNXydO//wJId6Bzhr1jS6W0d49K+7KHA5WDq3mu2GLZTPcrA3+yJ5dhfL4itocMykuqD8Td+T94tIPIFvMEgynuWlre0c2NOG22vlEzcW0Tb6dcLZAXQZVDRCmT7c8S1MK7ydPbFuItkA+eZijoTGr7VBHh+8kuNawSczWdKSit1mpqmpHH9gFwO+4ZPGMhYbYtgX5Nqpzdy6fRO7RvupPDpwoUjkBUEQhFcjknhBeIuCiTE6o0+zeeh+Irkkuq4jITG3cCXzPOvYHRpvit0WHWa2txLlaB/VTK57vAZeN9OeLOJ5Xycd0b0sLz6LYkseZsVG9/9n77/D5LjS+178U1VdnXOemZ6cA3IGCYIEM5dxuVm7K2mlXVmSLcmyLUvWvbbkn7yS9btXlmzLq+TVrlfiZm4ilzmTIHIGBjODyXmmZzrnrqr7RwMzGMyABIhM9ud58DyYc6qrT4eqPt9z3vf7JidRNAUBgZDZx90VnVRaHWzz1/PmVGl3XEVAQkJDRRREtvjq+Nrpb5BQSqG4M7kiz098l4/X7uSJmm04DDZEQWStuxq/0cZoap6MksdjsFFjceMyLO5uF9QUFy4knE+uGLto35UgCTqcsoeMklqx3yzZMFzmLu6FucFZtcirU904ZRM+o5317lrWupcLy4DRjl7UkVeXu9DrRR0B42JuvigYECXDZY3rUqiwuXigahXvhgc4F8ReZXaQ12axOYy0ixUcHD64cHxBK6KoMWqDFRgsc8ip0oJCOjdKNj9NW+XHODx0EA0Vm9mOQXdpEQ0Wm4muhhqKKByyujkwPUSqkKPO4eXxzo3cFmpZ9phql5eQ00OqmEDVVAySEYN05Qscki5Oo3mEXKG0yJTINGPUtyFLPtocFTTafGSKBfSijuORUf7s+M8XBPw5XomepsPoo/v4BGsa6pnOhjkWPcN6dwNr3VUMJeYJmuyEzB4eC63ja3/6HF/9vz/JH294nP1zQ+yZGcQqG9jqa8IsGtjdcxqDzsimtnVsal/Nv/7PPwYEXnj9BE98eiMn5ifo8lYSSygY5ZJCF0UJk9GAIEgkYkWc7iDTySFEUUQURDRNW4gE8ZvXE01GkcgyNJNjJjpBOPkiqIvlD+9Y/295Zd8ZTo2MU+N3k48UOHZyGICQ1854aoCxxATd03q239vFoci7jES+zaPtjxKwPoTRePUWn24mCoUixWKOsXAUVa9htZh46Mn1bN5Vh6hLUtCeRSdO4DIYKGgCsWIaDYgVxolkXqPJ/DCKVroHmM8ahaqahk4QQIOcTsGkl0HVEAWRVDpXSrMoyiv6QgBIoo50uoBbduE2mkkVCiQKOQ7NjBGy2JFWWECcT0QwiHoslnLYfZkyZcp8lCmL+DJlrpDZ7EleG/smgiBxrp6Whsah2de5syqAV99OOJ+kqKqomoZ0dtcmW+gDBPozfr7R/zY5JQ/Am1OvsD1wF5GCTIXJRSyfZrWrltWuakT0ZNUin2xYy+noFDPZZOmcooxAkftCa8iqswsCXieYyKlm8uoc3x96jS5nDRt9bUBJ1IYsbkIW97LXlMhnOB2bQtMM2AwbEbVxYvnJJcfIogmL/oOZtr0fgiBQaaplJjeOcoHwEhCosTQhi5cXpl5tcVFpcjCRWbrwEC1kyCp5vEbrio/zGKxs9taze/bMkvQDURDY4q3HY1j5cVebdY4avtKyk2/17yajFHHKBpKFIR5c/SCnnj69ZFdYEkQU0mzb2YHBfBinWkM4NoEGqFqeotqDyxJkPjVBS8UOfM7lefvj0TmShRxevRGPY/E70tgZwmQ2UNnnZLO5Dp1JR23QR0tdCINpZa8FQRA+kBHhxSgUp4mkf4aqxhfaUrn9ZAt9OC2PIEs+ZFGHrC/9xA0kwySU3LLzjGYirKutZlNrMz+eeIvtviaeGTvCofkB9KJMg8WHoBVos/nRxRR+718+zO995Ske+exaPnvfelqtVcxlUpyZmyaX0zDrnVgqnAQLZv7xH/eSLhbQ0MhlC6hxFZfBzDZvE994aw9f3XYXVYFKchmN6FwG2WAiIxZwuGtprJJIm8dRM6WFOTRY5d2GQC0F+SRS3syJkdMAzMZGqXdvWnhNitjF28dK7v0dVVXseb1noc/pkeiJTaLTiWRzWdJhMFpMZJUMrw28SpOtk3Zj61X7nG4WZufGCacFTg1NcqJ7lOnJCBUBF1vWNtJaG6SQLhDL7CevJhEFARkDTtlKpFBaRAyn91BnfBjj2fSdNpcfg6gjpxSx6o0gwGwxSVWVGymhQbxIOp3ntVdO8OBnq9FJOorK8kVAt6kGl9XNixOnMEgikighiSLjqRiRXAbv2fz4TDFP/2APp06dZGR8BKvVxpquNYRqqqn2Vi87b5kyZcqU+fBTFvFlylwhI4l3UVCQAEmUKJ4X5n56/i06fV2E81Bn8S4xltK0PAXNztszQwsCHiCvFnh98kVCli3cW7URQdMI59Mcj5VM3mRBYmegjT/Z+DHemR7iyNwYJknP3VWNNNqN/HX3X6ITDMiSmyIORs/mUitakd74+IKIvxgnI+N8e2gv70z34jaYqDBEaLA52OxeQyR7FIPkRpAamcsLHI4ozOZHl+3gXw28hiBd9k30p06RLJbEmlE0UW9po8J4+aHYHc4qfrlpB///k8+RP+8zEoFfatpBm+3iBnSrnCGcspn+5CyRfAqX3kKj1Uf1Cgsg14o6p5/PSltY765jIh3FLOmwigFmku+yaccGksk0I2OlhZaAx839D66htisC5LEaAtR42xmb70FRVbKFcRzmTVR7G6lx3LbkeYbmpjkRneTFoRNMpWKEbG7ure1glStIyBVAEASqGvxU1vso5IpIsoQkXV8H9HT+6BIBfw5FjZLJn0Q23bmkPXPe9XU+GhpvKn3cb2jl5cmjtNqq+GTdJnqi08TTeaSMjpDZgz4u8OruQ9itJv79//MIX/0Pz/Daq31su7+NQlCkqAkkYjmG+8K0O3wcPjJJdD5FZ02QuJYnls0Qsjv4bOUmjo5Msba2BrvbSWNzA8//bA+SICJkVGaicTKZPL/62w9T8J3GnJKQBD0+yxqmYzbEtIG49iZvHDm18BqODQ3QWfXAwm6vomoLglEWJdLZ0uKFxWAgp6bRNA2R0ucVi6QxuYxkMxkSuSTxwsoGjrcykWiCeE5iz7E+vv29d0imsgAcOT7My28c5ze/cB/3bWtCia8lzunSoqGQQxZkdIJEUVMQBRFR0GHTlYwXW2wO/tWanfzl0ddIFXK4DCZi+SwZS5F/uep2zrwzyuquGgqZIg6Tj+0du3jz+ItLxmWRnVS7VmGxWIhHFWK5HC1OL3pRRIOF6Iu8WuRU9zGe+um3SGaTC48/3HeAezffj7BNJPQRSIMoU6ZMmTJLKYv4MmWugFQhRbJQyo9UNAVZlFFUZSEAPZqfRy8qmCU9zfalu9Z6XQ1j6T4GEpNciEEyM53L8b2hA+wMtBAvZhf6CprCmzOneax6HRv8tSTyGXSChEnWs3vqBEXqUNGYyWTJKEtzqHMrhISfz0Qqwt/3vcm+8AAAk5kkboOf07ExCqrCHb5ORjNGjoSHcRvbMBcTDKcTHJk3cG9lJ5Vm52W+g+9N0FSNW+8nUYyioWHVOTBK7+/yfzHuq+zArbfw2vRphpNhfEY7u4LtbHTX4jBe/LyCIFBj9VBj9Xzg574aeGw2tttKxnHRaJTDyW6OR/didnaz4xd3Ikfb0DQwuVLUVoyhlxU0DQyyAa+1DZPeT64YRRIdOE1PYjXU4TyvvNxsfJYXx7r52sFXF9r6wtO8MXSa39p8L58y2jGZSu+TIAik1Ry5VBGnwYTBcPXTCFaiqCTIFQYv2p8rnEExbEESFz/PGsvFP7eiqpBT8yBAT3KciUyErfpOzPEUqVSGt8NHUCtyjOydpGNtiDdePMYfffVJ/uj/eprEbAbFCO0BN07RwosHsxx5u59MJo8kSSRPTlBf70Mq6vA7LBTtCm2an5FomBcPn0LUa3zy87vo75kkEk8TrHJRVefj9OwMeyJRah0bKSoKE/2zfLqunoL0OsMjE2SLOQRB4O5V29FrDUxNVLCq4X/g9dqxGBTWNtYyMjuPgobRoCeby1NUFERBQqeTFqI27HYTscJihIIkfrimBGeGJ8hn54goJn7280MLAv4chYLCN3/wJs21fvRSC0ZdJTlhCg0FRctglmzEiwpe8+14TDULZSd7MxEerGmk3u7m7ckB5rJp2lwBOtxBMok8XVvruH1dE3NTCV7+YQ93PrIVg87Fyf6jFIpZzHoflZ461rc189P4ESRNR43NydZgLdFclqDZjutsycuZ+SlefvPFJQL+HK8ceInmpub3FPHZYpHpdIKcWsQmGwiYbeVSdmXKlCnzIeDD9Ytdpsx1xiJbcBpqgFKtdUXNYdQZKKgqiqrgN1WgE2w8WFmF37Q0nNggNyKLo7TZWqm1rgNBIK+WBH+ymOLZqVNoQpElrklnyasKE+kYPqN9iQmb22Ajp2jM5aMrjrfR9t4mdH2J6QUBf45T0QgV5iByWkKQbmMkfYKAeQPyeXnNKSXHntl+HgmtQZau7m0lW1TJ5ibQSJHLWfEa2j+wYLTKJu6saOM2byPRYhqbzoRRXjkE/GbnaHaKSstGGu3H6Y8f50jxZ3D2pbTru+gyPISm7F84XtbJOHUBIIDZsBG7aXmJvv54jG8ee2tZu6ppfPP4W3S5qthgqqd/ZppjPSO8c7SbVDZHe20VW1e3srm18Vq93AWEs/uUF0PTVLigskO9xc19FZ28OHly2fGfrtuCS2/HJplIFDM4VSf7u3uJxRb9GFw6G/unTsERjWCDg0g8hr/ew56Tg5jmZNZ0VtM7PEmF28nh3HApMkHQKCgqo+PzfPbTW3k5f5JXT3fzZPV2vLKVAyd7mIjEcOgM3NfZTjav40RkhleO9rGqMsQ9D6xiMhNDZ5CocXnwuWaYCp9iaHoSAXh4w0MM9to5cKCfM9P9RNIJGiur+PgDd3Hfbat4+0Qfp8bH6Wir4tDRQXLFInrM6HQ6stkCelmPJSCRTpYqaYRclbj1wavxEd005FGxmq2cPjPH1HRkxWMi8RQT4xEqvY1grEeny1DQzQMqoiDgMTTjMN2xxMchpxb56dnv0u+v2YUoiuTzefpmhhncv59EeJqgrxFZZ8bpMbH75ZN0rWthXetqUqk8SlHB5jTweqqXOmeQdEFhrcfIXDaFomls9FctGGrOz80xMLWyuaiqqgwOD9FY3UbPiXGUooov4CBY6cRkMTCWiJLXkmTUKKImkcrbeSM8wYaKOuz6D6f3wZWQzJUWecyyHvF9DE3LlClT5kZTFvFlylwG0+kYPfEpovk0VtlAky1AtW0LR8Mvk1VzaGgU1Sw6QYcsSaz13o9JdnMyPs6p+ATVFjdVJhcmnYwseai37aLDPcY3e97h1FwpXN5mMPBw3Vo+XrmO0XyU9Aq5vLByiHCbq5bHam/n633PLOvb4uui0bZ0kp5XCkxl4sSLGfSCjuns8hBlDZhIJwhnJUYzGcwXyYOfzsaZySaosrhW7P8gTCVPE079mP7Ii2SUOGbJQYPrfjzmx6iwffDcXVmW8cnvX5P8ZqbW6iU8F2Nr8JdpcvYwljwMmkatfR1eUzt6nRWESfLFsSWP00kBzPquFc85no6QLqxcFSCSzjCRjuIOz/Dt597huaNHAZAEgZHwHLtP9vIrj9+NtdJIjdVLpcm5sHN5NRFFG3pd1VlPieUY5FokcWlqR709wC813k6l2clzY8eYziWot3h4vGYDO3wt+AwmHgpt5gcjbyNkBYqFxXSLWpef5GASRVWZmJinZVUl0UiSkz0T2FwGHIqJ2fEkbw328njbej736W0cOjTEVDiGx21lw/p6bM0mfjp6BKNkYG+4n0fda3lXVcgrCposcGxojDktTjRfEtSjyQhvzPSxLz6Mpmk8XLOaRy3rGJ1ygSBS769getTL628eJV1wEUmXIm76J8b5X0/9kH//lS/wh7/yKM+/dQyLXs+avEoylkHWWag1NDAsDrF5Wwu9uUMAWPUWHmx4BKd0ffwdrgfpTJ54PIMm5y9c01lGoaAQj5jxVn4WyXCUgm4vAmAx3YXZsJ2AZc2S4ytMDnrjJcf5rw/vXmhvFxyMTQ4hpnNEpvcteUzv6VfZtG0Ha+/ZynQ2QlpU+Zh3FQPxGL2xMHO5NFVWB6u9FdTaFu+hykWqkJyjWCwgCCqnjo4C0HNyHH/Aweqd9Uwop3hr5lV6En3Ioswq5ypu9+7i6MQYt9U2lnfkzzIYn6Y3Psu+uX6SxQKrXZV0OapYc7aajKZpCIJAeD6GyaBDEAROTk5S5/Ti89zavyNlypS5dSmL+DJlLpHj86N8vf9t3p7uXZgTrnFX869b7+Ge6t9k79RTzOZKEzujZGRL4AlixWr2R3tQNJWiptIdm6Da7KHDUUFayZPPFPiHE68zlFrMRY3ncjzVs5dfW7WThytX8dJM94rjcepXdme/O7gGi87IcxP7GUtO45Ct7KxYw53+Lqos/oXjIrk0b830MJ6OLOxrhkwuFFQklu9CSIKIIFx8d0JDW+b+fSXMJqcYj/0jfdFXFtrSSowT4e/R6ooji7+F97zX81GjzuplIh3lL3v28OddT1Bv2Y4kCogFGC3GaXQEKaoPki8Okyv0o6Fg1DVi0NUjSR/cZO7M0NSCgBcFcOhNRPNpIvk0z7x1kLseWsWx6DjbfU10OauuupAXBAGTYS254gialrugz4jpIgsUXa4qulxV3B1sJ6sUsOgM1Fo8HI2O8dZsL/cG1mEQZd7tOYMgCMiijo5ADS1KBc+/vCjIVEXDaDRQLCqYTXrm5hLUhDwIwMmJcRJahm1bW2hTKkkqWd4O91EVdaKhoWoqvclJdNXrWNVYzcR8DA2NoWiEddUVHJobJq8qhKq9nMnPoWkaOk1gh7+JHz//Lru2/jLN/ocwG0x89zsHmYgZiWWXpsykshn2HTrFFz/xACGvk0g6g36XSCaZ5+ixQTrauzB5bqcvdwQtXUeFtYoWRwde/PQNj6LrDROeTaIqGqJewuoxUVHtpsrnwqC7daYMxWKRnF5l9Pg8NS0VmIx6MtnlC58eh5VKv5ORgWGO9h1FIc/HH/8KdrsPl3nNCmeGarMbl95M5Oyiyzmm5AKb1m5m3+tvLHuMpJNpbmuiyuqjyrpYzjFgcbHKU4GChk02LBPWToeToKuCqcjytCuA2upa3nnt1JK2TCHPhNrLNwe/TkEtoFHyWjk4f4jh5BBfqP8yh0dH2FBTu+I5PyiD0WlmcsmSb4bRQZX9xqYfnSOVnyeS6SOeG0In6nEYGnGaGjHoLAwlZvjhyGH+z2BpMUYEXpg4Ros9yL/reID8fIF4JkNdjZeJbIxjk6MUNIVORwibpGd+LEVr6OJ+KmXKlClzrbh1fpHLlLmBzKSjfGPgHd6c7l3SfnR+lD87+Rz/Zc3Hube2gVRhHFVTMMt+Enk7ZxKTZJQCBkmH32BjNpvkhYnjzOeT3OVq5dX5IQamZ7HZTGgGyKkFBASMksxrg6e43d204nicejNVZ2u+X4jH5ORj1VtY564nkkti1BlotC/NmVQ1lb3h/rO16BfxGm2lceaSiBeE8VeZXdSYXcyssFsPYBB12HRXL0Qzr/ZxJvrawt8CAgZBh6AJjEXexG96kIzgwGS+PrnYV5NEPkM4X6os4DFYL7ogczFUVSUWSdOCn3/TfB9vRQeYzSXwG+202oOss5Um5zrRhk7fddGd9wupNDsxyjLZFXbjnSYTFSYHr+w5vtBm0RlIFLIoZ03VDg8NcU96NYpeZc9sPwGjfVkaydXAoKvGaXmEdO4w+eL4QpvZsA697r1NvtacLSOYLuZ4afIk4+koAC9N9/K5wFZW0UifNEY0nGTg4DjPndyLqpWW7UwmPT6Pk4qQG5vNRFbJky0Uqa5z4+gxUVCKzGYSHJ0a49j8CJqmsbWpkQG15JtR1IrIop7B9Czr1tbSPTCBrIpoRo1CUaPTWcV4PoKrzs7Q3BlCVhdfbtvBKkcV3xn9ew5NHGRr3XbWruriQP8A8ezKJRhHJiZJ5TL8zz96hmMHh862CugNIj+TC7R0VfPH/+8vIooihUKBz/32f8JoMqATvXz6gTt45tvv0t8/jdtlZdX6OlS7jicf24SqqKhpDYNdR05QMcgSbpuZqVgMWdLRWXfzOKXbbWZyYppQ0EdlwMmnH9zCN3/89pJyb0a9zH0bOwkF7XSfDhOen8RksKAWzBiFuoufW2/inmAnB+YHGU3NU9RULDo9rfYKQuvryUSSnDh2GPWs94DRbOGue++lvnHl+7lVf/F7mN9XyV1b7+Z7LzyFoi4NKVjduI5gsILTe5aG26/ZGeKZ8LcXBPz5hPPznEmcoqq4kVQmh8V05ffP6ViEA7FRvj90gIOzQ8iixI5