{
 "cells": [
  {
   "cell_type": "code",
   "execution_count": 1,
   "metadata": {},
   "outputs": [],
   "source": [
    "import pandas as pd"
   ]
  },
  {
   "cell_type": "code",
   "execution_count": 8,
   "metadata": {},
   "outputs": [],
   "source": [
    "file_path = \"../data/raw/african_conflicts.csv\""
   ]
  },
  {
   "cell_type": "code",
   "execution_count": 17,
   "metadata": {},
   "outputs": [
    {
     "name": "stderr",
     "output_type": "stream",
     "text": [
      "/var/folders/gg/y7njvgln6bd7wj2ygfmd_r580000gn/T/ipykernel_58675/67583881.py:1: DtypeWarning: Columns (21,23) have mixed types. Specify dtype option on import or set low_memory=False.\n",
      "  df = pd.read_csv(\"../data/raw/african_conflicts.csv\", encoding=\"ISO-8859-1\")\n"
     ]
    }
   ],
   "source": [
    "df = pd.read_csv(\"../data/raw/african_conflicts.csv\", encoding=\"ISO-8859-1\")\n",
    "#To load the file, I had to modify the pd.read by setting an specific encoding, this is because if not, and 'UnicodeDecodeError' happens due to Pandas was trying to read the file with \n",
    "#utf-8  encodiung, but because the file contains special characters that are encoded differntely. "
   ]
  },
  {
   "cell_type": "code",
   "execution_count": null,
   "metadata": {},
   "outputs": [],
   "source": []
  }
 ],
 "metadata": {
  "kernelspec": {
   "display_name": "Python 3",
   "language": "python",
   "name": "python3"
  },
  "language_info": {
   "codemirror_mode": {
    "name": "ipython",
    "version": 3
   },
   "file_extension": ".py",
   "mimetype": "text/x-python",
   "name": "python",
   "nbconvert_exporter": "python",
   "pygments_lexer": "ipython3",
   "version": "3.12.2"
  }
 },
 "nbformat": 4,
 "nbformat_minor": 2
}
